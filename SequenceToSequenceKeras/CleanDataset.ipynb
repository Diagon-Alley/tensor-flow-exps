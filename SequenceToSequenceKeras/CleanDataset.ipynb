{
 "cells": [
  {
   "cell_type": "code",
   "execution_count": 2,
   "metadata": {},
   "outputs": [],
   "source": [
    "import pandas as pd\n",
    "import numpy as np\n",
    "import os"
   ]
  },
  {
   "cell_type": "code",
   "execution_count": 3,
   "metadata": {},
   "outputs": [],
   "source": [
    "dataset_path = os.path.join(os.path.dirname(os.getcwd()), \"datasets\", \"movie-corpus\", \"a_b_conversations.tsv\")\n",
    "dataset_pd = pd.read_csv(dataset_path, sep=\"\\t\", names=[\"row\", \"A\", \"B\"], skiprows=[0])"
   ]
  },
  {
   "cell_type": "code",
   "execution_count": 4,
   "metadata": {},
   "outputs": [
    {
     "data": {
      "text/html": [
       "<div>\n",
       "<style scoped>\n",
       "    .dataframe tbody tr th:only-of-type {\n",
       "        vertical-align: middle;\n",
       "    }\n",
       "\n",
       "    .dataframe tbody tr th {\n",
       "        vertical-align: top;\n",
       "    }\n",
       "\n",
       "    .dataframe thead th {\n",
       "        text-align: right;\n",
       "    }\n",
       "</style>\n",
       "<table border=\"1\" class=\"dataframe\">\n",
       "  <thead>\n",
       "    <tr style=\"text-align: right;\">\n",
       "      <th></th>\n",
       "      <th>row</th>\n",
       "      <th>A</th>\n",
       "      <th>B</th>\n",
       "    </tr>\n",
       "  </thead>\n",
       "  <tbody>\n",
       "    <tr>\n",
       "      <th>0</th>\n",
       "      <td>0</td>\n",
       "      <td>Can we make this quick?  Roxanne Korrine and A...</td>\n",
       "      <td>Well I thought we'd start with pronunciation i...</td>\n",
       "    </tr>\n",
       "    <tr>\n",
       "      <th>1</th>\n",
       "      <td>1</td>\n",
       "      <td>Not the hacking and gagging and spitting part....</td>\n",
       "      <td>Okay... then how 'bout we try out some French ...</td>\n",
       "    </tr>\n",
       "    <tr>\n",
       "      <th>2</th>\n",
       "      <td>2</td>\n",
       "      <td>You're asking me out.  That's so cute. What's ...</td>\n",
       "      <td>Forget it.</td>\n",
       "    </tr>\n",
       "    <tr>\n",
       "      <th>3</th>\n",
       "      <td>3</td>\n",
       "      <td>No no it's my fault -- we didn't have a proper...</td>\n",
       "      <td>Cameron.</td>\n",
       "    </tr>\n",
       "    <tr>\n",
       "      <th>4</th>\n",
       "      <td>4</td>\n",
       "      <td>The thing is Cameron -- I'm at the mercy of a ...</td>\n",
       "      <td>Seems like she could get a date easy enough...</td>\n",
       "    </tr>\n",
       "  </tbody>\n",
       "</table>\n",
       "</div>"
      ],
      "text/plain": [
       "   row                                                  A  \\\n",
       "0    0  Can we make this quick?  Roxanne Korrine and A...   \n",
       "1    1  Not the hacking and gagging and spitting part....   \n",
       "2    2  You're asking me out.  That's so cute. What's ...   \n",
       "3    3  No no it's my fault -- we didn't have a proper...   \n",
       "4    4  The thing is Cameron -- I'm at the mercy of a ...   \n",
       "\n",
       "                                                   B  \n",
       "0  Well I thought we'd start with pronunciation i...  \n",
       "1  Okay... then how 'bout we try out some French ...  \n",
       "2                                         Forget it.  \n",
       "3                                           Cameron.  \n",
       "4     Seems like she could get a date easy enough...  "
      ]
     },
     "execution_count": 4,
     "metadata": {},
     "output_type": "execute_result"
    }
   ],
   "source": [
    "dataset_pd.head()"
   ]
  },
  {
   "cell_type": "code",
   "execution_count": 5,
   "metadata": {},
   "outputs": [],
   "source": [
    "dataset_pd = dataset_pd.drop(columns=[\"row\"])"
   ]
  },
  {
   "cell_type": "code",
   "execution_count": 6,
   "metadata": {},
   "outputs": [
    {
     "data": {
      "text/html": [
       "<div>\n",
       "<style scoped>\n",
       "    .dataframe tbody tr th:only-of-type {\n",
       "        vertical-align: middle;\n",
       "    }\n",
       "\n",
       "    .dataframe tbody tr th {\n",
       "        vertical-align: top;\n",
       "    }\n",
       "\n",
       "    .dataframe thead th {\n",
       "        text-align: right;\n",
       "    }\n",
       "</style>\n",
       "<table border=\"1\" class=\"dataframe\">\n",
       "  <thead>\n",
       "    <tr style=\"text-align: right;\">\n",
       "      <th></th>\n",
       "      <th>A</th>\n",
       "      <th>B</th>\n",
       "    </tr>\n",
       "  </thead>\n",
       "  <tbody>\n",
       "    <tr>\n",
       "      <th>0</th>\n",
       "      <td>Can we make this quick?  Roxanne Korrine and A...</td>\n",
       "      <td>Well I thought we'd start with pronunciation i...</td>\n",
       "    </tr>\n",
       "    <tr>\n",
       "      <th>1</th>\n",
       "      <td>Not the hacking and gagging and spitting part....</td>\n",
       "      <td>Okay... then how 'bout we try out some French ...</td>\n",
       "    </tr>\n",
       "    <tr>\n",
       "      <th>2</th>\n",
       "      <td>You're asking me out.  That's so cute. What's ...</td>\n",
       "      <td>Forget it.</td>\n",
       "    </tr>\n",
       "    <tr>\n",
       "      <th>3</th>\n",
       "      <td>No no it's my fault -- we didn't have a proper...</td>\n",
       "      <td>Cameron.</td>\n",
       "    </tr>\n",
       "    <tr>\n",
       "      <th>4</th>\n",
       "      <td>The thing is Cameron -- I'm at the mercy of a ...</td>\n",
       "      <td>Seems like she could get a date easy enough...</td>\n",
       "    </tr>\n",
       "  </tbody>\n",
       "</table>\n",
       "</div>"
      ],
      "text/plain": [
       "                                                   A  \\\n",
       "0  Can we make this quick?  Roxanne Korrine and A...   \n",
       "1  Not the hacking and gagging and spitting part....   \n",
       "2  You're asking me out.  That's so cute. What's ...   \n",
       "3  No no it's my fault -- we didn't have a proper...   \n",
       "4  The thing is Cameron -- I'm at the mercy of a ...   \n",
       "\n",
       "                                                   B  \n",
       "0  Well I thought we'd start with pronunciation i...  \n",
       "1  Okay... then how 'bout we try out some French ...  \n",
       "2                                         Forget it.  \n",
       "3                                           Cameron.  \n",
       "4     Seems like she could get a date easy enough...  "
      ]
     },
     "execution_count": 6,
     "metadata": {},
     "output_type": "execute_result"
    }
   ],
   "source": [
    "dataset_pd.head()"
   ]
  },
  {
   "cell_type": "code",
   "execution_count": 7,
   "metadata": {},
   "outputs": [],
   "source": [
    "for i, row in dataset_pd.head().iterrows():\n",
    "    row.A = row.A.replace(\"-\", \"\")\n",
    "    row.B = row.B.replace(\"-\", \"\")"
   ]
  },
  {
   "cell_type": "code",
   "execution_count": 8,
   "metadata": {},
   "outputs": [
    {
     "data": {
      "text/plain": [
       "Index(['A', 'B'], dtype='object')"
      ]
     },
     "execution_count": 8,
     "metadata": {},
     "output_type": "execute_result"
    }
   ],
   "source": [
    "dataset_pd.columns"
   ]
  },
  {
   "cell_type": "code",
   "execution_count": 14,
   "metadata": {},
   "outputs": [],
   "source": [
    "conv_A = dataset_pd.A.tolist()"
   ]
  },
  {
   "cell_type": "code",
   "execution_count": 17,
   "metadata": {},
   "outputs": [],
   "source": [
    "conv_B = dataset_pd.B.tolist()"
   ]
  },
  {
   "cell_type": "code",
   "execution_count": 23,
   "metadata": {},
   "outputs": [
    {
     "name": "stdout",
     "output_type": "stream",
     "text": [
      "['Can we make this quick?  Roxanne Korrine and Andrew Barrett are having an incredibly horrendous public break up on the quad.  Again.', \"Well I thought we'd start with pronunciation if that's okay with you.\"]\n",
      "[\"Well I thought we'd start with pronunciation if that's okay with you.\", 'Not the hacking and gagging and spitting part.  Please.']\n",
      "['Can we make this quick?  Roxanne Korrine and Andrew Barrett are having an incredibly horrendous public break up on the quad.  Again.', \"Well I thought we'd start with pronunciation if that's okay with you.\", 'Not the hacking and gagging and spitting part.  Please.', \"Okay... then how 'bout we try out some French cuisine.  Saturday?  Night?\"]\n",
      "[\"Well I thought we'd start with pronunciation if that's okay with you.\", 'Not the hacking and gagging and spitting part.  Please.', \"Okay... then how 'bout we try out some French cuisine.  Saturday?  Night?\", \"You're asking me out.  That's so cute. What's your name again?\"]\n",
      "['Can we make this quick?  Roxanne Korrine and Andrew Barrett are having an incredibly horrendous public break up on the quad.  Again.', \"Well I thought we'd start with pronunciation if that's okay with you.\", 'Not the hacking and gagging and spitting part.  Please.', \"Okay... then how 'bout we try out some French cuisine.  Saturday?  Night?\", \"You're asking me out.  That's so cute. What's your name again?\", 'Forget it.']\n",
      "[\"Well I thought we'd start with pronunciation if that's okay with you.\", 'Not the hacking and gagging and spitting part.  Please.', \"Okay... then how 'bout we try out some French cuisine.  Saturday?  Night?\", \"You're asking me out.  That's so cute. What's your name again?\", 'Forget it.', \"No no it's my fault  we didn't have a proper introduction \"]\n",
      "['Can we make this quick?  Roxanne Korrine and Andrew Barrett are having an incredibly horrendous public break up on the quad.  Again.', \"Well I thought we'd start with pronunciation if that's okay with you.\", 'Not the hacking and gagging and spitting part.  Please.', \"Okay... then how 'bout we try out some French cuisine.  Saturday?  Night?\", \"You're asking me out.  That's so cute. What's your name again?\", 'Forget it.', \"No no it's my fault  we didn't have a proper introduction \", 'Cameron.']\n",
      "[\"Well I thought we'd start with pronunciation if that's okay with you.\", 'Not the hacking and gagging and spitting part.  Please.', \"Okay... then how 'bout we try out some French cuisine.  Saturday?  Night?\", \"You're asking me out.  That's so cute. What's your name again?\", 'Forget it.', \"No no it's my fault  we didn't have a proper introduction \", 'Cameron.', \"The thing is Cameron  I'm at the mercy of a particularly hideous breed of loser.  My sister.  I can't date until she does.\"]\n"
     ]
    },
    {
     "data": {
      "text/html": [
       "<div>\n",
       "<style scoped>\n",
       "    .dataframe tbody tr th:only-of-type {\n",
       "        vertical-align: middle;\n",
       "    }\n",
       "\n",
       "    .dataframe tbody tr th {\n",
       "        vertical-align: top;\n",
       "    }\n",
       "\n",
       "    .dataframe thead th {\n",
       "        text-align: right;\n",
       "    }\n",
       "</style>\n",
       "<table border=\"1\" class=\"dataframe\">\n",
       "  <thead>\n",
       "    <tr style=\"text-align: right;\">\n",
       "      <th></th>\n",
       "      <th>0</th>\n",
       "    </tr>\n",
       "  </thead>\n",
       "  <tbody>\n",
       "    <tr>\n",
       "      <th>0</th>\n",
       "      <td>[Can we make this quick?  Roxanne Korrine and ...</td>\n",
       "    </tr>\n",
       "    <tr>\n",
       "      <th>1</th>\n",
       "      <td>[Well I thought we'd start with pronunciation ...</td>\n",
       "    </tr>\n",
       "  </tbody>\n",
       "</table>\n",
       "</div>"
      ],
      "text/plain": [
       "                                                   0\n",
       "0  [Can we make this quick?  Roxanne Korrine and ...\n",
       "1  [Well I thought we'd start with pronunciation ..."
      ]
     },
     "execution_count": 23,
     "metadata": {},
     "output_type": "execute_result"
    }
   ],
   "source": [
    "new_conv_A = []\n",
    "new_conv_B = []\n",
    "\n",
    "next_conv_A = 0\n",
    "for conv in conv_B:\n",
    "    new_conv_A.append(conv_A[next_conv_A])\n",
    "    new_conv_A.append(conv)\n",
    "    \n",
    "    \n",
    "    \n",
    "    if next_conv_A == 1000:\n",
    "        break\n",
    "    next_conv_A += 1\n",
    "    new_conv_B.append(conv)\n",
    "    new_conv_B.append(conv_A[next_conv_A])\n",
    "    \n",
    "    if next_conv_A < 5:\n",
    "        print(new_conv_A)\n",
    "        print(new_conv_B)\n",
    "    \n",
    "new_conv_A = np.array(new_conv_A)\n",
    "new_conv_B = np.array(new_conv_B)\n",
    "new_dataset_pd = pd.DataFrame(data=np.array([new_conv_A, new_conv_B]))\n",
    "new_dataset_pd.head()"
   ]
  },
  {
   "cell_type": "code",
   "execution_count": 1,
   "metadata": {},
   "outputs": [
    {
     "ename": "NameError",
     "evalue": "name 'cleaned_dataset_path' is not defined",
     "output_type": "error",
     "traceback": [
      "\u001b[1;31m---------------------------------------------------------------------------\u001b[0m",
      "\u001b[1;31mNameError\u001b[0m                                 Traceback (most recent call last)",
      "\u001b[1;32m<ipython-input-1-9631bc5b919f>\u001b[0m in \u001b[0;36m<module>\u001b[1;34m()\u001b[0m\n\u001b[1;32m----> 1\u001b[1;33m \u001b[0mcleaned_dataset_path\u001b[0m\u001b[1;33m.\u001b[0m\u001b[0mhead\u001b[0m\u001b[1;33m(\u001b[0m\u001b[1;33m)\u001b[0m\u001b[1;33m\u001b[0m\u001b[0m\n\u001b[0m",
      "\u001b[1;31mNameError\u001b[0m: name 'cleaned_dataset_path' is not defined"
     ]
    }
   ],
   "source": [
    "cleaned_dataset_path = os.path.join(os.path.dirname(os.getcwd()), \n",
    "                                    \"datasets\", \n",
    "                                    \"movie-corpus\", \n",
    "                                    \"a_b_conversations_cleaned.tsv\")\n",
    "dataset_pd.to_csv(path_or_buf=cleaned_dataset_path, sep=\"\\t\", index=False, header=False)"
   ]
  },
  {
   "cell_type": "code",
   "execution_count": null,
   "metadata": {},
   "outputs": [],
   "source": []
  }
 ],
 "metadata": {
  "kernelspec": {
   "display_name": "Python 3",
   "language": "python",
   "name": "python3"
  },
  "language_info": {
   "codemirror_mode": {
    "name": "ipython",
    "version": 3
   },
   "file_extension": ".py",
   "mimetype": "text/x-python",
   "name": "python",
   "nbconvert_exporter": "python",
   "pygments_lexer": "ipython3",
   "version": "3.5.5"
  }
 },
 "nbformat": 4,
 "nbformat_minor": 2
}
