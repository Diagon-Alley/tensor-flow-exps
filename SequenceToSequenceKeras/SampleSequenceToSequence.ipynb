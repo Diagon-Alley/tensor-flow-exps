{
 "cells": [
  {
   "cell_type": "code",
   "execution_count": 1,
   "metadata": {},
   "outputs": [
    {
     "name": "stderr",
     "output_type": "stream",
     "text": [
      "C:\\Users\\Rajdeep\\AppData\\Local\\conda\\conda\\envs\\tfdeeplearning\\lib\\site-packages\\h5py\\__init__.py:36: FutureWarning: Conversion of the second argument of issubdtype from `float` to `np.floating` is deprecated. In future, it will be treated as `np.float64 == np.dtype(float).type`.\n",
      "  from ._conv import register_converters as _register_converters\n",
      "Using TensorFlow backend.\n"
     ]
    }
   ],
   "source": [
    "from keras.models import Model\n",
    "from keras.layers import Input, LSTM, Dense\n",
    "import numpy as np"
   ]
  },
  {
   "cell_type": "code",
   "execution_count": 2,
   "metadata": {},
   "outputs": [],
   "source": [
    "batch_size = 64 # declaring the batch size"
   ]
  },
  {
   "cell_type": "code",
   "execution_count": 3,
   "metadata": {},
   "outputs": [],
   "source": [
    "epochs = 100 # number of epochs to train"
   ]
  },
  {
   "cell_type": "code",
   "execution_count": 4,
   "metadata": {},
   "outputs": [],
   "source": [
    "latent_dim = 256"
   ]
  },
  {
   "cell_type": "code",
   "execution_count": 5,
   "metadata": {},
   "outputs": [],
   "source": [
    "num_samples = 1000"
   ]
  },
  {
   "cell_type": "code",
   "execution_count": 6,
   "metadata": {},
   "outputs": [],
   "source": [
    "import os, sys"
   ]
  },
  {
   "cell_type": "code",
   "execution_count": 7,
   "metadata": {},
   "outputs": [],
   "source": [
    "data_path = os.path.join(os.path.dirname(os.getcwd()), \"datasets\", \"fra-eng\", \"fra.txt\") # path to the corpus file\n",
    "# note that it is super important to know the format of the corpus file\n",
    "# in this case the format is such\n",
    "# <eng-text><tab><french-translation of the same eng text>\n",
    "# each new training example is in a new line"
   ]
  },
  {
   "cell_type": "code",
   "execution_count": 8,
   "metadata": {},
   "outputs": [],
   "source": [
    "input_texts = []\n",
    "target_texts = []\n",
    "input_characters = set()\n",
    "target_characters = set()"
   ]
  },
  {
   "cell_type": "code",
   "execution_count": 9,
   "metadata": {},
   "outputs": [],
   "source": [
    "with open(data_path, 'r', encoding='utf-8') as f:\n",
    "    lines = f.read().split(\"\\n\") # spliting training examples\n",
    "\n",
    "# remember we are trying to get only `sample` number of lines and not any more for training \n",
    "for line in lines[:min(num_samples, len(lines) - 1)]:\n",
    "    input_text, target_text = line.split(\"\\t\")\n",
    "    \n",
    "    target_text = '\\t' + target_text + \"\\n\"\n",
    "    \n",
    "    input_texts.append(input_text)\n",
    "    target_texts.append(target_text)\n",
    "    \n",
    "    # including chars in input and target characters\n",
    "    for char in input_text:\n",
    "        if char not in input_characters:\n",
    "            input_characters.add(char)\n",
    "    \n",
    "    for char in target_text:\n",
    "        if char not in target_characters:\n",
    "            target_characters.add(char)"
   ]
  },
  {
   "cell_type": "code",
   "execution_count": 10,
   "metadata": {},
   "outputs": [
    {
     "name": "stdout",
     "output_type": "stream",
     "text": [
      "Number of samples: 1000\n",
      "Number of unique input tokens: 62\n",
      "Number of unique output tokens: 77\n",
      "Max sequence length for inputs: 11\n",
      "Max sequence length for outputs: 33\n"
     ]
    }
   ],
   "source": [
    "# here input_characters is the total number of input characters\n",
    "input_characters = sorted(list(input_characters))\n",
    "target_characters = sorted(list(target_characters))\n",
    "\n",
    "num_encoder_tokens = len(input_characters)\n",
    "num_decoder_tokens = len(target_characters)\n",
    "\n",
    "\n",
    "max_encoder_seq_length = max([len(txt) for txt in input_texts])\n",
    "max_decoder_seq_length = max([len(txt) for txt in target_texts])\n",
    "\n",
    "print(\"Number of samples: \" + str(len(input_texts))) # total number of samples that we are training\n",
    "print(\"Number of unique input tokens: \" + str(num_encoder_tokens))\n",
    "print(\"Number of unique output tokens: \" + str(num_decoder_tokens))\n",
    "print(\"Max sequence length for inputs: \" + str(max_encoder_seq_length))\n",
    "print(\"Max sequence length for outputs: \" + str(max_decoder_seq_length))"
   ]
  },
  {
   "cell_type": "code",
   "execution_count": 11,
   "metadata": {},
   "outputs": [],
   "source": [
    "# note that here we are only taking the first 1000 training examples"
   ]
  },
  {
   "cell_type": "code",
   "execution_count": 12,
   "metadata": {},
   "outputs": [],
   "source": [
    "input_token_index = dict([(char, i) for i, char in enumerate(input_characters)])\n",
    "# recall that input_characters is a list of all the unique input characters that we have in the 1000 training examples\n",
    "# that we have read so far\n",
    "\n",
    "# what enumerate does is that it assigns a counter to the unique characters, so basically if we get the following list\n",
    "# a = [\"ola\", \"mundo\", \"keras\"], we would get back from enumerate 1, \"ola\"; 2, \"mundo\"; 3, \"keras\"\n",
    "\n",
    "target_token_index = dict([(char, i) for i, char in enumerate(target_characters)])"
   ]
  },
  {
   "cell_type": "code",
   "execution_count": 13,
   "metadata": {},
   "outputs": [],
   "source": [
    "# here is the important part as we are defining what goes into the input data\n",
    "# max_encoder seq length is the maximum number of characters in one training example in the entire corpus\n",
    "encoder_input_data = np.zeros((len(input_texts), max_encoder_seq_length, num_encoder_tokens), dtype='float32')\n",
    "\n",
    "# the number of input_texts and the number of target_texts will be the same\n",
    "decoder_input_data = np.zeros((len(target_texts), max_decoder_seq_length, num_decoder_tokens), dtype='float32')\n",
    "decoder_target_data = np.zeros((len(target_texts), max_decoder_seq_length, num_decoder_tokens), dtype='float32')\n",
    "\n",
    "# here we just created the vectors that we are going to use as inputs for the encoder and inputs and targets for the \n",
    "# decoder"
   ]
  },
  {
   "cell_type": "code",
   "execution_count": 14,
   "metadata": {},
   "outputs": [],
   "source": [
    "for i, (input_text, target_text) in enumerate(zip(input_texts, target_texts)):\n",
    "    for t, char in enumerate(input_text):\n",
    "        # i is the first index as it is the ith training example \n",
    "        # t is the second index as the t-th character in ith training example\n",
    "        encoder_input_data[i, t, input_token_index[char]] = 1\n",
    "    for t, char in enumerate(target_text):\n",
    "        decoder_input_data[i, t, target_token_index[char]] = 1\n",
    "        \n",
    "        # Here is an important thing to understand\n",
    "        ###############---------------------------IMPORTANT------------------------#####################\n",
    "        # The decoder_target_data will be ahead of the decoder_input_data by one time step and this is an important factor\n",
    "        # The decoder_target_data will obviously not contain the first character\n",
    "        if t > 0:\n",
    "            decoder_target_data[i, t - 1, target_token_index[char]] = 1\n",
    "        "
   ]
  },
  {
   "cell_type": "code",
   "execution_count": 15,
   "metadata": {},
   "outputs": [],
   "source": [
    "encoder_inputs = Input(shape=(None, num_encoder_tokens)) # num_encoder_tokens is essentially the vocab size"
   ]
  },
  {
   "cell_type": "code",
   "execution_count": 16,
   "metadata": {},
   "outputs": [],
   "source": [
    "encoder = LSTM(latent_dim, return_state=True)\n",
    "# Each unit or cell of LSTM within the layer has an internal cell state referred to as c and a hidden state referred\n",
    "# to as h. \n",
    "# If we need to access the internal state c of the last time step we need to use return_state = True"
   ]
  },
  {
   "cell_type": "code",
   "execution_count": 17,
   "metadata": {},
   "outputs": [],
   "source": [
    "encoder_outputs, state_h, state_c = encoder(encoder_inputs)\n",
    "# here the encoder_outputs would be hidden state at last time step, state_h would be the hidden state of the last time step\n",
    "# again and state_c is the internal state of the last time step"
   ]
  },
  {
   "cell_type": "code",
   "execution_count": 18,
   "metadata": {},
   "outputs": [],
   "source": [
    "encoder_states = [state_h, state_c] # we will only keep the states and discard the output"
   ]
  },
  {
   "cell_type": "code",
   "execution_count": 19,
   "metadata": {},
   "outputs": [],
   "source": [
    "decoder_inputs = Input(shape=(None, num_decoder_tokens))"
   ]
  },
  {
   "cell_type": "code",
   "execution_count": 20,
   "metadata": {},
   "outputs": [],
   "source": [
    "decoder_lstm = LSTM(latent_dim, return_sequences=True, return_state=True)\n",
    "# return sequences will return the hidden states for each and every time step"
   ]
  },
  {
   "cell_type": "code",
   "execution_count": 21,
   "metadata": {},
   "outputs": [],
   "source": [
    "decoder_outputs, _, _ = decoder_lstm(decoder_inputs, initial_state=encoder_states)\n",
    "# note here we are passing the encoder_states as the initial_state of the decoder lstm\n",
    "# decoder_outputs will actially contain the hidden states of all the time steps as an array"
   ]
  },
  {
   "cell_type": "code",
   "execution_count": 22,
   "metadata": {},
   "outputs": [],
   "source": [
    "decoder_dense = Dense(num_decoder_tokens, activation='softmax')\n",
    "# Dense is an ordinary dense neural network. "
   ]
  },
  {
   "cell_type": "code",
   "execution_count": 23,
   "metadata": {},
   "outputs": [],
   "source": [
    "decoder_outputs = decoder_dense(decoder_outputs)"
   ]
  },
  {
   "cell_type": "code",
   "execution_count": 24,
   "metadata": {},
   "outputs": [],
   "source": [
    "model = Model([encoder_inputs, decoder_inputs], decoder_outputs)"
   ]
  },
  {
   "cell_type": "code",
   "execution_count": 25,
   "metadata": {},
   "outputs": [],
   "source": [
    "model.compile(optimizer='rmsprop', loss='categorical_crossentropy')"
   ]
  },
  {
   "cell_type": "code",
   "execution_count": 26,
   "metadata": {},
   "outputs": [
    {
     "name": "stdout",
     "output_type": "stream",
     "text": [
      "Train on 800 samples, validate on 200 samples\n",
      "Epoch 1/100\n",
      "800/800 [==============================] - 10s 12ms/step - loss: 1.6027 - val_loss: 1.6293\n",
      "Epoch 2/100\n",
      "800/800 [==============================] - 5s 6ms/step - loss: 1.3719 - val_loss: 1.6276\n",
      "Epoch 3/100\n",
      "800/800 [==============================] - 5s 6ms/step - loss: 1.3332 - val_loss: 1.5664\n",
      "Epoch 4/100\n",
      "800/800 [==============================] - 5s 6ms/step - loss: 1.3026 - val_loss: 1.5369\n",
      "Epoch 5/100\n",
      "800/800 [==============================] - 5s 6ms/step - loss: 1.2720 - val_loss: 1.5251\n",
      "Epoch 6/100\n",
      "800/800 [==============================] - 5s 6ms/step - loss: 1.2427 - val_loss: 1.5258\n",
      "Epoch 7/100\n",
      "800/800 [==============================] - 4s 6ms/step - loss: 1.2177 - val_loss: 1.5010\n",
      "Epoch 8/100\n",
      "800/800 [==============================] - 5s 6ms/step - loss: 1.1961 - val_loss: 1.4699\n",
      "Epoch 9/100\n",
      "800/800 [==============================] - 5s 6ms/step - loss: 1.1783 - val_loss: 1.4284\n",
      "Epoch 10/100\n",
      "800/800 [==============================] - 5s 6ms/step - loss: 1.1426 - val_loss: 1.3984\n",
      "Epoch 11/100\n",
      "800/800 [==============================] - 5s 6ms/step - loss: 1.1131 - val_loss: 1.3901\n",
      "Epoch 12/100\n",
      "800/800 [==============================] - 5s 7ms/step - loss: 1.0733 - val_loss: 1.3680\n",
      "Epoch 13/100\n",
      "800/800 [==============================] - 4s 6ms/step - loss: 1.0422 - val_loss: 1.3399\n",
      "Epoch 14/100\n",
      "800/800 [==============================] - 5s 6ms/step - loss: 1.0168 - val_loss: 1.3071\n",
      "Epoch 15/100\n",
      "800/800 [==============================] - 6s 7ms/step - loss: 0.9828 - val_loss: 1.2715\n",
      "Epoch 16/100\n",
      "800/800 [==============================] - 4s 5ms/step - loss: 0.9591 - val_loss: 1.2445\n",
      "Epoch 17/100\n",
      "800/800 [==============================] - 4s 5ms/step - loss: 0.9303 - val_loss: 1.2247\n",
      "Epoch 18/100\n",
      "800/800 [==============================] - 5s 6ms/step - loss: 0.9108 - val_loss: 1.1905\n",
      "Epoch 19/100\n",
      "800/800 [==============================] - 5s 7ms/step - loss: 0.8910 - val_loss: 1.1836\n",
      "Epoch 20/100\n",
      "800/800 [==============================] - 5s 6ms/step - loss: 0.8655 - val_loss: 1.1808\n",
      "Epoch 21/100\n",
      "800/800 [==============================] - 5s 6ms/step - loss: 0.8492 - val_loss: 1.1535\n",
      "Epoch 22/100\n",
      "800/800 [==============================] - 5s 6ms/step - loss: 0.8328 - val_loss: 1.1249\n",
      "Epoch 23/100\n",
      "800/800 [==============================] - 4s 6ms/step - loss: 0.8134 - val_loss: 1.1255\n",
      "Epoch 24/100\n",
      "800/800 [==============================] - 4s 5ms/step - loss: 0.8018 - val_loss: 1.1002\n",
      "Epoch 25/100\n",
      "800/800 [==============================] - 4s 5ms/step - loss: 0.7864 - val_loss: 1.1187\n",
      "Epoch 26/100\n",
      "800/800 [==============================] - 5s 6ms/step - loss: 0.7755 - val_loss: 1.0767\n",
      "Epoch 27/100\n",
      "800/800 [==============================] - 5s 6ms/step - loss: 0.7555 - val_loss: 1.0699\n",
      "Epoch 28/100\n",
      "800/800 [==============================] - 5s 6ms/step - loss: 0.7444 - val_loss: 1.0578\n",
      "Epoch 29/100\n",
      "800/800 [==============================] - 6s 7ms/step - loss: 0.7281 - val_loss: 1.0558\n",
      "Epoch 30/100\n",
      "800/800 [==============================] - 5s 6ms/step - loss: 0.7184 - val_loss: 1.0404\n",
      "Epoch 31/100\n",
      "800/800 [==============================] - 5s 6ms/step - loss: 0.7005 - val_loss: 1.0376\n",
      "Epoch 32/100\n",
      "800/800 [==============================] - 5s 6ms/step - loss: 0.6877 - val_loss: 1.0389\n",
      "Epoch 33/100\n",
      "800/800 [==============================] - 5s 6ms/step - loss: 0.6753 - val_loss: 1.0114\n",
      "Epoch 34/100\n",
      "800/800 [==============================] - 5s 6ms/step - loss: 0.6614 - val_loss: 1.0404\n",
      "Epoch 35/100\n",
      "800/800 [==============================] - 5s 6ms/step - loss: 0.6508 - val_loss: 1.0091\n",
      "Epoch 36/100\n",
      "800/800 [==============================] - 5s 6ms/step - loss: 0.6391 - val_loss: 1.0066\n",
      "Epoch 37/100\n",
      "800/800 [==============================] - 5s 6ms/step - loss: 0.6217 - val_loss: 1.0172\n",
      "Epoch 38/100\n",
      "800/800 [==============================] - 5s 6ms/step - loss: 0.6133 - val_loss: 0.9992\n",
      "Epoch 39/100\n",
      "800/800 [==============================] - 5s 7ms/step - loss: 0.6029 - val_loss: 0.9837\n",
      "Epoch 40/100\n",
      "800/800 [==============================] - 5s 6ms/step - loss: 0.5877 - val_loss: 0.9952\n",
      "Epoch 41/100\n",
      "800/800 [==============================] - 4s 6ms/step - loss: 0.5774 - val_loss: 0.9923\n",
      "Epoch 42/100\n",
      "800/800 [==============================] - 4s 6ms/step - loss: 0.5659 - val_loss: 0.9903\n",
      "Epoch 43/100\n",
      "800/800 [==============================] - 4s 6ms/step - loss: 0.5544 - val_loss: 0.9984\n",
      "Epoch 44/100\n",
      "800/800 [==============================] - 4s 6ms/step - loss: 0.5388 - val_loss: 0.9868\n",
      "Epoch 45/100\n",
      "800/800 [==============================] - 4s 6ms/step - loss: 0.5284 - val_loss: 0.9787\n",
      "Epoch 46/100\n",
      "800/800 [==============================] - 5s 6ms/step - loss: 0.5176 - val_loss: 0.9682\n",
      "Epoch 47/100\n",
      "800/800 [==============================] - 5s 6ms/step - loss: 0.5025 - val_loss: 0.9995\n",
      "Epoch 48/100\n",
      "800/800 [==============================] - 4s 5ms/step - loss: 0.4965 - val_loss: 0.9670\n",
      "Epoch 49/100\n",
      "800/800 [==============================] - 6s 7ms/step - loss: 0.4867 - val_loss: 0.9873\n",
      "Epoch 50/100\n",
      "800/800 [==============================] - 6s 8ms/step - loss: 0.4731 - val_loss: 0.9667\n",
      "Epoch 51/100\n",
      "800/800 [==============================] - 6s 7ms/step - loss: 0.4612 - val_loss: 0.9800\n",
      "Epoch 52/100\n",
      "800/800 [==============================] - 5s 6ms/step - loss: 0.4448 - val_loss: 0.9873\n",
      "Epoch 53/100\n",
      "800/800 [==============================] - 5s 6ms/step - loss: 0.4432 - val_loss: 0.9906\n",
      "Epoch 54/100\n",
      "800/800 [==============================] - 5s 6ms/step - loss: 0.4289 - val_loss: 0.9926\n",
      "Epoch 55/100\n",
      "800/800 [==============================] - 5s 6ms/step - loss: 0.4212 - val_loss: 0.9855\n",
      "Epoch 56/100\n",
      "800/800 [==============================] - 5s 6ms/step - loss: 0.4087 - val_loss: 0.9868\n",
      "Epoch 57/100\n",
      "800/800 [==============================] - 5s 6ms/step - loss: 0.3999 - val_loss: 1.0061\n",
      "Epoch 58/100\n",
      "800/800 [==============================] - 5s 6ms/step - loss: 0.3882 - val_loss: 1.0101\n",
      "Epoch 59/100\n",
      "800/800 [==============================] - 5s 6ms/step - loss: 0.3798 - val_loss: 1.0193\n",
      "Epoch 60/100\n",
      "800/800 [==============================] - 4s 6ms/step - loss: 0.3675 - val_loss: 1.0059\n",
      "Epoch 61/100\n",
      "800/800 [==============================] - 4s 6ms/step - loss: 0.3611 - val_loss: 1.0442\n",
      "Epoch 62/100\n",
      "800/800 [==============================] - 4s 6ms/step - loss: 0.3504 - val_loss: 1.0168\n",
      "Epoch 63/100\n",
      "800/800 [==============================] - 4s 6ms/step - loss: 0.3447 - val_loss: 1.0469\n",
      "Epoch 64/100\n",
      "800/800 [==============================] - 4s 6ms/step - loss: 0.3331 - val_loss: 1.0269\n",
      "Epoch 65/100\n",
      "800/800 [==============================] - 4s 6ms/step - loss: 0.3251 - val_loss: 1.0193\n",
      "Epoch 66/100\n",
      "800/800 [==============================] - 4s 6ms/step - loss: 0.3150 - val_loss: 1.0587\n",
      "Epoch 67/100\n",
      "800/800 [==============================] - 4s 6ms/step - loss: 0.3096 - val_loss: 1.0494\n",
      "Epoch 68/100\n",
      "800/800 [==============================] - 4s 6ms/step - loss: 0.3019 - val_loss: 1.0830\n",
      "Epoch 69/100\n",
      "800/800 [==============================] - 5s 6ms/step - loss: 0.2904 - val_loss: 1.0738\n",
      "Epoch 70/100\n",
      "800/800 [==============================] - 5s 6ms/step - loss: 0.2861 - val_loss: 1.0785\n",
      "Epoch 71/100\n",
      "800/800 [==============================] - 5s 6ms/step - loss: 0.2772 - val_loss: 1.0824\n",
      "Epoch 72/100\n",
      "800/800 [==============================] - 4s 5ms/step - loss: 0.2681 - val_loss: 1.0859\n",
      "Epoch 73/100\n",
      "800/800 [==============================] - 4s 5ms/step - loss: 0.2642 - val_loss: 1.1243\n",
      "Epoch 74/100\n",
      "800/800 [==============================] - 4s 5ms/step - loss: 0.2610 - val_loss: 1.0894\n",
      "Epoch 75/100\n",
      "800/800 [==============================] - 4s 5ms/step - loss: 0.2521 - val_loss: 1.0820\n",
      "Epoch 76/100\n",
      "800/800 [==============================] - 5s 6ms/step - loss: 0.2443 - val_loss: 1.1351\n",
      "Epoch 77/100\n",
      "800/800 [==============================] - 5s 6ms/step - loss: 0.2370 - val_loss: 1.1356\n",
      "Epoch 78/100\n",
      "800/800 [==============================] - 5s 6ms/step - loss: 0.2331 - val_loss: 1.1083\n",
      "Epoch 79/100\n",
      "800/800 [==============================] - 5s 7ms/step - loss: 0.2288 - val_loss: 1.1289\n",
      "Epoch 80/100\n",
      "800/800 [==============================] - 5s 6ms/step - loss: 0.2224 - val_loss: 1.1315\n"
     ]
    },
    {
     "name": "stdout",
     "output_type": "stream",
     "text": [
      "Epoch 81/100\n",
      "800/800 [==============================] - 5s 6ms/step - loss: 0.2127 - val_loss: 1.1496\n",
      "Epoch 82/100\n",
      "800/800 [==============================] - 5s 6ms/step - loss: 0.2086 - val_loss: 1.1571\n",
      "Epoch 83/100\n",
      "800/800 [==============================] - 4s 5ms/step - loss: 0.2085 - val_loss: 1.1869\n",
      "Epoch 84/100\n",
      "800/800 [==============================] - 4s 6ms/step - loss: 0.1981 - val_loss: 1.1817\n",
      "Epoch 85/100\n",
      "800/800 [==============================] - 4s 6ms/step - loss: 0.1973 - val_loss: 1.2026\n",
      "Epoch 86/100\n",
      "800/800 [==============================] - 5s 7ms/step - loss: 0.1948 - val_loss: 1.1655\n",
      "Epoch 87/100\n",
      "800/800 [==============================] - 5s 6ms/step - loss: 0.1827 - val_loss: 1.1905\n",
      "Epoch 88/100\n",
      "800/800 [==============================] - 4s 5ms/step - loss: 0.1820 - val_loss: 1.2049\n",
      "Epoch 89/100\n",
      "800/800 [==============================] - 5s 6ms/step - loss: 0.1783 - val_loss: 1.2122\n",
      "Epoch 90/100\n",
      "800/800 [==============================] - 4s 5ms/step - loss: 0.1763 - val_loss: 1.2147\n",
      "Epoch 91/100\n",
      "800/800 [==============================] - 4s 5ms/step - loss: 0.1699 - val_loss: 1.2233\n",
      "Epoch 92/100\n",
      "800/800 [==============================] - 5s 6ms/step - loss: 0.1694 - val_loss: 1.2458\n",
      "Epoch 93/100\n",
      "800/800 [==============================] - 5s 6ms/step - loss: 0.1620 - val_loss: 1.2283\n",
      "Epoch 94/100\n",
      "800/800 [==============================] - 4s 6ms/step - loss: 0.1577 - val_loss: 1.2214\n",
      "Epoch 95/100\n",
      "800/800 [==============================] - 4s 6ms/step - loss: 0.1607 - val_loss: 1.2047\n",
      "Epoch 96/100\n",
      "800/800 [==============================] - 4s 6ms/step - loss: 0.1524 - val_loss: 1.2246\n",
      "Epoch 97/100\n",
      "800/800 [==============================] - 4s 6ms/step - loss: 0.1507 - val_loss: 1.2383\n",
      "Epoch 98/100\n",
      "800/800 [==============================] - 5s 6ms/step - loss: 0.1493 - val_loss: 1.2560\n",
      "Epoch 99/100\n",
      "800/800 [==============================] - 5s 6ms/step - loss: 0.1413 - val_loss: 1.2992\n",
      "Epoch 100/100\n",
      "800/800 [==============================] - 4s 6ms/step - loss: 0.1429 - val_loss: 1.2725\n"
     ]
    },
    {
     "data": {
      "text/plain": [
       "<keras.callbacks.History at 0x1f6db874080>"
      ]
     },
     "execution_count": 26,
     "metadata": {},
     "output_type": "execute_result"
    }
   ],
   "source": [
    "model.fit([encoder_input_data, decoder_input_data], decoder_target_data,\n",
    "          batch_size=batch_size,\n",
    "          epochs=epochs,\n",
    "          validation_split=0.2)\n",
    "# passing all the data here"
   ]
  },
  {
   "cell_type": "code",
   "execution_count": 27,
   "metadata": {},
   "outputs": [
    {
     "name": "stderr",
     "output_type": "stream",
     "text": [
      "C:\\Users\\Rajdeep\\AppData\\Local\\conda\\conda\\envs\\tfdeeplearning\\lib\\site-packages\\keras\\engine\\topology.py:2379: UserWarning: Layer lstm_2 was passed non-serializable keyword arguments: {'initial_state': [<tf.Tensor 'lstm_1/while/Exit_2:0' shape=(?, 256) dtype=float32>, <tf.Tensor 'lstm_1/while/Exit_3:0' shape=(?, 256) dtype=float32>]}. They will not be included in the serialized model (and thus will be missing at deserialization time).\n",
      "  str(node.arguments) + '. They will not be included '\n"
     ]
    }
   ],
   "source": [
    "model.save('seq2seqKeras1000Samples.h5')"
   ]
  },
  {
   "cell_type": "code",
   "execution_count": 28,
   "metadata": {},
   "outputs": [],
   "source": [
    "# Inference Model (Sampling sequences)\n",
    "# For sampling the sequences here is the strategy to be followed\n",
    "\n",
    "# 1. Encode the input and retrieve the initial encoder state\n",
    "# 2. Run one step of the decoder with its initial encoder state and a \"start of sequence\" token as target\n",
    "# 3. Output will be the next target token and current states"
   ]
  },
  {
   "cell_type": "code",
   "execution_count": 29,
   "metadata": {},
   "outputs": [],
   "source": [
    "# In the original keras example, they are using the training examples themselves to predict the french statements\n",
    "# However we would like to use predict new statements\n",
    "# For this we would have to change a few things in order to achieve what we need to achieve"
   ]
  },
  {
   "cell_type": "code",
   "execution_count": 32,
   "metadata": {},
   "outputs": [
    {
     "name": "stdout",
     "output_type": "stream",
     "text": [
      "i now:0\n",
      "i now:1\n",
      "i now:2\n",
      "i now:3\n",
      "i now:4\n",
      "i now:5\n",
      "i now:6\n",
      "i now:7\n",
      "i now:8\n",
      "i now:9\n"
     ]
    }
   ],
   "source": [
    "# preparing the test data\n",
    "test_data_path = os.path.join(os.path.dirname(os.getcwd()), \"datasets\", \"fra-eng\", \"fra-test.txt\") # path to the test \n",
    "# corpus file\n",
    "test_input_texts = []\n",
    "with open(test_data_path, 'r', encoding='utf-8') as f:\n",
    "    lines = f.read().split(\"\\n\") # spliting training examples\n",
    "\n",
    "# remember we are trying to get only `sample` number of lines and not any more for training \n",
    "for line in lines:\n",
    "    input_text = line\n",
    "    \n",
    "#     target_text = '\\t' + target_text + \"\\n\"\n",
    "    \n",
    "    test_input_texts.append(input_text)\n",
    "#     target_texts.append(target_text)\n",
    "    \n",
    "encoder_test_input_data = np.zeros((len(test_input_texts), max_encoder_seq_length, num_encoder_tokens), dtype='float32')\n",
    "\n",
    "for i, (test_input_text) in enumerate(test_input_texts):\n",
    "    print(\"i now:\" + str(i))\n",
    "    for t, char in enumerate(test_input_text):\n",
    "        # i is the first index as it is the ith training example \n",
    "        # t is the second index as the t-th character in ith training example\n",
    "#         print(\"t, char now: \" + str(t) + \", \" + str(char))\n",
    "        encoder_test_input_data[i, t, input_token_index[char]] = 1"
   ]
  },
  {
   "cell_type": "code",
   "execution_count": 33,
   "metadata": {},
   "outputs": [],
   "source": [
    "encoder_model = Model(encoder_inputs, encoder_states)"
   ]
  },
  {
   "cell_type": "code",
   "execution_count": 34,
   "metadata": {},
   "outputs": [],
   "source": [
    "decoder_state_input_h = Input(shape=(latent_dim,))\n",
    "decoder_state_input_c = Input(shape=(latent_dim,))\n",
    "decoder_state_inputs = [decoder_state_input_h, decoder_state_input_c]\n",
    "decoder_outputs, state_h, state_c = decoder_lstm(decoder_inputs, initial_state=decoder_state_inputs)\n",
    "decoder_states = [state_h, state_c]\n",
    "decoder_outputs = decoder_dense(decoder_outputs)\n",
    "decoder_model = Model([decoder_inputs] + decoder_state_inputs, [decoder_outputs] + decoder_states)"
   ]
  },
  {
   "cell_type": "code",
   "execution_count": 35,
   "metadata": {},
   "outputs": [],
   "source": [
    "reverse_input_char_index = dict(\n",
    "    (i, char) for char, i in input_token_index.items())\n",
    "reverse_target_char_index = dict(\n",
    "    (i, char) for char, i in target_token_index.items())"
   ]
  },
  {
   "cell_type": "code",
   "execution_count": 36,
   "metadata": {},
   "outputs": [],
   "source": [
    "def decode_sequence(input_seq):\n",
    "    \"\"\"\n",
    "    This function is for decoding a sequence of english letters\n",
    "    \"\"\"\n",
    "    # Encode the input as state vectors.\n",
    "    states_value = encoder_model.predict(input_seq) # this is actually encoder_input data\n",
    "\n",
    "    # Generate empty target sequence of length 1.\n",
    "    target_seq = np.zeros((1, 1, num_decoder_tokens))\n",
    "    # Populate the first character of target sequence with the start character.\n",
    "    target_seq[0, 0, target_token_index['\\t']] = 1.\n",
    "    \n",
    "    # target_sequence is simply a one hot vector of size vocab size\n",
    "\n",
    "    # Sampling loop for a batch of sequences\n",
    "    # (to simplify, here we assume a batch of size 1).\n",
    "    stop_condition = False\n",
    "    decoded_sentence = ''\n",
    "    while not stop_condition:\n",
    "        # predicting one character at a time\n",
    "        output_tokens, h, c = decoder_model.predict(\n",
    "            [target_seq] + states_value)\n",
    "\n",
    "        # Sample a token\n",
    "        sampled_token_index = np.argmax(output_tokens[0, -1, :])\n",
    "        sampled_char = reverse_target_char_index[sampled_token_index]\n",
    "        decoded_sentence += sampled_char\n",
    "\n",
    "        # Exit condition: either hit max length\n",
    "        # or find stop character.\n",
    "        if (sampled_char == '\\n' or\n",
    "           len(decoded_sentence) > max_decoder_seq_length):\n",
    "            stop_condition = True\n",
    "\n",
    "        # Update the target sequence (of length 1).\n",
    "        target_seq = np.zeros((1, 1, num_decoder_tokens))\n",
    "        target_seq[0, 0, sampled_token_index] = 1.\n",
    "\n",
    "        # Update states\n",
    "        states_value = [h, c]\n",
    "\n",
    "    return decoded_sentence"
   ]
  },
  {
   "cell_type": "code",
   "execution_count": 40,
   "metadata": {},
   "outputs": [
    {
     "name": "stdout",
     "output_type": "stream",
     "text": [
      "-\n",
      "Input sentence:  my drink\n",
      "Decoded sentence:  Sois faice.\n",
      "\n",
      "-\n",
      "Input sentence:  quick brown\n",
      "Decoded sentence:  J'es au fuui.\n",
      "\n",
      "-\n",
      "Input sentence:  How are you\n",
      "Decoded sentence:  Comme c'est moi !\n",
      "\n",
      "-\n",
      "Input sentence:  Helloworld\n",
      "Decoded sentence:  Silez ça !\n",
      "\n",
      "-\n",
      "Input sentence:  Well what\n",
      "Decoded sentence:  Nous rompr !\n",
      "\n",
      "-\n",
      "Input sentence:  You know\n",
      "Decoded sentence:  Qu la mes portir.\n",
      "\n",
      "-\n",
      "Input sentence:  Lets see\n",
      "Decoded sentence:  Laissez-vous aller !\n",
      "\n",
      "-\n",
      "Input sentence:  Isha pali\n",
      "Decoded sentence:  Este est houcees ti moi retre.\n",
      "\n",
      "-\n",
      "Input sentence:  network\n",
      "Decoded sentence:  J'aidez-moi faifince.\n",
      "\n",
      "-\n",
      "Input sentence:  lets find\n",
      "Decoded sentence:  Atendez coucie.\n",
      "\n"
     ]
    }
   ],
   "source": [
    "for seq_index in range(10):\n",
    "    # this trick below is just for converting input_seq to a list\n",
    "    input_seq = encoder_test_input_data[seq_index: seq_index + 1] # we will need to form a new encoder_input_data\n",
    "    decoded_sentence = decode_sequence(input_seq=input_seq)\n",
    "    print('-')\n",
    "    print(\"Input sentence: \", test_input_texts[seq_index])\n",
    "    print(\"Decoded sentence: \", decoded_sentence)\n",
    "    "
   ]
  },
  {
   "cell_type": "code",
   "execution_count": null,
   "metadata": {},
   "outputs": [],
   "source": []
  }
 ],
 "metadata": {
  "kernelspec": {
   "display_name": "Python 3",
   "language": "python",
   "name": "python3"
  },
  "language_info": {
   "codemirror_mode": {
    "name": "ipython",
    "version": 3
   },
   "file_extension": ".py",
   "mimetype": "text/x-python",
   "name": "python",
   "nbconvert_exporter": "python",
   "pygments_lexer": "ipython3",
   "version": "3.5.5"
  }
 },
 "nbformat": 4,
 "nbformat_minor": 2
}
