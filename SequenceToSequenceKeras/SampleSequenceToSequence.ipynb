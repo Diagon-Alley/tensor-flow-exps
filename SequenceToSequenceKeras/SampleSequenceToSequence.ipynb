{
 "cells": [
  {
   "cell_type": "code",
   "execution_count": 14,
   "metadata": {},
   "outputs": [],
   "source": [
    "from keras.models import Model\n",
    "from keras.layers import Input, LSTM, Dense\n",
    "import numpy as np"
   ]
  },
  {
   "cell_type": "code",
   "execution_count": 15,
   "metadata": {},
   "outputs": [],
   "source": [
    "batch_size = 64 # declaring the batch size"
   ]
  },
  {
   "cell_type": "code",
   "execution_count": 16,
   "metadata": {},
   "outputs": [],
   "source": [
    "epochs = 100 # number of epochs to train"
   ]
  },
  {
   "cell_type": "code",
   "execution_count": 17,
   "metadata": {},
   "outputs": [],
   "source": [
    "latent_dim = 256"
   ]
  },
  {
   "cell_type": "code",
   "execution_count": 18,
   "metadata": {},
   "outputs": [],
   "source": [
    "num_samples = 125000"
   ]
  },
  {
   "cell_type": "code",
   "execution_count": 19,
   "metadata": {},
   "outputs": [],
   "source": [
    "import os, sys"
   ]
  },
  {
   "cell_type": "code",
   "execution_count": 20,
   "metadata": {},
   "outputs": [],
   "source": [
    "data_path = os.path.join(os.path.dirname(os.getcwd()), \"datasets\", \"fra-eng\", \"fra.txt\") # path to the corpus file\n",
    "# note that it is super important to know the format of the corpus file\n",
    "# in this case the format is such\n",
    "# <eng-text><tab><french-translation of the same eng text>\n",
    "# each new training example is in a new line"
   ]
  },
  {
   "cell_type": "code",
   "execution_count": 21,
   "metadata": {},
   "outputs": [],
   "source": [
    "input_texts = []\n",
    "target_texts = []\n",
    "input_characters = set()\n",
    "target_characters = set()"
   ]
  },
  {
   "cell_type": "code",
   "execution_count": 22,
   "metadata": {},
   "outputs": [],
   "source": [
    "with open(data_path, 'r', encoding='utf-8') as f:\n",
    "    lines = f.read().split(\"\\n\") # spliting training examples\n",
    "\n",
    "# remember we are trying to get only `sample` number of lines and not any more for training \n",
    "for line in lines[:min(num_samples, len(lines) - 1)]:\n",
    "    input_text, target_text = line.split(\"\\t\")\n",
    "    \n",
    "    target_text = '\\t' + target_text + \"\\n\"\n",
    "    \n",
    "    input_texts.append(input_text)\n",
    "    target_texts.append(target_text)\n",
    "    \n",
    "    # including chars in input and target characters\n",
    "    for char in input_text:\n",
    "        if char not in input_characters:\n",
    "            input_characters.add(char)\n",
    "    \n",
    "    for char in target_text:\n",
    "        if char not in target_characters:\n",
    "            target_characters.add(char)"
   ]
  },
  {
   "cell_type": "code",
   "execution_count": 23,
   "metadata": {},
   "outputs": [
    {
     "name": "stdout",
     "output_type": "stream",
     "text": [
      "Number of samples: 1000\n",
      "Number of unique input tokens: 62\n",
      "Number of unique output tokens: 77\n",
      "Max sequence length for inputs: 11\n",
      "Max sequence length for outputs: 33\n"
     ]
    }
   ],
   "source": [
    "# here input_characters is the total number of input characters\n",
    "input_characters = sorted(list(input_characters))\n",
    "target_characters = sorted(list(target_characters))\n",
    "\n",
    "num_encoder_tokens = len(input_characters)\n",
    "num_decoder_tokens = len(target_characters)\n",
    "\n",
    "\n",
    "max_encoder_seq_length = max([len(txt) for txt in input_texts])\n",
    "max_decoder_seq_length = max([len(txt) for txt in target_texts])\n",
    "\n",
    "print(\"Number of samples: \" + str(len(input_texts))) # total number of samples that we are training\n",
    "print(\"Number of unique input tokens: \" + str(num_encoder_tokens))\n",
    "print(\"Number of unique output tokens: \" + str(num_decoder_tokens))\n",
    "print(\"Max sequence length for inputs: \" + str(max_encoder_seq_length))\n",
    "print(\"Max sequence length for outputs: \" + str(max_decoder_seq_length))"
   ]
  },
  {
   "cell_type": "code",
   "execution_count": 27,
   "metadata": {},
   "outputs": [],
   "source": [
    "# note that here we are only taking the first 1000 training examples"
   ]
  },
  {
   "cell_type": "code",
   "execution_count": 30,
   "metadata": {},
   "outputs": [],
   "source": [
    "input_token_index = dict([(char, i) for i, char in enumerate(input_characters)])\n",
    "# recall that input_characters is a list of all the unique input characters that we have in the 1000 training examples\n",
    "# that we have read so far\n",
    "\n",
    "# what enumerate does is that it assigns a counter to the unique characters, so basically if we get the following list\n",
    "# a = [\"ola\", \"mundo\", \"keras\"], we would get back from enumerate 1, \"ola\"; 2, \"mundo\"; 3, \"keras\"\n",
    "\n",
    "target_token_index = dict([(char, i) for i, char in enumerate(target_characters)])"
   ]
  },
  {
   "cell_type": "code",
   "execution_count": 32,
   "metadata": {},
   "outputs": [],
   "source": [
    "# here is the important part as we are defining what goes into the input data\n",
    "# max_encoder seq length is the maximum number of characters in one training example in the entire corpus\n",
    "encoder_input_data = np.zeros((len(input_texts), max_encoder_seq_length, num_encoder_tokens), dtype='float32')\n",
    "\n",
    "# the number of input_texts and the number of target_texts will be the same\n",
    "decoder_input_data = np.zeros((len(target_texts), max_decoder_seq_length, num_decoder_tokens), dtype='float32')\n",
    "decoder_target_data = np.zeros((len(target_texts), max_decoder_seq_length, num_decoder_tokens), dtype='float32')\n",
    "\n",
    "# here we just created the vectors that we are going to use as inputs for the encoder and inputs and targets for the \n",
    "# decoder"
   ]
  },
  {
   "cell_type": "code",
   "execution_count": 34,
   "metadata": {},
   "outputs": [],
   "source": [
    "for i, (input_text, target_text) in enumerate(zip(input_texts, target_texts)):\n",
    "    for t, char in enumerate(input_text):\n",
    "        # i is the first index as it is the ith training example \n",
    "        # t is the second index as the t-th character in ith training example\n",
    "        encoder_input_data[i, t, input_token_index[char]] = 1\n",
    "    for t, char in enumerate(target_text):\n",
    "        decoder_input_data[i, t, target_token_index[char]] = 1\n",
    "        \n",
    "        # Here is an important thing to understand\n",
    "        ###############---------------------------IMPORTANT------------------------#####################\n",
    "        # The decoder_target_data will be ahead of the decoder_input_data by one time step and this is an important factor\n",
    "        # The decoder_target_data will obviously not contain the first character\n",
    "        if t > 0:\n",
    "            decoder_target_data[i, t - 1, target_token_index[char]] = 1\n",
    "        "
   ]
  },
  {
   "cell_type": "code",
   "execution_count": 35,
   "metadata": {},
   "outputs": [],
   "source": [
    "encoder_inputs = Input(shape=(None, num_encoder_tokens)) # num_encoder_tokens is essentially the vocab size"
   ]
  },
  {
   "cell_type": "code",
   "execution_count": 36,
   "metadata": {},
   "outputs": [],
   "source": [
    "encoder = LSTM(latent_dim, return_state=True)\n",
    "# Each unit or cell of LSTM within the layer has an internal cell state referred to as c and a hidden state referred\n",
    "# to as h. \n",
    "# If we need to access the internal state c of the last time step we need to use return_state = True"
   ]
  },
  {
   "cell_type": "code",
   "execution_count": 37,
   "metadata": {},
   "outputs": [],
   "source": [
    "encoder_outputs, state_h, state_c = encoder(encoder_inputs)\n",
    "# here the encoder_outputs would be hidden state at last time step, state_h would be the hidden state of the last time step\n",
    "# again and state_c is the internal state of the last time step"
   ]
  },
  {
   "cell_type": "code",
   "execution_count": 39,
   "metadata": {},
   "outputs": [],
   "source": [
    "encoder_states = [state_h, state_c] # we will only keeep the states and discard the output"
   ]
  },
  {
   "cell_type": "code",
   "execution_count": 40,
   "metadata": {},
   "outputs": [],
   "source": [
    "decoder_inputs = Input(shape=(None, num_decoder_tokens))"
   ]
  },
  {
   "cell_type": "code",
   "execution_count": 41,
   "metadata": {},
   "outputs": [],
   "source": [
    "decoder_lstm = LSTM(latent_dim, return_sequences=True, return_state=True)\n",
    "# return sequences will return the hidden states for each and every time step"
   ]
  },
  {
   "cell_type": "code",
   "execution_count": 42,
   "metadata": {},
   "outputs": [],
   "source": [
    "decoder_outputs, _, _ = decoder_lstm(decoder_inputs, initial_state=encoder_states)\n",
    "# note here we are passing the encoder_states as the initial_state of the decoder lstm\n",
    "# decoder_outputs will actially contain the hidden states of all the time steps as an array"
   ]
  },
  {
   "cell_type": "code",
   "execution_count": 43,
   "metadata": {},
   "outputs": [],
   "source": [
    "decoder_dense = Dense(num_decoder_tokens, activation='softmax')\n",
    "# Dense is an ordinary dense neural network. "
   ]
  },
  {
   "cell_type": "code",
   "execution_count": 44,
   "metadata": {},
   "outputs": [],
   "source": [
    "decoder_outputs = decoder_dense(decoder_outputs)"
   ]
  },
  {
   "cell_type": "code",
   "execution_count": 45,
   "metadata": {},
   "outputs": [],
   "source": [
    "model = Model([encoder_inputs, decoder_inputs], decoder_outputs)"
   ]
  },
  {
   "cell_type": "code",
   "execution_count": 47,
   "metadata": {},
   "outputs": [],
   "source": [
    "model.compile(optimizer='rmsprop', loss='categorical_crossentropy')"
   ]
  },
  {
   "cell_type": "code",
   "execution_count": 48,
   "metadata": {},
   "outputs": [
    {
     "name": "stdout",
     "output_type": "stream",
     "text": [
      "Train on 800 samples, validate on 200 samples\n",
      "Epoch 1/100\n",
      "800/800 [==============================] - 8s 10ms/step - loss: 1.5808 - val_loss: 1.6461\n",
      "Epoch 2/100\n",
      "800/800 [==============================] - 5s 6ms/step - loss: 1.3729 - val_loss: 1.6564\n",
      "Epoch 3/100\n",
      "800/800 [==============================] - 5s 6ms/step - loss: 1.3275 - val_loss: 1.5837\n",
      "Epoch 4/100\n",
      "800/800 [==============================] - 5s 6ms/step - loss: 1.2983 - val_loss: 1.5391\n",
      "Epoch 5/100\n",
      "800/800 [==============================] - 5s 6ms/step - loss: 1.2623 - val_loss: 1.5412\n",
      "Epoch 6/100\n",
      "800/800 [==============================] - 5s 6ms/step - loss: 1.2438 - val_loss: 1.4976\n",
      "Epoch 7/100\n",
      "800/800 [==============================] - 5s 6ms/step - loss: 1.2123 - val_loss: 1.4817\n",
      "Epoch 8/100\n",
      "800/800 [==============================] - 5s 6ms/step - loss: 1.1912 - val_loss: 1.4560\n",
      "Epoch 9/100\n",
      "800/800 [==============================] - 5s 6ms/step - loss: 1.1552 - val_loss: 1.4174\n",
      "Epoch 10/100\n",
      "800/800 [==============================] - 4s 6ms/step - loss: 1.1190 - val_loss: 1.4261\n",
      "Epoch 11/100\n",
      "800/800 [==============================] - 4s 6ms/step - loss: 1.0918 - val_loss: 1.3634\n",
      "Epoch 12/100\n",
      "800/800 [==============================] - 5s 6ms/step - loss: 1.0502 - val_loss: 1.3613\n",
      "Epoch 13/100\n",
      "800/800 [==============================] - 5s 6ms/step - loss: 1.0223 - val_loss: 1.3026\n",
      "Epoch 14/100\n",
      "800/800 [==============================] - 5s 6ms/step - loss: 0.9917 - val_loss: 1.3028\n",
      "Epoch 15/100\n",
      "800/800 [==============================] - 5s 6ms/step - loss: 0.9716 - val_loss: 1.2377\n",
      "Epoch 16/100\n",
      "800/800 [==============================] - 5s 6ms/step - loss: 0.9435 - val_loss: 1.2372\n",
      "Epoch 17/100\n",
      "800/800 [==============================] - 4s 6ms/step - loss: 0.9195 - val_loss: 1.2331\n",
      "Epoch 18/100\n",
      "800/800 [==============================] - 5s 6ms/step - loss: 0.8983 - val_loss: 1.2293\n",
      "Epoch 19/100\n",
      "800/800 [==============================] - 5s 6ms/step - loss: 0.8794 - val_loss: 1.1653\n",
      "Epoch 20/100\n",
      "800/800 [==============================] - 5s 6ms/step - loss: 0.8627 - val_loss: 1.1469\n",
      "Epoch 21/100\n",
      "800/800 [==============================] - 5s 6ms/step - loss: 0.8426 - val_loss: 1.1408\n",
      "Epoch 22/100\n",
      "800/800 [==============================] - 5s 6ms/step - loss: 0.8341 - val_loss: 1.1726\n",
      "Epoch 23/100\n",
      "800/800 [==============================] - 5s 6ms/step - loss: 0.8125 - val_loss: 1.1142\n",
      "Epoch 24/100\n",
      "800/800 [==============================] - 6s 7ms/step - loss: 0.7997 - val_loss: 1.0983\n",
      "Epoch 25/100\n",
      "800/800 [==============================] - 6s 7ms/step - loss: 0.7823 - val_loss: 1.1141\n",
      "Epoch 26/100\n",
      "800/800 [==============================] - 5s 7ms/step - loss: 0.7672 - val_loss: 1.0823\n",
      "Epoch 27/100\n",
      "800/800 [==============================] - 5s 6ms/step - loss: 0.7545 - val_loss: 1.0792\n",
      "Epoch 28/100\n",
      "800/800 [==============================] - 5s 6ms/step - loss: 0.7386 - val_loss: 1.0841\n",
      "Epoch 29/100\n",
      "800/800 [==============================] - 5s 6ms/step - loss: 0.7275 - val_loss: 1.0785\n",
      "Epoch 30/100\n",
      "800/800 [==============================] - 6s 7ms/step - loss: 0.7119 - val_loss: 1.0656\n",
      "Epoch 31/100\n",
      "800/800 [==============================] - 6s 7ms/step - loss: 0.6926 - val_loss: 1.0268\n",
      "Epoch 32/100\n",
      "800/800 [==============================] - 5s 7ms/step - loss: 0.6885 - val_loss: 1.0627\n",
      "Epoch 33/100\n",
      "800/800 [==============================] - 5s 6ms/step - loss: 0.6649 - val_loss: 1.0345\n",
      "Epoch 34/100\n",
      "800/800 [==============================] - 5s 6ms/step - loss: 0.6586 - val_loss: 1.0386\n",
      "Epoch 35/100\n",
      "800/800 [==============================] - 5s 6ms/step - loss: 0.6459 - val_loss: 1.0135\n",
      "Epoch 36/100\n",
      "800/800 [==============================] - 5s 6ms/step - loss: 0.6287 - val_loss: 1.0105\n",
      "Epoch 37/100\n",
      "800/800 [==============================] - 5s 6ms/step - loss: 0.6157 - val_loss: 1.0288\n",
      "Epoch 38/100\n",
      "800/800 [==============================] - 5s 6ms/step - loss: 0.6053 - val_loss: 1.0199\n",
      "Epoch 39/100\n",
      "800/800 [==============================] - 5s 6ms/step - loss: 0.5895 - val_loss: 0.9952\n",
      "Epoch 40/100\n",
      "800/800 [==============================] - 5s 6ms/step - loss: 0.5789 - val_loss: 0.9868\n",
      "Epoch 41/100\n",
      "800/800 [==============================] - 5s 6ms/step - loss: 0.5674 - val_loss: 0.9968\n",
      "Epoch 42/100\n",
      "800/800 [==============================] - 5s 7ms/step - loss: 0.5531 - val_loss: 1.0145\n",
      "Epoch 43/100\n",
      "800/800 [==============================] - 5s 7ms/step - loss: 0.5429 - val_loss: 1.0171\n",
      "Epoch 44/100\n",
      "800/800 [==============================] - 5s 6ms/step - loss: 0.5312 - val_loss: 1.0230\n",
      "Epoch 45/100\n",
      "800/800 [==============================] - 5s 6ms/step - loss: 0.5152 - val_loss: 1.0000\n",
      "Epoch 46/100\n",
      "800/800 [==============================] - 5s 6ms/step - loss: 0.5035 - val_loss: 0.9902\n",
      "Epoch 47/100\n",
      "800/800 [==============================] - 5s 6ms/step - loss: 0.4930 - val_loss: 0.9861\n",
      "Epoch 48/100\n",
      "800/800 [==============================] - 5s 6ms/step - loss: 0.4811 - val_loss: 0.9962\n",
      "Epoch 49/100\n",
      "800/800 [==============================] - 5s 6ms/step - loss: 0.4697 - val_loss: 1.0204\n",
      "Epoch 50/100\n",
      "800/800 [==============================] - 5s 7ms/step - loss: 0.4593 - val_loss: 0.9938\n",
      "Epoch 51/100\n",
      "800/800 [==============================] - 5s 6ms/step - loss: 0.4449 - val_loss: 0.9954\n",
      "Epoch 52/100\n",
      "800/800 [==============================] - 5s 6ms/step - loss: 0.4392 - val_loss: 1.0078\n",
      "Epoch 53/100\n",
      "800/800 [==============================] - 5s 6ms/step - loss: 0.4244 - val_loss: 1.0291\n",
      "Epoch 54/100\n",
      "800/800 [==============================] - 5s 6ms/step - loss: 0.4141 - val_loss: 0.9896\n",
      "Epoch 55/100\n",
      "800/800 [==============================] - 5s 6ms/step - loss: 0.4058 - val_loss: 1.0242\n",
      "Epoch 56/100\n",
      "800/800 [==============================] - 5s 6ms/step - loss: 0.3925 - val_loss: 1.0367\n",
      "Epoch 57/100\n",
      "800/800 [==============================] - 5s 6ms/step - loss: 0.3826 - val_loss: 1.0380\n",
      "Epoch 58/100\n",
      "800/800 [==============================] - 5s 6ms/step - loss: 0.3730 - val_loss: 1.0138\n",
      "Epoch 59/100\n",
      "800/800 [==============================] - 5s 6ms/step - loss: 0.3655 - val_loss: 1.0372\n",
      "Epoch 60/100\n",
      "800/800 [==============================] - 5s 6ms/step - loss: 0.3580 - val_loss: 1.0634\n",
      "Epoch 61/100\n",
      "800/800 [==============================] - 5s 6ms/step - loss: 0.3451 - val_loss: 1.0450\n",
      "Epoch 62/100\n",
      "800/800 [==============================] - 5s 6ms/step - loss: 0.3390 - val_loss: 1.0709\n",
      "Epoch 63/100\n",
      "800/800 [==============================] - 5s 6ms/step - loss: 0.3311 - val_loss: 1.0621\n",
      "Epoch 64/100\n",
      "800/800 [==============================] - 5s 6ms/step - loss: 0.3231 - val_loss: 1.0476\n",
      "Epoch 65/100\n",
      "800/800 [==============================] - 5s 6ms/step - loss: 0.3117 - val_loss: 1.0810\n",
      "Epoch 66/100\n",
      "800/800 [==============================] - 5s 6ms/step - loss: 0.3053 - val_loss: 1.0762\n",
      "Epoch 67/100\n",
      "800/800 [==============================] - 5s 6ms/step - loss: 0.2973 - val_loss: 1.0776\n",
      "Epoch 68/100\n",
      "800/800 [==============================] - 5s 6ms/step - loss: 0.2901 - val_loss: 1.0949\n",
      "Epoch 69/100\n",
      "800/800 [==============================] - 5s 6ms/step - loss: 0.2853 - val_loss: 1.0964\n",
      "Epoch 70/100\n",
      "800/800 [==============================] - 5s 6ms/step - loss: 0.2774 - val_loss: 1.1003\n",
      "Epoch 71/100\n",
      "800/800 [==============================] - 5s 6ms/step - loss: 0.2643 - val_loss: 1.1100\n",
      "Epoch 72/100\n",
      "800/800 [==============================] - 5s 6ms/step - loss: 0.2578 - val_loss: 1.0836\n",
      "Epoch 73/100\n",
      "800/800 [==============================] - 5s 6ms/step - loss: 0.2574 - val_loss: 1.1638\n",
      "Epoch 74/100\n",
      "800/800 [==============================] - 5s 6ms/step - loss: 0.2433 - val_loss: 1.1124\n",
      "Epoch 75/100\n",
      "800/800 [==============================] - 5s 6ms/step - loss: 0.2410 - val_loss: 1.1378\n",
      "Epoch 76/100\n",
      "800/800 [==============================] - 5s 6ms/step - loss: 0.2399 - val_loss: 1.1405\n",
      "Epoch 77/100\n",
      "800/800 [==============================] - 5s 7ms/step - loss: 0.2269 - val_loss: 1.1471\n",
      "Epoch 78/100\n",
      "800/800 [==============================] - 5s 6ms/step - loss: 0.2272 - val_loss: 1.1482\n",
      "Epoch 79/100\n",
      "800/800 [==============================] - 5s 6ms/step - loss: 0.2152 - val_loss: 1.1312\n",
      "Epoch 80/100\n",
      "800/800 [==============================] - 5s 6ms/step - loss: 0.2121 - val_loss: 1.1483\n"
     ]
    },
    {
     "name": "stdout",
     "output_type": "stream",
     "text": [
      "Epoch 81/100\n",
      "800/800 [==============================] - 5s 6ms/step - loss: 0.2083 - val_loss: 1.1697\n",
      "Epoch 82/100\n",
      "800/800 [==============================] - 5s 6ms/step - loss: 0.2005 - val_loss: 1.1694\n",
      "Epoch 83/100\n",
      "800/800 [==============================] - 5s 6ms/step - loss: 0.1973 - val_loss: 1.1907\n",
      "Epoch 84/100\n",
      "800/800 [==============================] - 5s 6ms/step - loss: 0.1993 - val_loss: 1.1878\n",
      "Epoch 85/100\n",
      "800/800 [==============================] - 5s 6ms/step - loss: 0.1850 - val_loss: 1.2274\n",
      "Epoch 86/100\n",
      "800/800 [==============================] - 4s 6ms/step - loss: 0.1856 - val_loss: 1.2220\n",
      "Epoch 87/100\n",
      "800/800 [==============================] - 5s 6ms/step - loss: 0.1816 - val_loss: 1.2353\n",
      "Epoch 88/100\n",
      "800/800 [==============================] - 5s 6ms/step - loss: 0.1768 - val_loss: 1.2095\n",
      "Epoch 89/100\n",
      "800/800 [==============================] - 5s 6ms/step - loss: 0.1759 - val_loss: 1.2417\n",
      "Epoch 90/100\n",
      "800/800 [==============================] - 5s 7ms/step - loss: 0.1667 - val_loss: 1.2235\n",
      "Epoch 91/100\n",
      "800/800 [==============================] - 5s 7ms/step - loss: 0.1631 - val_loss: 1.2565\n",
      "Epoch 92/100\n",
      "800/800 [==============================] - 5s 6ms/step - loss: 0.1633 - val_loss: 1.2588\n",
      "Epoch 93/100\n",
      "800/800 [==============================] - 5s 6ms/step - loss: 0.1565 - val_loss: 1.2717\n",
      "Epoch 94/100\n",
      "800/800 [==============================] - 5s 6ms/step - loss: 0.1574 - val_loss: 1.2495\n",
      "Epoch 95/100\n",
      "800/800 [==============================] - 4s 6ms/step - loss: 0.1549 - val_loss: 1.2632\n",
      "Epoch 96/100\n",
      "800/800 [==============================] - 5s 6ms/step - loss: 0.1454 - val_loss: 1.2862\n",
      "Epoch 97/100\n",
      "800/800 [==============================] - 4s 6ms/step - loss: 0.1423 - val_loss: 1.2822\n",
      "Epoch 98/100\n",
      "800/800 [==============================] - 5s 6ms/step - loss: 0.1413 - val_loss: 1.2775\n",
      "Epoch 99/100\n",
      "800/800 [==============================] - 5s 6ms/step - loss: 0.1407 - val_loss: 1.3068\n",
      "Epoch 100/100\n",
      "800/800 [==============================] - 4s 6ms/step - loss: 0.1377 - val_loss: 1.2796\n"
     ]
    },
    {
     "data": {
      "text/plain": [
       "<keras.callbacks.History at 0x21840f1d278>"
      ]
     },
     "execution_count": 48,
     "metadata": {},
     "output_type": "execute_result"
    }
   ],
   "source": [
    "model.fit([encoder_input_data, decoder_input_data], decoder_target_data,\n",
    "          batch_size=batch_size,\n",
    "          epochs=epochs,\n",
    "          validation_split=0.2)\n",
    "# passing all the data here"
   ]
  },
  {
   "cell_type": "code",
   "execution_count": 50,
   "metadata": {},
   "outputs": [
    {
     "name": "stderr",
     "output_type": "stream",
     "text": [
      "C:\\Users\\Rajdeep\\AppData\\Local\\conda\\conda\\envs\\tfdeeplearning\\lib\\site-packages\\keras\\engine\\topology.py:2379: UserWarning: Layer lstm_2 was passed non-serializable keyword arguments: {'initial_state': [<tf.Tensor 'lstm_1/while/Exit_2:0' shape=(?, 256) dtype=float32>, <tf.Tensor 'lstm_1/while/Exit_3:0' shape=(?, 256) dtype=float32>]}. They will not be included in the serialized model (and thus will be missing at deserialization time).\n",
      "  str(node.arguments) + '. They will not be included '\n"
     ]
    }
   ],
   "source": [
    "model.save('seq2seqKeras.h5')"
   ]
  },
  {
   "cell_type": "code",
   "execution_count": 51,
   "metadata": {},
   "outputs": [],
   "source": [
    "# Inference Model"
   ]
  },
  {
   "cell_type": "code",
   "execution_count": 52,
   "metadata": {},
   "outputs": [],
   "source": [
    "encoder_model = Model(encoder_inputs, encoder_states)"
   ]
  },
  {
   "cell_type": "code",
   "execution_count": 54,
   "metadata": {},
   "outputs": [],
   "source": [
    "decoder_state_input_h = Input(shape=(latent_dim,))\n",
    "decoder_state_input_c = Input(shape=(latent_dim,))\n",
    "decoder_state_inputs = [decoder_state_input_h, decoder_state_input_c]\n",
    "decoder_outputs, state_h, state_c = decoder_lstm(decoder_inputs, initial_state=decoder_state_inputs)\n",
    "decoder_states = [state_h, state_c]\n",
    "decoder_outputs = decoder_dense(decoder_outputs)\n",
    "decoder_model = Model([decoder_inputs] + decoder_state_inputs, [decoder_outputs] + decoder_states)"
   ]
  },
  {
   "cell_type": "code",
   "execution_count": 55,
   "metadata": {},
   "outputs": [],
   "source": [
    "reverse_input_char_index = dict(\n",
    "    (i, char) for char, i in input_token_index.items())\n",
    "reverse_target_char_index = dict(\n",
    "    (i, char) for char, i in target_token_index.items())"
   ]
  },
  {
   "cell_type": "code",
   "execution_count": 56,
   "metadata": {},
   "outputs": [],
   "source": [
    "def decode_sequence(input_seq):\n",
    "    \"\"\"\n",
    "    This function is for decoding a sequence of english letters\n",
    "    \"\"\"\n",
    "    # Encode the input as state vectors.\n",
    "    states_value = encoder_model.predict(input_seq) # this is actually encoder_input data\n",
    "\n",
    "    # Generate empty target sequence of length 1.\n",
    "    target_seq = np.zeros((1, 1, num_decoder_tokens))\n",
    "    # Populate the first character of target sequence with the start character.\n",
    "    target_seq[0, 0, target_token_index['\\t']] = 1.\n",
    "    \n",
    "    # target_sequence is simply a one hot vector of size vocab size\n",
    "\n",
    "    # Sampling loop for a batch of sequences\n",
    "    # (to simplify, here we assume a batch of size 1).\n",
    "    stop_condition = False\n",
    "    decoded_sentence = ''\n",
    "    while not stop_condition:\n",
    "        # predicting one character at a time\n",
    "        output_tokens, h, c = decoder_model.predict(\n",
    "            [target_seq] + states_value)\n",
    "\n",
    "        # Sample a token\n",
    "        sampled_token_index = np.argmax(output_tokens[0, -1, :])\n",
    "        sampled_char = reverse_target_char_index[sampled_token_index]\n",
    "        decoded_sentence += sampled_char\n",
    "\n",
    "        # Exit condition: either hit max length\n",
    "        # or find stop character.\n",
    "        if (sampled_char == '\\n' or\n",
    "           len(decoded_sentence) > max_decoder_seq_length):\n",
    "            stop_condition = True\n",
    "\n",
    "        # Update the target sequence (of length 1).\n",
    "        target_seq = np.zeros((1, 1, num_decoder_tokens))\n",
    "        target_seq[0, 0, sampled_token_index] = 1.\n",
    "\n",
    "        # Update states\n",
    "        states_value = [h, c]\n",
    "\n",
    "    return decoded_sentence"
   ]
  },
  {
   "cell_type": "code",
   "execution_count": 60,
   "metadata": {},
   "outputs": [
    {
     "ename": "ValueError",
     "evalue": "Error when checking model : the list of Numpy arrays that you are passing to your model is not the size the model expected. Expected to see 3 array(s), but instead got the following list of 1 arrays: [array([[[1., 0., 0., 0., 0., 0., 0., 0., 0., 0., 0., 0., 0., 0., 0., 0.,\n         0., 0., 0., 0., 0., 0., 0., 0., 0., 0., 0., 0., 0., 0., 0., 0.,\n         0., 0., 0., 0., 0., 0., 0., 0., 0., 0., 0., ...",
     "output_type": "error",
     "traceback": [
      "\u001b[1;31m---------------------------------------------------------------------------\u001b[0m",
      "\u001b[1;31mValueError\u001b[0m                                Traceback (most recent call last)",
      "\u001b[1;32m<ipython-input-60-e4e4f8fcad25>\u001b[0m in \u001b[0;36m<module>\u001b[1;34m()\u001b[0m\n\u001b[0;32m      2\u001b[0m     \u001b[1;31m# this trick below is just for converting input_seq to a list\u001b[0m\u001b[1;33m\u001b[0m\u001b[1;33m\u001b[0m\u001b[0m\n\u001b[0;32m      3\u001b[0m     \u001b[0minput_seq\u001b[0m \u001b[1;33m=\u001b[0m \u001b[0mencoder_input_data\u001b[0m\u001b[1;33m[\u001b[0m\u001b[0mseq_index\u001b[0m\u001b[1;33m:\u001b[0m \u001b[0mseq_index\u001b[0m \u001b[1;33m+\u001b[0m \u001b[1;36m1\u001b[0m\u001b[1;33m]\u001b[0m\u001b[1;33m\u001b[0m\u001b[0m\n\u001b[1;32m----> 4\u001b[1;33m     \u001b[0mdecoded_sentence\u001b[0m \u001b[1;33m=\u001b[0m \u001b[0mdecode_sequence\u001b[0m\u001b[1;33m(\u001b[0m\u001b[0minput_seq\u001b[0m\u001b[1;33m=\u001b[0m\u001b[0minput_seq\u001b[0m\u001b[1;33m)\u001b[0m\u001b[1;33m\u001b[0m\u001b[0m\n\u001b[0m\u001b[0;32m      5\u001b[0m     \u001b[0mprint\u001b[0m\u001b[1;33m(\u001b[0m\u001b[1;34m'-'\u001b[0m\u001b[1;33m)\u001b[0m\u001b[1;33m\u001b[0m\u001b[0m\n\u001b[0;32m      6\u001b[0m     \u001b[0mprint\u001b[0m\u001b[1;33m(\u001b[0m\u001b[1;34m\"Input sentence: \"\u001b[0m\u001b[1;33m,\u001b[0m \u001b[0minput_texts\u001b[0m\u001b[1;33m[\u001b[0m\u001b[0mseq_index\u001b[0m\u001b[1;33m]\u001b[0m\u001b[1;33m)\u001b[0m\u001b[1;33m\u001b[0m\u001b[0m\n",
      "\u001b[1;32m<ipython-input-56-12ac3727abed>\u001b[0m in \u001b[0;36mdecode_sequence\u001b[1;34m(input_seq)\u001b[0m\n\u001b[0;32m     20\u001b[0m         \u001b[1;31m# predicting one character at a time\u001b[0m\u001b[1;33m\u001b[0m\u001b[1;33m\u001b[0m\u001b[0m\n\u001b[0;32m     21\u001b[0m         output_tokens, h, c = decoder_model.predict(\n\u001b[1;32m---> 22\u001b[1;33m             [target_seq] + states_value)\n\u001b[0m\u001b[0;32m     23\u001b[0m \u001b[1;33m\u001b[0m\u001b[0m\n\u001b[0;32m     24\u001b[0m         \u001b[1;31m# Sample a token\u001b[0m\u001b[1;33m\u001b[0m\u001b[1;33m\u001b[0m\u001b[0m\n",
      "\u001b[1;32m~\\AppData\\Local\\conda\\conda\\envs\\tfdeeplearning\\lib\\site-packages\\keras\\engine\\training.py\u001b[0m in \u001b[0;36mpredict\u001b[1;34m(self, x, batch_size, verbose, steps)\u001b[0m\n\u001b[0;32m   1815\u001b[0m         x = _standardize_input_data(x, self._feed_input_names,\n\u001b[0;32m   1816\u001b[0m                                     \u001b[0mself\u001b[0m\u001b[1;33m.\u001b[0m\u001b[0m_feed_input_shapes\u001b[0m\u001b[1;33m,\u001b[0m\u001b[1;33m\u001b[0m\u001b[0m\n\u001b[1;32m-> 1817\u001b[1;33m                                     check_batch_axis=False)\n\u001b[0m\u001b[0;32m   1818\u001b[0m         \u001b[1;32mif\u001b[0m \u001b[0mself\u001b[0m\u001b[1;33m.\u001b[0m\u001b[0mstateful\u001b[0m\u001b[1;33m:\u001b[0m\u001b[1;33m\u001b[0m\u001b[0m\n\u001b[0;32m   1819\u001b[0m             \u001b[1;32mif\u001b[0m \u001b[0mx\u001b[0m\u001b[1;33m[\u001b[0m\u001b[1;36m0\u001b[0m\u001b[1;33m]\u001b[0m\u001b[1;33m.\u001b[0m\u001b[0mshape\u001b[0m\u001b[1;33m[\u001b[0m\u001b[1;36m0\u001b[0m\u001b[1;33m]\u001b[0m \u001b[1;33m>\u001b[0m \u001b[0mbatch_size\u001b[0m \u001b[1;32mand\u001b[0m \u001b[0mx\u001b[0m\u001b[1;33m[\u001b[0m\u001b[1;36m0\u001b[0m\u001b[1;33m]\u001b[0m\u001b[1;33m.\u001b[0m\u001b[0mshape\u001b[0m\u001b[1;33m[\u001b[0m\u001b[1;36m0\u001b[0m\u001b[1;33m]\u001b[0m \u001b[1;33m%\u001b[0m \u001b[0mbatch_size\u001b[0m \u001b[1;33m!=\u001b[0m \u001b[1;36m0\u001b[0m\u001b[1;33m:\u001b[0m\u001b[1;33m\u001b[0m\u001b[0m\n",
      "\u001b[1;32m~\\AppData\\Local\\conda\\conda\\envs\\tfdeeplearning\\lib\\site-packages\\keras\\engine\\training.py\u001b[0m in \u001b[0;36m_standardize_input_data\u001b[1;34m(data, names, shapes, check_batch_axis, exception_prefix)\u001b[0m\n\u001b[0;32m     84\u001b[0m                 \u001b[1;34m'Expected to see '\u001b[0m \u001b[1;33m+\u001b[0m \u001b[0mstr\u001b[0m\u001b[1;33m(\u001b[0m\u001b[0mlen\u001b[0m\u001b[1;33m(\u001b[0m\u001b[0mnames\u001b[0m\u001b[1;33m)\u001b[0m\u001b[1;33m)\u001b[0m \u001b[1;33m+\u001b[0m \u001b[1;34m' array(s), '\u001b[0m\u001b[1;33m\u001b[0m\u001b[0m\n\u001b[0;32m     85\u001b[0m                 \u001b[1;34m'but instead got the following list of '\u001b[0m \u001b[1;33m+\u001b[0m\u001b[1;33m\u001b[0m\u001b[0m\n\u001b[1;32m---> 86\u001b[1;33m                 str(len(data)) + ' arrays: ' + str(data)[:200] + '...')\n\u001b[0m\u001b[0;32m     87\u001b[0m         \u001b[1;32melif\u001b[0m \u001b[0mlen\u001b[0m\u001b[1;33m(\u001b[0m\u001b[0mnames\u001b[0m\u001b[1;33m)\u001b[0m \u001b[1;33m>\u001b[0m \u001b[1;36m1\u001b[0m\u001b[1;33m:\u001b[0m\u001b[1;33m\u001b[0m\u001b[0m\n\u001b[0;32m     88\u001b[0m             raise ValueError(\n",
      "\u001b[1;31mValueError\u001b[0m: Error when checking model : the list of Numpy arrays that you are passing to your model is not the size the model expected. Expected to see 3 array(s), but instead got the following list of 1 arrays: [array([[[1., 0., 0., 0., 0., 0., 0., 0., 0., 0., 0., 0., 0., 0., 0., 0.,\n         0., 0., 0., 0., 0., 0., 0., 0., 0., 0., 0., 0., 0., 0., 0., 0.,\n         0., 0., 0., 0., 0., 0., 0., 0., 0., 0., 0., ..."
     ]
    }
   ],
   "source": [
    "for seq_index in range(112095, 112097):\n",
    "    # this trick below is just for converting input_seq to a list\n",
    "    input_seq = encoder_input_data[seq_index: seq_index + 1]\n",
    "    decoded_sentence = decode_sequence(input_seq=input_seq)\n",
    "    print('-')\n",
    "    print(\"Input sentence: \", input_texts[seq_index])\n",
    "    print(\"Decoded sentence: \", decoded_sentence)\n",
    "    "
   ]
  },
  {
   "cell_type": "code",
   "execution_count": null,
   "metadata": {},
   "outputs": [],
   "source": []
  }
 ],
 "metadata": {
  "kernelspec": {
   "display_name": "Python 3",
   "language": "python",
   "name": "python3"
  },
  "language_info": {
   "codemirror_mode": {
    "name": "ipython",
    "version": 3
   },
   "file_extension": ".py",
   "mimetype": "text/x-python",
   "name": "python",
   "nbconvert_exporter": "python",
   "pygments_lexer": "ipython3",
   "version": "3.5.5"
  }
 },
 "nbformat": 4,
 "nbformat_minor": 2
}
