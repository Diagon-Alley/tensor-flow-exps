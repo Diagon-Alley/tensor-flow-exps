{
 "cells": [
  {
   "cell_type": "markdown",
   "metadata": {},
   "source": [
    "## Word level Seq to Seq\n",
    "Note that this encoder decoder model is a word level encoder decoder model"
   ]
  },
  {
   "cell_type": "code",
   "execution_count": 1,
   "metadata": {},
   "outputs": [
    {
     "name": "stderr",
     "output_type": "stream",
     "text": [
      "C:\\Users\\Rajdeep\\AppData\\Local\\conda\\conda\\envs\\tfdeeplearning\\lib\\site-packages\\h5py\\__init__.py:36: FutureWarning: Conversion of the second argument of issubdtype from `float` to `np.floating` is deprecated. In future, it will be treated as `np.float64 == np.dtype(float).type`.\n",
      "  from ._conv import register_converters as _register_converters\n",
      "Using TensorFlow backend.\n"
     ]
    }
   ],
   "source": [
    "from keras.models import Model\n",
    "from keras.layers import Input, LSTM, Dense\n",
    "import numpy as np"
   ]
  },
  {
   "cell_type": "code",
   "execution_count": 2,
   "metadata": {},
   "outputs": [],
   "source": [
    "batch_size = 64 # declaring the batch size"
   ]
  },
  {
   "cell_type": "code",
   "execution_count": 3,
   "metadata": {},
   "outputs": [],
   "source": [
    "epochs = 100 # number of epochs to train"
   ]
  },
  {
   "cell_type": "code",
   "execution_count": 4,
   "metadata": {},
   "outputs": [],
   "source": [
    "latent_dim = 256"
   ]
  },
  {
   "cell_type": "code",
   "execution_count": 5,
   "metadata": {},
   "outputs": [],
   "source": [
    "num_samples = 1000"
   ]
  },
  {
   "cell_type": "code",
   "execution_count": 6,
   "metadata": {},
   "outputs": [],
   "source": [
    "import os, sys"
   ]
  },
  {
   "cell_type": "code",
   "execution_count": 67,
   "metadata": {},
   "outputs": [],
   "source": [
    "data_path = os.path.join(os.path.dirname(os.getcwd()), \"datasets\", \"fra-eng\", \"fra.txt\") # path to the corpus file\n",
    "# note that it is super important to know the format of the corpus file\n",
    "# in this case the format is such\n",
    "# <eng-text><tab><french-translation of the same eng text>\n",
    "# each new training example is in a new line"
   ]
  },
  {
   "cell_type": "code",
   "execution_count": 137,
   "metadata": {},
   "outputs": [],
   "source": [
    "input_texts = []\n",
    "target_texts = []\n",
    "# input_characters = set()\n",
    "# target_characters = set()\n",
    "input_words = set()\n",
    "target_words = set()"
   ]
  },
  {
   "cell_type": "code",
   "execution_count": 138,
   "metadata": {},
   "outputs": [],
   "source": [
    "with open(data_path, 'r', encoding='utf-8') as f:\n",
    "    lines = f.read().split(\"\\n\") # spliting training examples\n",
    "\n",
    "# remember we are trying to get only `sample` number of lines and not any more for training \n",
    "for line in lines[:min(num_samples, len(lines) - 1)]:\n",
    "    input_text, target_text = line.split(\"\\t\")\n",
    "    \n",
    "    target_text = '\\t' + target_text + \"\\n\"\n",
    "    \n",
    "    input_texts.append(input_text)\n",
    "    target_texts.append(target_text)\n",
    "    \n",
    "    # including chars in input and target characters\n",
    "#     for char in input_text:\n",
    "#         if char not in input_characters:\n",
    "#             input_characters.add(char)\n",
    "    \n",
    "#     for char in target_text:\n",
    "#         if char not in target_characters:\n",
    "#             target_characters.add(char)\n",
    "    for word in input_text.split(\" \"):\n",
    "        if word not in input_words:\n",
    "            input_words.add(word)\n",
    "    #note that the target words need to contain the tab and newline as separate words\n",
    "    for word in target_text.split(\" \"):\n",
    "        word = word.replace(\"\\t\", \"\")\n",
    "        word = word.replace(\"\\t\", \"\")\n",
    "        if word not in target_words:    \n",
    "            target_words.add(word)\n",
    "    \n",
    "target_words.add(\"\\n\")\n",
    "target_words.add(\"\\t\")"
   ]
  },
  {
   "cell_type": "code",
   "execution_count": 120,
   "metadata": {},
   "outputs": [
    {
     "name": "stdout",
     "output_type": "stream",
     "text": [
      "Number of samples: 1000\n",
      "Number of unique input tokens: 467\n",
      "Number of unique output tokens: 938\n",
      "Max sequence length for inputs: 3\n",
      "Max sequence length for outputs: 7\n"
     ]
    }
   ],
   "source": [
    "# here input_characters is the total number of input characters\n",
    "# input_characters = sorted(list(input_characters))\n",
    "# target_characters = sorted(list(target_characters))\n",
    "input_words = sorted(list(input_words))\n",
    "target_words = sorted(list(target_words))\n",
    "\n",
    "# num_encoder_tokens = len(input_characters)\n",
    "# num_decoder_tokens = len(target_characters)\n",
    "num_encoder_tokens = len(input_words)\n",
    "num_decoder_tokens = len(target_words)\n",
    "\n",
    "\n",
    "# max_encoder_seq_length = max([len(txt) for txt in input_texts])\n",
    "# max_decoder_seq_length = max([len(txt) for txt in target_texts])\n",
    "max_encoder_seq_length = max([len(txt.split(\" \")) for txt in input_texts])\n",
    "max_decoder_seq_length = max([len(txt.split(\" \")) for txt in target_texts])\n",
    "\n",
    "print(\"Number of samples: \" + str(len(input_texts))) # total number of samples that we are training\n",
    "print(\"Number of unique input tokens: \" + str(num_encoder_tokens))\n",
    "print(\"Number of unique output tokens: \" + str(num_decoder_tokens))\n",
    "print(\"Max sequence length for inputs: \" + str(max_encoder_seq_length))\n",
    "print(\"Max sequence length for outputs: \" + str(max_decoder_seq_length))\n"
   ]
  },
  {
   "cell_type": "code",
   "execution_count": 121,
   "metadata": {},
   "outputs": [],
   "source": [
    "# note that here we are only taking the first 1000 training examples"
   ]
  },
  {
   "cell_type": "code",
   "execution_count": 139,
   "metadata": {},
   "outputs": [],
   "source": [
    "# input_token_index = dict([(char, i) for i, char in enumerate(input_characters)])\n",
    "input_token_index = dict([(word, i) for i, word in enumerate(input_words)])\n",
    "# recall that input_characters is a list of all the unique input characters that we have in the 1000 training examples\n",
    "# that we have read so far\n",
    "\n",
    "# what enumerate does is that it assigns a counter to the unique characters, so basically if we get the following list\n",
    "# a = [\"ola\", \"mundo\", \"keras\"], we would get back from enumerate 1, \"ola\"; 2, \"mundo\"; 3, \"keras\"\n",
    "\n",
    "# target_token_index = dict([(char, i) for i, char in enumerate(target_characters)])\n",
    "target_token_index = dict([(word, i) for i, word in enumerate(target_words)])"
   ]
  },
  {
   "cell_type": "code",
   "execution_count": 140,
   "metadata": {},
   "outputs": [],
   "source": [
    "# here is the important part as we are defining what goes into the input data\n",
    "# max_encoder seq length is the maximum number of characters in one training example in the entire corpus\n",
    "encoder_input_data = np.zeros((len(input_texts), max_encoder_seq_length, num_encoder_tokens), dtype='float32')\n",
    "\n",
    "# the number of input_texts and the number of target_texts will be the same\n",
    "decoder_input_data = np.zeros((len(target_texts), max_decoder_seq_length, num_decoder_tokens), dtype='float32')\n",
    "decoder_target_data = np.zeros((len(target_texts), max_decoder_seq_length, num_decoder_tokens), dtype='float32')\n",
    "\n",
    "# here we just created the vectors that we are going to use as inputs for the encoder and inputs and targets for the \n",
    "# decoder"
   ]
  },
  {
   "cell_type": "code",
   "execution_count": 143,
   "metadata": {},
   "outputs": [],
   "source": [
    "for i, (input_text, target_text) in enumerate(zip(input_texts, target_texts)):\n",
    "    input_text_words = input_text.split(\" \") # the following 2 lines to be included for word level enc-dec\n",
    "    target_text_words = target_text.split(\" \")\n",
    "    for t, word in enumerate(input_text_words):\n",
    "        # i is the first index as it is the ith training example \n",
    "        # t is the second index as the t-th character in ith training example\n",
    "        encoder_input_data[i, t, input_token_index[word]] = 1\n",
    "    for t, word in enumerate(target_text_words):\n",
    "        # here a tb splitting must be done in order to treat the tab as a separate word\n",
    "        if \"\\t\" in word:\n",
    "            tab_split_words = word.split(\"\\t\")\n",
    "            decoder_input_data[i, t, target_token_index[\"\\t\"]] = 1\n",
    "            decoder_input_data[i, t, target_token_index[tab_split_words[1]]] = 1\n",
    "        else:\n",
    "            decoder_input_data[i, t, target_token_index[word]] = 1\n",
    "        \n",
    "        # Here is an important thing to understand\n",
    "        ###############---------------------------IMPORTANT------------------------#####################\n",
    "        # The decoder_target_data will be ahead of the decoder_input_data by one time step and this is an important factor\n",
    "        # The decoder_target_data will obviously not contain the first character\n",
    "        if t > 0:\n",
    "            if \"\\t\" in word:\n",
    "                tab_split_words = word.split(\"\\t\")\n",
    "                decoder_target_data[i, t-1, target_token_index[\"\\t\"]] = 1\n",
    "                decoder_target_data[i, t-1, target_token_index[tab_split_words[1]]] = 1\n",
    "            else:\n",
    "                decoder_target_data[i, t - 1, target_token_index[word]] = 1\n",
    "        "
   ]
  },
  {
   "cell_type": "code",
   "execution_count": 144,
   "metadata": {},
   "outputs": [],
   "source": [
    "encoder_inputs = Input(shape=(None, num_encoder_tokens)) # num_encoder_tokens is essentially the vocab size"
   ]
  },
  {
   "cell_type": "code",
   "execution_count": 145,
   "metadata": {},
   "outputs": [],
   "source": [
    "encoder = LSTM(latent_dim, return_state=True)\n",
    "# Each unit or cell of LSTM within the layer has an internal cell state referred to as c and a hidden state referred\n",
    "# to as h. \n",
    "# If we need to access the internal state c of the last time step we need to use return_state = True"
   ]
  },
  {
   "cell_type": "code",
   "execution_count": 146,
   "metadata": {},
   "outputs": [],
   "source": [
    "encoder_outputs, state_h, state_c = encoder(encoder_inputs)\n",
    "# here the encoder_outputs would be hidden state at last time step, state_h would be the hidden state of the last time step\n",
    "# again and state_c is the internal state of the last time step"
   ]
  },
  {
   "cell_type": "code",
   "execution_count": 147,
   "metadata": {},
   "outputs": [],
   "source": [
    "encoder_states = [state_h, state_c] # we will only keep the states and discard the output"
   ]
  },
  {
   "cell_type": "code",
   "execution_count": 148,
   "metadata": {},
   "outputs": [],
   "source": [
    "decoder_inputs = Input(shape=(None, num_decoder_tokens))"
   ]
  },
  {
   "cell_type": "code",
   "execution_count": 149,
   "metadata": {},
   "outputs": [],
   "source": [
    "decoder_lstm = LSTM(latent_dim, return_sequences=True, return_state=True)\n",
    "# return sequences will return the hidden states for each and every time step"
   ]
  },
  {
   "cell_type": "code",
   "execution_count": 150,
   "metadata": {},
   "outputs": [],
   "source": [
    "decoder_outputs, _, _ = decoder_lstm(decoder_inputs, initial_state=encoder_states)\n",
    "# note here we are passing the encoder_states as the initial_state of the decoder lstm\n",
    "# decoder_outputs will actially contain the hidden states of all the time steps as an array"
   ]
  },
  {
   "cell_type": "code",
   "execution_count": 151,
   "metadata": {},
   "outputs": [],
   "source": [
    "decoder_dense = Dense(num_decoder_tokens, activation='softmax')\n",
    "# Dense is an ordinary dense neural network. "
   ]
  },
  {
   "cell_type": "code",
   "execution_count": 152,
   "metadata": {},
   "outputs": [],
   "source": [
    "decoder_outputs = decoder_dense(decoder_outputs)"
   ]
  },
  {
   "cell_type": "code",
   "execution_count": 153,
   "metadata": {},
   "outputs": [],
   "source": [
    "model = Model([encoder_inputs, decoder_inputs], decoder_outputs)"
   ]
  },
  {
   "cell_type": "code",
   "execution_count": 154,
   "metadata": {},
   "outputs": [],
   "source": [
    "model.compile(optimizer='rmsprop', loss='categorical_crossentropy')"
   ]
  },
  {
   "cell_type": "code",
   "execution_count": 155,
   "metadata": {},
   "outputs": [
    {
     "name": "stdout",
     "output_type": "stream",
     "text": [
      "Train on 800 samples, validate on 200 samples\n",
      "Epoch 1/100\n",
      "800/800 [==============================] - 9s 11ms/step - loss: 1.5936 - val_loss: 1.6494\n",
      "Epoch 2/100\n",
      "800/800 [==============================] - 6s 7ms/step - loss: 1.2826 - val_loss: 1.6666\n",
      "Epoch 3/100\n",
      "800/800 [==============================] - 5s 7ms/step - loss: 1.1909 - val_loss: 1.7169\n",
      "Epoch 4/100\n",
      "800/800 [==============================] - 5s 7ms/step - loss: 1.1537 - val_loss: 1.7851\n",
      "Epoch 5/100\n",
      "800/800 [==============================] - 5s 7ms/step - loss: 1.1231 - val_loss: 1.7901\n",
      "Epoch 6/100\n",
      "800/800 [==============================] - 6s 7ms/step - loss: 1.0936 - val_loss: 1.8370\n",
      "Epoch 7/100\n",
      "800/800 [==============================] - 6s 7ms/step - loss: 1.0603 - val_loss: 1.9167\n",
      "Epoch 8/100\n",
      "800/800 [==============================] - 6s 7ms/step - loss: 1.0250 - val_loss: 1.9317\n",
      "Epoch 9/100\n",
      "800/800 [==============================] - 6s 7ms/step - loss: 0.9932 - val_loss: 2.0031\n",
      "Epoch 10/100\n",
      "800/800 [==============================] - 5s 7ms/step - loss: 0.9643 - val_loss: 1.9348\n",
      "Epoch 11/100\n",
      "800/800 [==============================] - 6s 7ms/step - loss: 0.9365 - val_loss: 2.0640\n",
      "Epoch 12/100\n",
      "800/800 [==============================] - 6s 7ms/step - loss: 0.9056 - val_loss: 2.1691\n",
      "Epoch 13/100\n",
      "800/800 [==============================] - 6s 8ms/step - loss: 0.8791 - val_loss: 2.0906\n",
      "Epoch 14/100\n",
      "800/800 [==============================] - 5s 7ms/step - loss: 0.8481 - val_loss: 2.1909\n",
      "Epoch 15/100\n",
      "800/800 [==============================] - 5s 7ms/step - loss: 0.8239 - val_loss: 2.1850\n",
      "Epoch 16/100\n",
      "800/800 [==============================] - 5s 7ms/step - loss: 0.7948 - val_loss: 2.3465\n",
      "Epoch 17/100\n",
      "800/800 [==============================] - 5s 7ms/step - loss: 0.7662 - val_loss: 2.2081\n",
      "Epoch 18/100\n",
      "800/800 [==============================] - 5s 7ms/step - loss: 0.7402 - val_loss: 2.2770\n",
      "Epoch 19/100\n",
      "800/800 [==============================] - 5s 7ms/step - loss: 0.7115 - val_loss: 2.2311\n",
      "Epoch 20/100\n",
      "800/800 [==============================] - 6s 7ms/step - loss: 0.6849 - val_loss: 2.3225\n",
      "Epoch 21/100\n",
      "800/800 [==============================] - 5s 7ms/step - loss: 0.6567 - val_loss: 2.3175\n",
      "Epoch 22/100\n",
      "800/800 [==============================] - 5s 7ms/step - loss: 0.6360 - val_loss: 2.3248\n",
      "Epoch 23/100\n",
      "800/800 [==============================] - 5s 7ms/step - loss: 0.6071 - val_loss: 2.3232\n",
      "Epoch 24/100\n",
      "800/800 [==============================] - 5s 7ms/step - loss: 0.5876 - val_loss: 2.3767\n",
      "Epoch 25/100\n",
      "800/800 [==============================] - 5s 7ms/step - loss: 0.5655 - val_loss: 2.3592\n",
      "Epoch 26/100\n",
      "800/800 [==============================] - 6s 7ms/step - loss: 0.5396 - val_loss: 2.3696\n",
      "Epoch 27/100\n",
      "800/800 [==============================] - 6s 7ms/step - loss: 0.5158 - val_loss: 2.3936\n",
      "Epoch 28/100\n",
      "800/800 [==============================] - 6s 7ms/step - loss: 0.4968 - val_loss: 2.3925\n",
      "Epoch 29/100\n",
      "800/800 [==============================] - 5s 7ms/step - loss: 0.4747 - val_loss: 2.4068\n",
      "Epoch 30/100\n",
      "800/800 [==============================] - 5s 6ms/step - loss: 0.4624 - val_loss: 2.3623\n",
      "Epoch 31/100\n",
      "800/800 [==============================] - 5s 7ms/step - loss: 0.4326 - val_loss: 2.3970\n",
      "Epoch 32/100\n",
      "800/800 [==============================] - 5s 6ms/step - loss: 0.4186 - val_loss: 2.3754\n",
      "Epoch 33/100\n",
      "800/800 [==============================] - 5s 7ms/step - loss: 0.4045 - val_loss: 2.4392\n",
      "Epoch 34/100\n",
      "800/800 [==============================] - 5s 7ms/step - loss: 0.3836 - val_loss: 2.4401\n",
      "Epoch 35/100\n",
      "800/800 [==============================] - 5s 6ms/step - loss: 0.3719 - val_loss: 2.4026\n",
      "Epoch 36/100\n",
      "800/800 [==============================] - 5s 7ms/step - loss: 0.3537 - val_loss: 2.4196\n",
      "Epoch 37/100\n",
      "800/800 [==============================] - 5s 7ms/step - loss: 0.3360 - val_loss: 2.4369\n",
      "Epoch 38/100\n",
      "800/800 [==============================] - 5s 6ms/step - loss: 0.3240 - val_loss: 2.4532\n",
      "Epoch 39/100\n",
      "800/800 [==============================] - 5s 7ms/step - loss: 0.3118 - val_loss: 2.4349\n",
      "Epoch 40/100\n",
      "800/800 [==============================] - 6s 7ms/step - loss: 0.2976 - val_loss: 2.4623\n",
      "Epoch 41/100\n",
      "800/800 [==============================] - 5s 7ms/step - loss: 0.2868 - val_loss: 2.4477\n",
      "Epoch 42/100\n",
      "800/800 [==============================] - 5s 7ms/step - loss: 0.2731 - val_loss: 2.4739\n",
      "Epoch 43/100\n",
      "800/800 [==============================] - 5s 7ms/step - loss: 0.2601 - val_loss: 2.4859\n",
      "Epoch 44/100\n",
      "800/800 [==============================] - 5s 6ms/step - loss: 0.2488 - val_loss: 2.4663\n",
      "Epoch 45/100\n",
      "800/800 [==============================] - 5s 6ms/step - loss: 0.2426 - val_loss: 2.4810\n",
      "Epoch 46/100\n",
      "800/800 [==============================] - 5s 6ms/step - loss: 0.2307 - val_loss: 2.4778\n",
      "Epoch 47/100\n",
      "800/800 [==============================] - 5s 6ms/step - loss: 0.2195 - val_loss: 2.4663\n",
      "Epoch 48/100\n",
      "800/800 [==============================] - 5s 7ms/step - loss: 0.2172 - val_loss: 2.4822\n",
      "Epoch 49/100\n",
      "800/800 [==============================] - 5s 6ms/step - loss: 0.2019 - val_loss: 2.5034\n",
      "Epoch 50/100\n",
      "800/800 [==============================] - 5s 7ms/step - loss: 0.1959 - val_loss: 2.4787\n",
      "Epoch 51/100\n",
      "800/800 [==============================] - 6s 7ms/step - loss: 0.1897 - val_loss: 2.4960\n",
      "Epoch 52/100\n",
      "800/800 [==============================] - 5s 7ms/step - loss: 0.1840 - val_loss: 2.4838\n",
      "Epoch 53/100\n",
      "800/800 [==============================] - 5s 6ms/step - loss: 0.1749 - val_loss: 2.4750\n",
      "Epoch 54/100\n",
      "800/800 [==============================] - 5s 6ms/step - loss: 0.1699 - val_loss: 2.4987\n",
      "Epoch 55/100\n",
      "800/800 [==============================] - 5s 6ms/step - loss: 0.1644 - val_loss: 2.4912\n",
      "Epoch 56/100\n",
      "800/800 [==============================] - 5s 7ms/step - loss: 0.1593 - val_loss: 2.4703\n",
      "Epoch 57/100\n",
      "800/800 [==============================] - 5s 6ms/step - loss: 0.1528 - val_loss: 2.4836\n",
      "Epoch 58/100\n",
      "800/800 [==============================] - 5s 7ms/step - loss: 0.1475 - val_loss: 2.5035\n",
      "Epoch 59/100\n",
      "800/800 [==============================] - 5s 6ms/step - loss: 0.1425 - val_loss: 2.4769\n",
      "Epoch 60/100\n",
      "800/800 [==============================] - 5s 6ms/step - loss: 0.1388 - val_loss: 2.4908\n",
      "Epoch 61/100\n",
      "800/800 [==============================] - 5s 6ms/step - loss: 0.1335 - val_loss: 2.4827\n",
      "Epoch 62/100\n",
      "800/800 [==============================] - 5s 7ms/step - loss: 0.1307 - val_loss: 2.4647\n",
      "Epoch 63/100\n",
      "800/800 [==============================] - 5s 6ms/step - loss: 0.1257 - val_loss: 2.4993\n",
      "Epoch 64/100\n",
      "800/800 [==============================] - 5s 6ms/step - loss: 0.1241 - val_loss: 2.4988\n",
      "Epoch 65/100\n",
      "800/800 [==============================] - 5s 6ms/step - loss: 0.1189 - val_loss: 2.4958\n",
      "Epoch 66/100\n",
      "800/800 [==============================] - 5s 6ms/step - loss: 0.1163 - val_loss: 2.4983\n",
      "Epoch 67/100\n",
      "800/800 [==============================] - 5s 6ms/step - loss: 0.1135 - val_loss: 2.4884\n",
      "Epoch 68/100\n",
      "800/800 [==============================] - 5s 6ms/step - loss: 0.1116 - val_loss: 2.4676\n",
      "Epoch 69/100\n",
      "800/800 [==============================] - 5s 6ms/step - loss: 0.1078 - val_loss: 2.4867\n",
      "Epoch 70/100\n",
      "800/800 [==============================] - 5s 6ms/step - loss: 0.1057 - val_loss: 2.4985\n",
      "Epoch 71/100\n",
      "800/800 [==============================] - 5s 6ms/step - loss: 0.1037 - val_loss: 2.5188\n",
      "Epoch 72/100\n",
      "800/800 [==============================] - 5s 6ms/step - loss: 0.1002 - val_loss: 2.4650\n",
      "Epoch 73/100\n",
      "800/800 [==============================] - 5s 7ms/step - loss: 0.0979 - val_loss: 2.5168\n",
      "Epoch 74/100\n",
      "800/800 [==============================] - 5s 7ms/step - loss: 0.0984 - val_loss: 2.4857\n",
      "Epoch 75/100\n",
      "800/800 [==============================] - 5s 7ms/step - loss: 0.0950 - val_loss: 2.5069\n",
      "Epoch 76/100\n",
      "800/800 [==============================] - 5s 6ms/step - loss: 0.0940 - val_loss: 2.5049\n",
      "Epoch 77/100\n",
      "800/800 [==============================] - 5s 6ms/step - loss: 0.0916 - val_loss: 2.5272\n",
      "Epoch 78/100\n",
      "800/800 [==============================] - 5s 6ms/step - loss: 0.0905 - val_loss: 2.5234\n",
      "Epoch 79/100\n",
      "800/800 [==============================] - 5s 7ms/step - loss: 0.0889 - val_loss: 2.5244\n",
      "Epoch 80/100\n",
      "800/800 [==============================] - 5s 6ms/step - loss: 0.0871 - val_loss: 2.5234\n"
     ]
    },
    {
     "name": "stdout",
     "output_type": "stream",
     "text": [
      "Epoch 81/100\n",
      "800/800 [==============================] - 5s 6ms/step - loss: 0.0871 - val_loss: 2.5158\n",
      "Epoch 82/100\n",
      "800/800 [==============================] - 5s 6ms/step - loss: 0.0845 - val_loss: 2.5284\n",
      "Epoch 83/100\n",
      "800/800 [==============================] - 5s 6ms/step - loss: 0.0834 - val_loss: 2.5136\n",
      "Epoch 84/100\n",
      "800/800 [==============================] - 5s 6ms/step - loss: 0.0813 - val_loss: 2.4918\n",
      "Epoch 85/100\n",
      "800/800 [==============================] - 5s 6ms/step - loss: 0.0825 - val_loss: 2.5324\n",
      "Epoch 86/100\n",
      "800/800 [==============================] - 5s 6ms/step - loss: 0.0806 - val_loss: 2.4848\n",
      "Epoch 87/100\n",
      "800/800 [==============================] - 5s 6ms/step - loss: 0.0793 - val_loss: 2.5096\n",
      "Epoch 88/100\n",
      "800/800 [==============================] - 5s 6ms/step - loss: 0.0788 - val_loss: 2.5399\n",
      "Epoch 89/100\n",
      "800/800 [==============================] - 5s 6ms/step - loss: 0.0774 - val_loss: 2.5293\n",
      "Epoch 90/100\n",
      "800/800 [==============================] - 5s 6ms/step - loss: 0.0771 - val_loss: 2.5122\n",
      "Epoch 91/100\n",
      "800/800 [==============================] - 5s 6ms/step - loss: 0.0773 - val_loss: 2.5182\n",
      "Epoch 92/100\n",
      "800/800 [==============================] - 5s 6ms/step - loss: 0.0752 - val_loss: 2.5223\n",
      "Epoch 93/100\n",
      "800/800 [==============================] - 5s 6ms/step - loss: 0.0748 - val_loss: 2.5312\n",
      "Epoch 94/100\n",
      "800/800 [==============================] - 5s 6ms/step - loss: 0.0736 - val_loss: 2.5188\n",
      "Epoch 95/100\n",
      "800/800 [==============================] - 5s 6ms/step - loss: 0.0736 - val_loss: 2.5240\n",
      "Epoch 96/100\n",
      "800/800 [==============================] - 5s 6ms/step - loss: 0.0735 - val_loss: 2.5125\n",
      "Epoch 97/100\n",
      "800/800 [==============================] - 5s 6ms/step - loss: 0.0739 - val_loss: 2.5485\n",
      "Epoch 98/100\n",
      "800/800 [==============================] - 5s 6ms/step - loss: 0.0715 - val_loss: 2.5239\n",
      "Epoch 99/100\n",
      "800/800 [==============================] - 5s 6ms/step - loss: 0.0716 - val_loss: 2.5271\n",
      "Epoch 100/100\n",
      "800/800 [==============================] - 5s 6ms/step - loss: 0.0707 - val_loss: 2.4931\n"
     ]
    },
    {
     "data": {
      "text/plain": [
       "<keras.callbacks.History at 0x1c01766ecf8>"
      ]
     },
     "execution_count": 155,
     "metadata": {},
     "output_type": "execute_result"
    }
   ],
   "source": [
    "model.fit([encoder_input_data, decoder_input_data], decoder_target_data,\n",
    "          batch_size=batch_size,\n",
    "          epochs=epochs,\n",
    "          validation_split=0.2)\n",
    "# passing all the data here"
   ]
  },
  {
   "cell_type": "code",
   "execution_count": 156,
   "metadata": {},
   "outputs": [
    {
     "name": "stderr",
     "output_type": "stream",
     "text": [
      "C:\\Users\\Rajdeep\\AppData\\Local\\conda\\conda\\envs\\tfdeeplearning\\lib\\site-packages\\keras\\engine\\topology.py:2379: UserWarning: Layer lstm_10 was passed non-serializable keyword arguments: {'initial_state': [<tf.Tensor 'lstm_9/while/Exit_2:0' shape=(?, 256) dtype=float32>, <tf.Tensor 'lstm_9/while/Exit_3:0' shape=(?, 256) dtype=float32>]}. They will not be included in the serialized model (and thus will be missing at deserialization time).\n",
      "  str(node.arguments) + '. They will not be included '\n"
     ]
    }
   ],
   "source": [
    "model.save('seq2seqKeras1000SamplesWordLevel.h5')"
   ]
  },
  {
   "cell_type": "code",
   "execution_count": 157,
   "metadata": {},
   "outputs": [],
   "source": [
    "# Inference Model (Sampling sequences)\n",
    "# For sampling the sequences here is the strategy to be followed\n",
    "\n",
    "# 1. Encode the input and retrieve the initial encoder state\n",
    "# 2. Run one step of the decoder with its initial encoder state and a \"start of sequence\" token as target\n",
    "# 3. Output will be the next target token and current states"
   ]
  },
  {
   "cell_type": "code",
   "execution_count": 158,
   "metadata": {},
   "outputs": [],
   "source": [
    "# In the original keras example, they are using the training examples themselves to predict the french statements\n",
    "# However we would like to use predict new statements\n",
    "# For this we would have to change a few things in order to achieve what we need to achieve"
   ]
  },
  {
   "cell_type": "code",
   "execution_count": 171,
   "metadata": {},
   "outputs": [
    {
     "name": "stdout",
     "output_type": "stream",
     "text": [
      "i now:0\n",
      "i now:1\n"
     ]
    }
   ],
   "source": [
    "# preparing the test data\n",
    "test_data_path = os.path.join(os.path.dirname(os.getcwd()), \"datasets\", \"fra-eng\", \"fra-test.txt\") # path to the test \n",
    "# corpus file\n",
    "test_input_texts = []\n",
    "with open(test_data_path, 'r', encoding='utf-8') as f:\n",
    "    lines = f.read().split(\"\\n\") # spliting training examples\n",
    "\n",
    "# remember we are trying to get only `sample` number of lines and not any more for training \n",
    "for line in lines:\n",
    "    input_text = line\n",
    "    \n",
    "#     target_text = '\\t' + target_text + \"\\n\"\n",
    "    \n",
    "    test_input_texts.append(input_text)\n",
    "#     target_texts.append(target_text)\n",
    "    \n",
    "encoder_test_input_data = np.zeros((len(test_input_texts), max_encoder_seq_length, num_encoder_tokens), dtype='float32')\n",
    "\n",
    "for i, (test_input_text) in enumerate(test_input_texts):\n",
    "    print(\"i now:\" + str(i))\n",
    "    test_input_text = test_input_text.split(\" \")\n",
    "    for t, word in enumerate(test_input_text):\n",
    "        # i is the first index as it is the ith training example \n",
    "        # t is the second index as the t-th character in ith training example\n",
    "#         print(\"t, char now: \" + str(t) + \", \" + str(char))\n",
    "        encoder_test_input_data[i, t, input_token_index[word]] = 1"
   ]
  },
  {
   "cell_type": "code",
   "execution_count": 172,
   "metadata": {},
   "outputs": [],
   "source": [
    "encoder_model = Model(encoder_inputs, encoder_states)"
   ]
  },
  {
   "cell_type": "code",
   "execution_count": 173,
   "metadata": {},
   "outputs": [],
   "source": [
    "decoder_state_input_h = Input(shape=(latent_dim,))\n",
    "decoder_state_input_c = Input(shape=(latent_dim,))\n",
    "decoder_state_inputs = [decoder_state_input_h, decoder_state_input_c]\n",
    "decoder_outputs, state_h, state_c = decoder_lstm(decoder_inputs, initial_state=decoder_state_inputs)\n",
    "decoder_states = [state_h, state_c]\n",
    "decoder_outputs = decoder_dense(decoder_outputs)\n",
    "decoder_model = Model([decoder_inputs] + decoder_state_inputs, [decoder_outputs] + decoder_states)"
   ]
  },
  {
   "cell_type": "code",
   "execution_count": 174,
   "metadata": {},
   "outputs": [],
   "source": [
    "# reverse_input_char_index = dict(\n",
    "#     (i, char) for char, i in input_token_index.items())\n",
    "# reverse_target_char_index = dict(\n",
    "#     (i, char) for char, i in target_token_index.items())\n",
    "reverse_input_word_index = dict(\n",
    "    (i, word) for word, i in input_token_index.items())\n",
    "reverse_target_word_index = dict(\n",
    "    (i, word) for word, i in target_token_index.items())"
   ]
  },
  {
   "cell_type": "code",
   "execution_count": 175,
   "metadata": {},
   "outputs": [],
   "source": [
    "def decode_sequence(input_seq):\n",
    "    \"\"\"\n",
    "    This function is for decoding a sequence of english letters\n",
    "    \"\"\"\n",
    "    # Encode the input as state vectors.\n",
    "    states_value = encoder_model.predict(input_seq) # this is actually encoder_input data\n",
    "\n",
    "    # Generate empty target sequence of length 1.\n",
    "    target_seq = np.zeros((1, 1, num_decoder_tokens))\n",
    "    # Populate the first character of target sequence with the start character.\n",
    "    target_seq[0, 0, target_token_index['\\t']] = 1.\n",
    "    \n",
    "    # target_sequence is simply a one hot vector of size vocab size\n",
    "\n",
    "    # Sampling loop for a batch of sequences\n",
    "    # (to simplify, here we assume a batch of size 1).\n",
    "    stop_condition = False\n",
    "    decoded_sentence = ''\n",
    "    while not stop_condition:\n",
    "        # predicting one character at a time\n",
    "        output_tokens, h, c = decoder_model.predict([target_seq] + states_value)\n",
    "\n",
    "        # Sample a token\n",
    "        sampled_token_index = np.argmax(output_tokens[0, -1, :])\n",
    "        sampled_word = reverse_target_word_index[sampled_token_index]\n",
    "        decoded_sentence += \" \" + sampled_word\n",
    "\n",
    "        # Exit condition: either hit max length\n",
    "        # or find stop character.\n",
    "        if (sampled_word == '\\n' or len(decoded_sentence) > max_decoder_seq_length):\n",
    "            stop_condition = True\n",
    "\n",
    "        # Update the target sequence (of length 1).\n",
    "        target_seq = np.zeros((1, 1, num_decoder_tokens))\n",
    "        target_seq[0, 0, sampled_token_index] = 1.\n",
    "\n",
    "        # Update states\n",
    "        states_value = [h, c]\n",
    "\n",
    "    return decoded_sentence"
   ]
  },
  {
   "cell_type": "code",
   "execution_count": 176,
   "metadata": {},
   "outputs": [
    {
     "name": "stdout",
     "output_type": "stream",
     "text": [
      "-\n",
      "Input sentence:  No Cheers!\n",
      "Decoded sentence:   n'en !\n",
      "\n",
      "-\n",
      "Input sentence:  Jump. on.\n",
      "Decoded sentence:   à rouler\n"
     ]
    }
   ],
   "source": [
    "for seq_index in range(2):\n",
    "    # this trick below is just for converting input_seq to a list\n",
    "    input_seq = encoder_test_input_data[seq_index: seq_index + 1] # we will need to form a new encoder_input_data\n",
    "    decoded_sentence = decode_sequence(input_seq=input_seq)\n",
    "    print('-')\n",
    "    print(\"Input sentence: \", test_input_texts[seq_index])\n",
    "    print(\"Decoded sentence: \", decoded_sentence)\n",
    "    "
   ]
  },
  {
   "cell_type": "code",
   "execution_count": null,
   "metadata": {},
   "outputs": [],
   "source": []
  }
 ],
 "metadata": {
  "kernelspec": {
   "display_name": "Python 3",
   "language": "python",
   "name": "python3"
  },
  "language_info": {
   "codemirror_mode": {
    "name": "ipython",
    "version": 3
   },
   "file_extension": ".py",
   "mimetype": "text/x-python",
   "name": "python",
   "nbconvert_exporter": "python",
   "pygments_lexer": "ipython3",
   "version": "3.5.5"
  }
 },
 "nbformat": 4,
 "nbformat_minor": 2
}
