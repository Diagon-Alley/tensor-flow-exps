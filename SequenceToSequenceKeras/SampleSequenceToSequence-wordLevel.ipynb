{
 "cells": [
  {
   "cell_type": "markdown",
   "metadata": {},
   "source": [
    "## Word level Seq to Seq\n",
    "Note that this encoder decoder model is a word level encoder decoder model"
   ]
  },
  {
   "cell_type": "code",
   "execution_count": 1,
   "metadata": {},
   "outputs": [
    {
     "name": "stderr",
     "output_type": "stream",
     "text": [
      "C:\\Users\\Rajdeep\\AppData\\Local\\conda\\conda\\envs\\tfdeeplearning\\lib\\site-packages\\h5py\\__init__.py:36: FutureWarning: Conversion of the second argument of issubdtype from `float` to `np.floating` is deprecated. In future, it will be treated as `np.float64 == np.dtype(float).type`.\n",
      "  from ._conv import register_converters as _register_converters\n",
      "Using TensorFlow backend.\n"
     ]
    }
   ],
   "source": [
    "from keras.models import Model\n",
    "from keras.layers import Input, LSTM, Dense\n",
    "import numpy as np"
   ]
  },
  {
   "cell_type": "code",
   "execution_count": 2,
   "metadata": {},
   "outputs": [],
   "source": [
    "batch_size = 64 # declaring the batch size"
   ]
  },
  {
   "cell_type": "code",
   "execution_count": 3,
   "metadata": {},
   "outputs": [],
   "source": [
    "epochs = 100 # number of epochs to train"
   ]
  },
  {
   "cell_type": "code",
   "execution_count": 4,
   "metadata": {},
   "outputs": [],
   "source": [
    "latent_dim = 256"
   ]
  },
  {
   "cell_type": "code",
   "execution_count": 5,
   "metadata": {},
   "outputs": [],
   "source": [
    "num_samples = 1000"
   ]
  },
  {
   "cell_type": "code",
   "execution_count": 6,
   "metadata": {},
   "outputs": [],
   "source": [
    "import os, sys"
   ]
  },
  {
   "cell_type": "code",
   "execution_count": 67,
   "metadata": {},
   "outputs": [],
   "source": [
    "data_path = os.path.join(os.path.dirname(os.getcwd()), \"datasets\", \"fra-eng\", \"fra.txt\") # path to the corpus file\n",
    "# note that it is super important to know the format of the corpus file\n",
    "# in this case the format is such\n",
    "# <eng-text><tab><french-translation of the same eng text>\n",
    "# each new training example is in a new line"
   ]
  },
  {
   "cell_type": "code",
   "execution_count": 68,
   "metadata": {},
   "outputs": [],
   "source": [
    "input_texts = []\n",
    "target_texts = []\n",
    "# input_characters = set()\n",
    "# target_characters = set()\n",
    "input_words = set()\n",
    "target_words = set()"
   ]
  },
  {
   "cell_type": "code",
   "execution_count": 69,
   "metadata": {},
   "outputs": [],
   "source": [
    "with open(data_path, 'r', encoding='utf-8') as f:\n",
    "    lines = f.read().split(\"\\n\") # spliting training examples\n",
    "\n",
    "# remember we are trying to get only `sample` number of lines and not any more for training \n",
    "for line in lines[:min(num_samples, len(lines) - 1)]:\n",
    "    input_text, target_text = line.split(\"\\t\")\n",
    "    \n",
    "    target_text = '\\t' + target_text + \"\\n\"\n",
    "    \n",
    "    input_texts.append(input_text)\n",
    "    target_texts.append(target_text)\n",
    "    \n",
    "    # including chars in input and target characters\n",
    "#     for char in input_text:\n",
    "#         if char not in input_characters:\n",
    "#             input_characters.add(char)\n",
    "    \n",
    "#     for char in target_text:\n",
    "#         if char not in target_characters:\n",
    "#             target_characters.add(char)\n",
    "    for word in input_text.split(\" \"):\n",
    "        if word not in input_words:\n",
    "            input_words.add(word)\n",
    "    #note that the target words need to contain the tab and newline as separate words\n",
    "    for word in target_text.split(\" \"):\n",
    "        word.replace(\"\\t\", \"\")\n",
    "        word.replace(\"\\n\", \"\")\n",
    "        if word not in target_words:    \n",
    "            target_words.add(word)\n",
    "    \n",
    "target_words.add(\"\\n\")\n",
    "target_words.add(\"\\t\")"
   ]
  },
  {
   "cell_type": "code",
   "execution_count": 70,
   "metadata": {},
   "outputs": [
    {
     "name": "stdout",
     "output_type": "stream",
     "text": [
      "Number of samples: 1000\n",
      "Number of unique input tokens: 467\n",
      "Number of unique output tokens: 938\n",
      "Max sequence length for inputs: 3\n",
      "Max sequence length for outputs: 7\n"
     ]
    }
   ],
   "source": [
    "# here input_characters is the total number of input characters\n",
    "# input_characters = sorted(list(input_characters))\n",
    "# target_characters = sorted(list(target_characters))\n",
    "input_words = sorted(list(input_words))\n",
    "target_words = sorted(list(target_words))\n",
    "\n",
    "# num_encoder_tokens = len(input_characters)\n",
    "# num_decoder_tokens = len(target_characters)\n",
    "num_encoder_tokens = len(input_words)\n",
    "num_decoder_tokens = len(target_words)\n",
    "\n",
    "\n",
    "# max_encoder_seq_length = max([len(txt) for txt in input_texts])\n",
    "# max_decoder_seq_length = max([len(txt) for txt in target_texts])\n",
    "max_encoder_seq_length = max([len(txt.split(\" \")) for txt in input_texts])\n",
    "max_decoder_seq_length = max([len(txt.split(\" \")) for txt in target_texts])\n",
    "\n",
    "print(\"Number of samples: \" + str(len(input_texts))) # total number of samples that we are training\n",
    "print(\"Number of unique input tokens: \" + str(num_encoder_tokens))\n",
    "print(\"Number of unique output tokens: \" + str(num_decoder_tokens))\n",
    "print(\"Max sequence length for inputs: \" + str(max_encoder_seq_length))\n",
    "print(\"Max sequence length for outputs: \" + str(max_decoder_seq_length))"
   ]
  },
  {
   "cell_type": "code",
   "execution_count": 71,
   "metadata": {},
   "outputs": [],
   "source": [
    "# note that here we are only taking the first 1000 training examples"
   ]
  },
  {
   "cell_type": "code",
   "execution_count": 72,
   "metadata": {},
   "outputs": [],
   "source": [
    "# input_token_index = dict([(char, i) for i, char in enumerate(input_characters)])\n",
    "input_token_index = dict([(word, i) for i, word in enumerate(input_words)])\n",
    "# recall that input_characters is a list of all the unique input characters that we have in the 1000 training examples\n",
    "# that we have read so far\n",
    "\n",
    "# what enumerate does is that it assigns a counter to the unique characters, so basically if we get the following list\n",
    "# a = [\"ola\", \"mundo\", \"keras\"], we would get back from enumerate 1, \"ola\"; 2, \"mundo\"; 3, \"keras\"\n",
    "\n",
    "# target_token_index = dict([(char, i) for i, char in enumerate(target_characters)])\n",
    "target_token_index = dict([(word, i) for i, word in enumerate(target_words)])"
   ]
  },
  {
   "cell_type": "code",
   "execution_count": 73,
   "metadata": {},
   "outputs": [],
   "source": [
    "# here is the important part as we are defining what goes into the input data\n",
    "# max_encoder seq length is the maximum number of characters in one training example in the entire corpus\n",
    "encoder_input_data = np.zeros((len(input_texts), max_encoder_seq_length, num_encoder_tokens), dtype='float32')\n",
    "\n",
    "# the number of input_texts and the number of target_texts will be the same\n",
    "decoder_input_data = np.zeros((len(target_texts), max_decoder_seq_length, num_decoder_tokens), dtype='float32')\n",
    "decoder_target_data = np.zeros((len(target_texts), max_decoder_seq_length, num_decoder_tokens), dtype='float32')\n",
    "\n",
    "# here we just created the vectors that we are going to use as inputs for the encoder and inputs and targets for the \n",
    "# decoder"
   ]
  },
  {
   "cell_type": "code",
   "execution_count": 74,
   "metadata": {},
   "outputs": [],
   "source": [
    "for i, (input_text, target_text) in enumerate(zip(input_texts, target_texts)):\n",
    "    input_text_words = input_text.split(\" \") # the following 2 lines to be included for word level enc-dec\n",
    "    target_text_words = target_text.split(\" \")\n",
    "    for t, word in enumerate(input_text_words):\n",
    "        # i is the first index as it is the ith training example \n",
    "        # t is the second index as the t-th character in ith training example\n",
    "        encoder_input_data[i, t, input_token_index[word]] = 1\n",
    "    for t, word in enumerate(target_text_words):\n",
    "        decoder_input_data[i, t, target_token_index[word]] = 1\n",
    "        \n",
    "        # Here is an important thing to understand\n",
    "        ###############---------------------------IMPORTANT------------------------#####################\n",
    "        # The decoder_target_data will be ahead of the decoder_input_data by one time step and this is an important factor\n",
    "        # The decoder_target_data will obviously not contain the first character\n",
    "        if t > 0:\n",
    "            decoder_target_data[i, t - 1, target_token_index[word]] = 1\n",
    "        "
   ]
  },
  {
   "cell_type": "code",
   "execution_count": 75,
   "metadata": {},
   "outputs": [],
   "source": [
    "encoder_inputs = Input(shape=(None, num_encoder_tokens)) # num_encoder_tokens is essentially the vocab size"
   ]
  },
  {
   "cell_type": "code",
   "execution_count": 76,
   "metadata": {},
   "outputs": [],
   "source": [
    "encoder = LSTM(latent_dim, return_state=True)\n",
    "# Each unit or cell of LSTM within the layer has an internal cell state referred to as c and a hidden state referred\n",
    "# to as h. \n",
    "# If we need to access the internal state c of the last time step we need to use return_state = True"
   ]
  },
  {
   "cell_type": "code",
   "execution_count": 77,
   "metadata": {},
   "outputs": [],
   "source": [
    "encoder_outputs, state_h, state_c = encoder(encoder_inputs)\n",
    "# here the encoder_outputs would be hidden state at last time step, state_h would be the hidden state of the last time step\n",
    "# again and state_c is the internal state of the last time step"
   ]
  },
  {
   "cell_type": "code",
   "execution_count": 78,
   "metadata": {},
   "outputs": [],
   "source": [
    "encoder_states = [state_h, state_c] # we will only keep the states and discard the output"
   ]
  },
  {
   "cell_type": "code",
   "execution_count": 79,
   "metadata": {},
   "outputs": [],
   "source": [
    "decoder_inputs = Input(shape=(None, num_decoder_tokens))"
   ]
  },
  {
   "cell_type": "code",
   "execution_count": 80,
   "metadata": {},
   "outputs": [],
   "source": [
    "decoder_lstm = LSTM(latent_dim, return_sequences=True, return_state=True)\n",
    "# return sequences will return the hidden states for each and every time step"
   ]
  },
  {
   "cell_type": "code",
   "execution_count": 81,
   "metadata": {},
   "outputs": [],
   "source": [
    "decoder_outputs, _, _ = decoder_lstm(decoder_inputs, initial_state=encoder_states)\n",
    "# note here we are passing the encoder_states as the initial_state of the decoder lstm\n",
    "# decoder_outputs will actially contain the hidden states of all the time steps as an array"
   ]
  },
  {
   "cell_type": "code",
   "execution_count": 82,
   "metadata": {},
   "outputs": [],
   "source": [
    "decoder_dense = Dense(num_decoder_tokens, activation='softmax')\n",
    "# Dense is an ordinary dense neural network. "
   ]
  },
  {
   "cell_type": "code",
   "execution_count": 83,
   "metadata": {},
   "outputs": [],
   "source": [
    "decoder_outputs = decoder_dense(decoder_outputs)"
   ]
  },
  {
   "cell_type": "code",
   "execution_count": 84,
   "metadata": {},
   "outputs": [],
   "source": [
    "model = Model([encoder_inputs, decoder_inputs], decoder_outputs)"
   ]
  },
  {
   "cell_type": "code",
   "execution_count": 85,
   "metadata": {},
   "outputs": [],
   "source": [
    "model.compile(optimizer='rmsprop', loss='categorical_crossentropy')"
   ]
  },
  {
   "cell_type": "code",
   "execution_count": 86,
   "metadata": {},
   "outputs": [
    {
     "name": "stdout",
     "output_type": "stream",
     "text": [
      "Train on 800 samples, validate on 200 samples\n",
      "Epoch 1/100\n",
      "800/800 [==============================] - 8s 10ms/step - loss: 1.6043 - val_loss: 1.6562\n",
      "Epoch 2/100\n",
      "800/800 [==============================] - 6s 7ms/step - loss: 1.2805 - val_loss: 1.6892\n",
      "Epoch 3/100\n",
      "800/800 [==============================] - 5s 6ms/step - loss: 1.1885 - val_loss: 1.7234\n",
      "Epoch 4/100\n",
      "800/800 [==============================] - 5s 7ms/step - loss: 1.1474 - val_loss: 1.7251\n",
      "Epoch 5/100\n",
      "800/800 [==============================] - 5s 7ms/step - loss: 1.1136 - val_loss: 1.7804\n",
      "Epoch 6/100\n",
      "800/800 [==============================] - 6s 7ms/step - loss: 1.0727 - val_loss: 1.8370\n",
      "Epoch 7/100\n",
      "800/800 [==============================] - 6s 7ms/step - loss: 1.0443 - val_loss: 1.8445\n",
      "Epoch 8/100\n",
      "800/800 [==============================] - 6s 7ms/step - loss: 1.0113 - val_loss: 1.9038\n",
      "Epoch 9/100\n",
      "800/800 [==============================] - 5s 7ms/step - loss: 0.9827 - val_loss: 1.9837\n",
      "Epoch 10/100\n",
      "800/800 [==============================] - 6s 7ms/step - loss: 0.9559 - val_loss: 1.9998\n",
      "Epoch 11/100\n",
      "800/800 [==============================] - 6s 7ms/step - loss: 0.9286 - val_loss: 2.0493\n",
      "Epoch 12/100\n",
      "800/800 [==============================] - 5s 7ms/step - loss: 0.9025 - val_loss: 2.2024\n",
      "Epoch 13/100\n",
      "800/800 [==============================] - 5s 7ms/step - loss: 0.8774 - val_loss: 2.1726\n",
      "Epoch 14/100\n",
      "800/800 [==============================] - 6s 8ms/step - loss: 0.8492 - val_loss: 2.2041\n",
      "Epoch 15/100\n",
      "800/800 [==============================] - 6s 7ms/step - loss: 0.8221 - val_loss: 2.2170\n",
      "Epoch 16/100\n",
      "800/800 [==============================] - 6s 8ms/step - loss: 0.8003 - val_loss: 2.2951\n",
      "Epoch 17/100\n",
      "800/800 [==============================] - 6s 8ms/step - loss: 0.7657 - val_loss: 2.3184\n",
      "Epoch 18/100\n",
      "800/800 [==============================] - 6s 7ms/step - loss: 0.7450 - val_loss: 2.2824\n",
      "Epoch 19/100\n",
      "800/800 [==============================] - 6s 8ms/step - loss: 0.7149 - val_loss: 2.2934\n",
      "Epoch 20/100\n",
      "800/800 [==============================] - 6s 8ms/step - loss: 0.6895 - val_loss: 2.3582\n",
      "Epoch 21/100\n",
      "800/800 [==============================] - 6s 8ms/step - loss: 0.6695 - val_loss: 2.3790\n",
      "Epoch 22/100\n",
      "800/800 [==============================] - 5s 7ms/step - loss: 0.6385 - val_loss: 2.3894\n",
      "Epoch 23/100\n",
      "800/800 [==============================] - 5s 6ms/step - loss: 0.6200 - val_loss: 2.3688\n",
      "Epoch 24/100\n",
      "800/800 [==============================] - 5s 7ms/step - loss: 0.5932 - val_loss: 2.3912\n",
      "Epoch 25/100\n",
      "800/800 [==============================] - 5s 7ms/step - loss: 0.5696 - val_loss: 2.4369\n",
      "Epoch 26/100\n",
      "800/800 [==============================] - 5s 6ms/step - loss: 0.5510 - val_loss: 2.3938\n",
      "Epoch 27/100\n",
      "800/800 [==============================] - 5s 7ms/step - loss: 0.5277 - val_loss: 2.4171\n",
      "Epoch 28/100\n",
      "800/800 [==============================] - 5s 6ms/step - loss: 0.5066 - val_loss: 2.4042\n",
      "Epoch 29/100\n",
      "800/800 [==============================] - 6s 7ms/step - loss: 0.4882 - val_loss: 2.4440\n",
      "Epoch 30/100\n",
      "800/800 [==============================] - 6s 7ms/step - loss: 0.4651 - val_loss: 2.4319\n",
      "Epoch 31/100\n",
      "800/800 [==============================] - 5s 7ms/step - loss: 0.4487 - val_loss: 2.4144\n",
      "Epoch 32/100\n",
      "800/800 [==============================] - 5s 7ms/step - loss: 0.4300 - val_loss: 2.4189\n",
      "Epoch 33/100\n",
      "800/800 [==============================] - 5s 7ms/step - loss: 0.4128 - val_loss: 2.4562\n",
      "Epoch 34/100\n",
      "800/800 [==============================] - 6s 8ms/step - loss: 0.3989 - val_loss: 2.4338\n",
      "Epoch 35/100\n",
      "800/800 [==============================] - 7s 9ms/step - loss: 0.3839 - val_loss: 2.4748\n",
      "Epoch 36/100\n",
      "800/800 [==============================] - 8s 10ms/step - loss: 0.3622 - val_loss: 2.4277\n",
      "Epoch 37/100\n",
      "800/800 [==============================] - 7s 9ms/step - loss: 0.3482 - val_loss: 2.4548\n",
      "Epoch 38/100\n",
      "800/800 [==============================] - 6s 8ms/step - loss: 0.3326 - val_loss: 2.4417\n",
      "Epoch 39/100\n",
      "800/800 [==============================] - 6s 7ms/step - loss: 0.3212 - val_loss: 2.4527\n",
      "Epoch 40/100\n",
      "800/800 [==============================] - 7s 8ms/step - loss: 0.3090 - val_loss: 2.4724\n",
      "Epoch 41/100\n",
      "800/800 [==============================] - 6s 8ms/step - loss: 0.2919 - val_loss: 2.4425\n",
      "Epoch 42/100\n",
      "800/800 [==============================] - 6s 7ms/step - loss: 0.2801 - val_loss: 2.4103\n",
      "Epoch 43/100\n",
      "800/800 [==============================] - 7s 9ms/step - loss: 0.2723 - val_loss: 2.4398\n",
      "Epoch 44/100\n",
      "800/800 [==============================] - 6s 7ms/step - loss: 0.2585 - val_loss: 2.4703\n",
      "Epoch 45/100\n",
      "800/800 [==============================] - 6s 8ms/step - loss: 0.2502 - val_loss: 2.4502\n",
      "Epoch 46/100\n",
      "800/800 [==============================] - 6s 8ms/step - loss: 0.2380 - val_loss: 2.4436\n",
      "Epoch 47/100\n",
      "800/800 [==============================] - 6s 7ms/step - loss: 0.2301 - val_loss: 2.4612\n",
      "Epoch 48/100\n",
      "800/800 [==============================] - 6s 8ms/step - loss: 0.2196 - val_loss: 2.4774\n",
      "Epoch 49/100\n",
      "800/800 [==============================] - 7s 8ms/step - loss: 0.2101 - val_loss: 2.4877\n",
      "Epoch 50/100\n",
      "800/800 [==============================] - 6s 7ms/step - loss: 0.2018 - val_loss: 2.4678\n",
      "Epoch 51/100\n",
      "800/800 [==============================] - 6s 7ms/step - loss: 0.2002 - val_loss: 2.4750\n",
      "Epoch 52/100\n",
      "800/800 [==============================] - 5s 7ms/step - loss: 0.1856 - val_loss: 2.5176\n",
      "Epoch 53/100\n",
      "800/800 [==============================] - 5s 7ms/step - loss: 0.1787 - val_loss: 2.5003\n",
      "Epoch 54/100\n",
      "800/800 [==============================] - 5s 7ms/step - loss: 0.1755 - val_loss: 2.5036\n",
      "Epoch 55/100\n",
      "800/800 [==============================] - 5s 7ms/step - loss: 0.1660 - val_loss: 2.5002\n",
      "Epoch 56/100\n",
      "800/800 [==============================] - 5s 7ms/step - loss: 0.1603 - val_loss: 2.5060\n",
      "Epoch 57/100\n",
      "800/800 [==============================] - 6s 7ms/step - loss: 0.1585 - val_loss: 2.5164\n",
      "Epoch 58/100\n",
      "800/800 [==============================] - 5s 7ms/step - loss: 0.1487 - val_loss: 2.4988\n",
      "Epoch 59/100\n",
      "800/800 [==============================] - 6s 7ms/step - loss: 0.1437 - val_loss: 2.5089\n",
      "Epoch 60/100\n",
      "800/800 [==============================] - 5s 7ms/step - loss: 0.1421 - val_loss: 2.5170\n",
      "Epoch 61/100\n",
      "800/800 [==============================] - 5s 7ms/step - loss: 0.1352 - val_loss: 2.4877\n",
      "Epoch 62/100\n",
      "800/800 [==============================] - 6s 7ms/step - loss: 0.1330 - val_loss: 2.5194\n",
      "Epoch 63/100\n",
      "800/800 [==============================] - 6s 7ms/step - loss: 0.1260 - val_loss: 2.5018\n",
      "Epoch 64/100\n",
      "800/800 [==============================] - 6s 7ms/step - loss: 0.1240 - val_loss: 2.4956\n",
      "Epoch 65/100\n",
      "800/800 [==============================] - 6s 7ms/step - loss: 0.1226 - val_loss: 2.5145\n",
      "Epoch 66/100\n",
      "800/800 [==============================] - 5s 7ms/step - loss: 0.1172 - val_loss: 2.5125\n",
      "Epoch 67/100\n",
      "800/800 [==============================] - 6s 7ms/step - loss: 0.1139 - val_loss: 2.4943\n",
      "Epoch 68/100\n",
      "800/800 [==============================] - 6s 7ms/step - loss: 0.1120 - val_loss: 2.5100\n",
      "Epoch 69/100\n",
      "800/800 [==============================] - 6s 7ms/step - loss: 0.1086 - val_loss: 2.5100\n",
      "Epoch 70/100\n",
      "800/800 [==============================] - 6s 8ms/step - loss: 0.1053 - val_loss: 2.5200\n",
      "Epoch 71/100\n",
      "800/800 [==============================] - 6s 7ms/step - loss: 0.1047 - val_loss: 2.5024\n",
      "Epoch 72/100\n",
      "800/800 [==============================] - 6s 8ms/step - loss: 0.1014 - val_loss: 2.4940\n",
      "Epoch 73/100\n",
      "800/800 [==============================] - 5s 7ms/step - loss: 0.0985 - val_loss: 2.5190\n",
      "Epoch 74/100\n",
      "800/800 [==============================] - 5s 7ms/step - loss: 0.0989 - val_loss: 2.5175\n",
      "Epoch 75/100\n",
      "800/800 [==============================] - 5s 7ms/step - loss: 0.0951 - val_loss: 2.5185\n",
      "Epoch 76/100\n",
      "800/800 [==============================] - 5s 7ms/step - loss: 0.0935 - val_loss: 2.4770\n",
      "Epoch 77/100\n",
      "800/800 [==============================] - 5s 7ms/step - loss: 0.0906 - val_loss: 2.5422\n",
      "Epoch 78/100\n",
      "800/800 [==============================] - 5s 7ms/step - loss: 0.0909 - val_loss: 2.4774\n",
      "Epoch 79/100\n",
      "800/800 [==============================] - 5s 7ms/step - loss: 0.0880 - val_loss: 2.5303\n",
      "Epoch 80/100\n",
      "800/800 [==============================] - 6s 7ms/step - loss: 0.0876 - val_loss: 2.5164\n"
     ]
    },
    {
     "name": "stdout",
     "output_type": "stream",
     "text": [
      "Epoch 81/100\n",
      "800/800 [==============================] - 6s 7ms/step - loss: 0.0858 - val_loss: 2.5340\n",
      "Epoch 82/100\n",
      "800/800 [==============================] - 6s 7ms/step - loss: 0.0845 - val_loss: 2.5166\n",
      "Epoch 83/100\n",
      "800/800 [==============================] - 5s 7ms/step - loss: 0.0831 - val_loss: 2.5186\n",
      "Epoch 84/100\n",
      "800/800 [==============================] - 5s 7ms/step - loss: 0.0835 - val_loss: 2.5100\n",
      "Epoch 85/100\n",
      "800/800 [==============================] - 5s 7ms/step - loss: 0.0810 - val_loss: 2.5229\n",
      "Epoch 86/100\n",
      "800/800 [==============================] - 5s 7ms/step - loss: 0.0809 - val_loss: 2.5126\n",
      "Epoch 87/100\n",
      "800/800 [==============================] - 5s 7ms/step - loss: 0.0785 - val_loss: 2.4946\n",
      "Epoch 88/100\n",
      "800/800 [==============================] - 6s 7ms/step - loss: 0.0789 - val_loss: 2.5164\n",
      "Epoch 89/100\n",
      "800/800 [==============================] - 7s 8ms/step - loss: 0.0772 - val_loss: 2.4876\n",
      "Epoch 90/100\n",
      "800/800 [==============================] - 6s 8ms/step - loss: 0.0772 - val_loss: 2.5044\n",
      "Epoch 91/100\n",
      "800/800 [==============================] - 6s 8ms/step - loss: 0.0754 - val_loss: 2.5223\n",
      "Epoch 92/100\n",
      "800/800 [==============================] - 6s 7ms/step - loss: 0.0746 - val_loss: 2.5308\n",
      "Epoch 93/100\n",
      "800/800 [==============================] - 6s 7ms/step - loss: 0.0761 - val_loss: 2.5162\n",
      "Epoch 94/100\n",
      "800/800 [==============================] - 6s 7ms/step - loss: 0.0729 - val_loss: 2.5279\n",
      "Epoch 95/100\n",
      "800/800 [==============================] - 6s 7ms/step - loss: 0.0731 - val_loss: 2.4802\n",
      "Epoch 96/100\n",
      "800/800 [==============================] - 5s 7ms/step - loss: 0.0734 - val_loss: 2.4943\n",
      "Epoch 97/100\n",
      "800/800 [==============================] - 5s 7ms/step - loss: 0.0720 - val_loss: 2.5190\n",
      "Epoch 98/100\n",
      "800/800 [==============================] - 5s 7ms/step - loss: 0.0717 - val_loss: 2.5090\n",
      "Epoch 99/100\n",
      "800/800 [==============================] - 5s 7ms/step - loss: 0.0719 - val_loss: 2.5177\n",
      "Epoch 100/100\n",
      "800/800 [==============================] - 5s 7ms/step - loss: 0.0707 - val_loss: 2.5043\n"
     ]
    },
    {
     "data": {
      "text/plain": [
       "<keras.callbacks.History at 0x1c006f3a198>"
      ]
     },
     "execution_count": 86,
     "metadata": {},
     "output_type": "execute_result"
    }
   ],
   "source": [
    "model.fit([encoder_input_data, decoder_input_data], decoder_target_data,\n",
    "          batch_size=batch_size,\n",
    "          epochs=epochs,\n",
    "          validation_split=0.2)\n",
    "# passing all the data here"
   ]
  },
  {
   "cell_type": "code",
   "execution_count": 87,
   "metadata": {},
   "outputs": [
    {
     "name": "stderr",
     "output_type": "stream",
     "text": [
      "C:\\Users\\Rajdeep\\AppData\\Local\\conda\\conda\\envs\\tfdeeplearning\\lib\\site-packages\\keras\\engine\\topology.py:2379: UserWarning: Layer lstm_6 was passed non-serializable keyword arguments: {'initial_state': [<tf.Tensor 'lstm_5/while/Exit_2:0' shape=(?, 256) dtype=float32>, <tf.Tensor 'lstm_5/while/Exit_3:0' shape=(?, 256) dtype=float32>]}. They will not be included in the serialized model (and thus will be missing at deserialization time).\n",
      "  str(node.arguments) + '. They will not be included '\n"
     ]
    }
   ],
   "source": [
    "model.save('seq2seqKeras1000SamplesWordLevel.h5')"
   ]
  },
  {
   "cell_type": "code",
   "execution_count": 88,
   "metadata": {},
   "outputs": [],
   "source": [
    "# Inference Model (Sampling sequences)\n",
    "# For sampling the sequences here is the strategy to be followed\n",
    "\n",
    "# 1. Encode the input and retrieve the initial encoder state\n",
    "# 2. Run one step of the decoder with its initial encoder state and a \"start of sequence\" token as target\n",
    "# 3. Output will be the next target token and current states"
   ]
  },
  {
   "cell_type": "code",
   "execution_count": 89,
   "metadata": {},
   "outputs": [],
   "source": [
    "# In the original keras example, they are using the training examples themselves to predict the french statements\n",
    "# However we would like to use predict new statements\n",
    "# For this we would have to change a few things in order to achieve what we need to achieve"
   ]
  },
  {
   "cell_type": "code",
   "execution_count": 90,
   "metadata": {},
   "outputs": [
    {
     "name": "stdout",
     "output_type": "stream",
     "text": [
      "i now:0\n",
      "i now:1\n"
     ]
    }
   ],
   "source": [
    "# preparing the test data\n",
    "test_data_path = os.path.join(os.path.dirname(os.getcwd()), \"datasets\", \"fra-eng\", \"fra-test.txt\") # path to the test \n",
    "# corpus file\n",
    "test_input_texts = []\n",
    "with open(test_data_path, 'r', encoding='utf-8') as f:\n",
    "    lines = f.read().split(\"\\n\") # spliting training examples\n",
    "\n",
    "# remember we are trying to get only `sample` number of lines and not any more for training \n",
    "for line in lines:\n",
    "    input_text = line\n",
    "    \n",
    "#     target_text = '\\t' + target_text + \"\\n\"\n",
    "    \n",
    "    test_input_texts.append(input_text)\n",
    "#     target_texts.append(target_text)\n",
    "    \n",
    "encoder_test_input_data = np.zeros((len(test_input_texts), max_encoder_seq_length, num_encoder_tokens), dtype='float32')\n",
    "\n",
    "for i, (test_input_text) in enumerate(test_input_texts):\n",
    "    print(\"i now:\" + str(i))\n",
    "    test_input_text = test_input_text.split(\" \")\n",
    "    for t, word in enumerate(test_input_text):\n",
    "        # i is the first index as it is the ith training example \n",
    "        # t is the second index as the t-th character in ith training example\n",
    "#         print(\"t, char now: \" + str(t) + \", \" + str(char))\n",
    "        encoder_test_input_data[i, t, input_token_index[word]] = 1"
   ]
  },
  {
   "cell_type": "code",
   "execution_count": 97,
   "metadata": {},
   "outputs": [],
   "source": [
    "encoder_model = Model(encoder_inputs, encoder_states)"
   ]
  },
  {
   "cell_type": "code",
   "execution_count": 98,
   "metadata": {},
   "outputs": [],
   "source": [
    "decoder_state_input_h = Input(shape=(latent_dim,))\n",
    "decoder_state_input_c = Input(shape=(latent_dim,))\n",
    "decoder_state_inputs = [decoder_state_input_h, decoder_state_input_c]\n",
    "decoder_outputs, state_h, state_c = decoder_lstm(decoder_inputs, initial_state=decoder_state_inputs)\n",
    "decoder_states = [state_h, state_c]\n",
    "decoder_outputs = decoder_dense(decoder_outputs)\n",
    "decoder_model = Model([decoder_inputs] + decoder_state_inputs, [decoder_outputs] + decoder_states)"
   ]
  },
  {
   "cell_type": "code",
   "execution_count": 99,
   "metadata": {},
   "outputs": [],
   "source": [
    "# reverse_input_char_index = dict(\n",
    "#     (i, char) for char, i in input_token_index.items())\n",
    "# reverse_target_char_index = dict(\n",
    "#     (i, char) for char, i in target_token_index.items())\n",
    "reverse_input_word_index = dict(\n",
    "    (i, word) for word, i in input_token_index.items())\n",
    "reverse_target_word_index = dict(\n",
    "    (i, word) for word, i in target_token_index.items())"
   ]
  },
  {
   "cell_type": "code",
   "execution_count": 100,
   "metadata": {},
   "outputs": [],
   "source": [
    "def decode_sequence(input_seq):\n",
    "    \"\"\"\n",
    "    This function is for decoding a sequence of english letters\n",
    "    \"\"\"\n",
    "    # Encode the input as state vectors.\n",
    "    states_value = encoder_model.predict(input_seq) # this is actually encoder_input data\n",
    "\n",
    "    # Generate empty target sequence of length 1.\n",
    "    target_seq = np.zeros((1, 1, num_decoder_tokens))\n",
    "    # Populate the first character of target sequence with the start character.\n",
    "    target_seq[0, 0, target_token_index['\\t']] = 1.\n",
    "    \n",
    "    # target_sequence is simply a one hot vector of size vocab size\n",
    "\n",
    "    # Sampling loop for a batch of sequences\n",
    "    # (to simplify, here we assume a batch of size 1).\n",
    "    stop_condition = False\n",
    "    decoded_sentence = ''\n",
    "    while not stop_condition:\n",
    "        # predicting one character at a time\n",
    "        output_tokens, h, c = decoder_model.predict([target_seq] + states_value)\n",
    "\n",
    "        # Sample a token\n",
    "        sampled_token_index = np.argmax(output_tokens[0, -1, :])\n",
    "        sampled_word = reverse_target_word_index[sampled_token_index]\n",
    "        decoded_sentence += \" \" + sampled_word\n",
    "\n",
    "        # Exit condition: either hit max length\n",
    "        # or find stop character.\n",
    "        if (sampled_word == '\\n' or len(decoded_sentence) > max_decoder_seq_length):\n",
    "            stop_condition = True\n",
    "\n",
    "        # Update the target sequence (of length 1).\n",
    "        target_seq = np.zeros((1, 1, num_decoder_tokens))\n",
    "        target_seq[0, 0, sampled_token_index] = 1.\n",
    "\n",
    "        # Update states\n",
    "        states_value = [h, c]\n",
    "\n",
    "    return decoded_sentence"
   ]
  },
  {
   "cell_type": "code",
   "execution_count": 101,
   "metadata": {},
   "outputs": [
    {
     "name": "stdout",
     "output_type": "stream",
     "text": [
      "-\n",
      "Input sentence:  They cried.\n",
      "Decoded sentence:   pleura.\n",
      "\n",
      "-\n",
      "Input sentence:  Try Tom.\n",
      "Decoded sentence:   un Tom.\n",
      "\n"
     ]
    }
   ],
   "source": [
    "for seq_index in range(2):\n",
    "    # this trick below is just for converting input_seq to a list\n",
    "    input_seq = encoder_test_input_data[seq_index: seq_index + 1] # we will need to form a new encoder_input_data\n",
    "    decoded_sentence = decode_sequence(input_seq=input_seq)\n",
    "    print('-')\n",
    "    print(\"Input sentence: \", test_input_texts[seq_index])\n",
    "    print(\"Decoded sentence: \", decoded_sentence)\n",
    "    "
   ]
  },
  {
   "cell_type": "code",
   "execution_count": null,
   "metadata": {},
   "outputs": [],
   "source": []
  }
 ],
 "metadata": {
  "kernelspec": {
   "display_name": "Python 3",
   "language": "python",
   "name": "python3"
  },
  "language_info": {
   "codemirror_mode": {
    "name": "ipython",
    "version": 3
   },
   "file_extension": ".py",
   "mimetype": "text/x-python",
   "name": "python",
   "nbconvert_exporter": "python",
   "pygments_lexer": "ipython3",
   "version": "3.5.5"
  }
 },
 "nbformat": 4,
 "nbformat_minor": 2
}
