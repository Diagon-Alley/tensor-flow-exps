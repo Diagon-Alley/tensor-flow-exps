{
 "cells": [
  {
   "cell_type": "markdown",
   "metadata": {},
   "source": [
    "## Word level Seq to Seq\n",
    "Note that this encoder decoder model is a word level encoder decoder model"
   ]
  },
  {
   "cell_type": "code",
   "execution_count": 3,
   "metadata": {},
   "outputs": [
    {
     "name": "stderr",
     "output_type": "stream",
     "text": [
      "C:\\Users\\Rajdeep\\AppData\\Local\\conda\\conda\\envs\\tfdeeplearning\\lib\\site-packages\\h5py\\__init__.py:36: FutureWarning: Conversion of the second argument of issubdtype from `float` to `np.floating` is deprecated. In future, it will be treated as `np.float64 == np.dtype(float).type`.\n",
      "  from ._conv import register_converters as _register_converters\n",
      "Using TensorFlow backend.\n"
     ]
    }
   ],
   "source": [
    "from keras.models import Model\n",
    "from keras.layers import Input, LSTM, Dense\n",
    "import numpy as np"
   ]
  },
  {
   "cell_type": "code",
   "execution_count": 60,
   "metadata": {},
   "outputs": [],
   "source": [
    "batch_size = 64 # declaring the batch size"
   ]
  },
  {
   "cell_type": "code",
   "execution_count": 61,
   "metadata": {},
   "outputs": [],
   "source": [
    "epochs = 100 # number of epochs to train"
   ]
  },
  {
   "cell_type": "code",
   "execution_count": 62,
   "metadata": {},
   "outputs": [],
   "source": [
    "latent_dim = 256"
   ]
  },
  {
   "cell_type": "code",
   "execution_count": 63,
   "metadata": {},
   "outputs": [],
   "source": [
    "num_samples = 2000"
   ]
  },
  {
   "cell_type": "code",
   "execution_count": 64,
   "metadata": {},
   "outputs": [],
   "source": [
    "import os, sys"
   ]
  },
  {
   "cell_type": "code",
   "execution_count": 65,
   "metadata": {},
   "outputs": [],
   "source": [
    "data_path = os.path.join(os.path.dirname(os.getcwd()), \"datasets\", \"fra-eng\", \"fra.txt\") # path to the corpus file\n",
    "# note that it is super important to know the format of the corpus file\n",
    "# in this case the format is such\n",
    "# <eng-text><tab><french-translation of the same eng text>\n",
    "# each new training example is in a new line"
   ]
  },
  {
   "cell_type": "code",
   "execution_count": 66,
   "metadata": {},
   "outputs": [],
   "source": [
    "input_texts = []\n",
    "target_texts = []\n",
    "# input_characters = set()\n",
    "# target_characters = set()\n",
    "input_words = set()\n",
    "target_words = set()"
   ]
  },
  {
   "cell_type": "code",
   "execution_count": 68,
   "metadata": {},
   "outputs": [],
   "source": [
    "with open(data_path, 'r', encoding='utf-8') as f:\n",
    "    lines = f.read().split(\"\\n\") # spliting training examples\n",
    "    \n",
    "lines = lines[:num_samples]\n",
    "lines = lines[::-1]\n",
    "\n",
    "# remember we are trying to get only `sample` number of lines and not any more for training \n",
    "for line in lines[:min(num_samples, len(lines) - 1)]:\n",
    "    input_text, target_text = line.split(\"\\t\")\n",
    "    \n",
    "    target_text = '\\t' + target_text + \"\\n\"\n",
    "    \n",
    "    input_texts.append(input_text)\n",
    "    target_texts.append(target_text)\n",
    "    \n",
    "    # including chars in input and target characters\n",
    "#     for char in input_text:\n",
    "#         if char not in input_characters:\n",
    "#             input_characters.add(char)\n",
    "    \n",
    "#     for char in target_text:\n",
    "#         if char not in target_characters:\n",
    "#             target_characters.add(char)\n",
    "    for word in input_text.split(\" \"):\n",
    "        if word not in input_words:\n",
    "            input_words.add(word)\n",
    "    #note that the target words need to contain the tab and newline as separate words\n",
    "    for word in target_text.split(\" \"):\n",
    "        word = word.replace(\"\\t\", \"\")\n",
    "        word = word.replace(\"\\t\", \"\")\n",
    "        if word not in target_words:    \n",
    "            target_words.add(word)\n",
    "    \n",
    "input_words.add(\".\")\n",
    "\n",
    "target_words.add(\"\\n\")\n",
    "target_words.add(\"\\t\")"
   ]
  },
  {
   "cell_type": "code",
   "execution_count": 69,
   "metadata": {},
   "outputs": [
    {
     "name": "stdout",
     "output_type": "stream",
     "text": [
      "Number of samples: 3998\n",
      "Number of unique input tokens: 845\n",
      "Number of unique output tokens: 1645\n",
      "Max sequence length for inputs: 4\n",
      "Max sequence length for outputs: 9\n"
     ]
    }
   ],
   "source": [
    "# here input_characters is the total number of input characters\n",
    "# input_characters = sorted(list(input_characters))\n",
    "# target_characters = sorted(list(target_characters))\n",
    "input_words = sorted(list(input_words))\n",
    "target_words = sorted(list(target_words))\n",
    "\n",
    "# num_encoder_tokens = len(input_characters)\n",
    "# num_decoder_tokens = len(target_characters)\n",
    "num_encoder_tokens = len(input_words)\n",
    "num_decoder_tokens = len(target_words)\n",
    "\n",
    "\n",
    "# max_encoder_seq_length = max([len(txt) for txt in input_texts])\n",
    "# max_decoder_seq_length = max([len(txt) for txt in target_texts])\n",
    "max_encoder_seq_length = max([len(txt.split(\" \")) for txt in input_texts])\n",
    "max_decoder_seq_length = max([len(txt.split(\" \")) for txt in target_texts])\n",
    "\n",
    "print(\"Number of samples: \" + str(len(input_texts))) # total number of samples that we are training\n",
    "print(\"Number of unique input tokens: \" + str(num_encoder_tokens))\n",
    "print(\"Number of unique output tokens: \" + str(num_decoder_tokens))\n",
    "print(\"Max sequence length for inputs: \" + str(max_encoder_seq_length))\n",
    "print(\"Max sequence length for outputs: \" + str(max_decoder_seq_length))\n"
   ]
  },
  {
   "cell_type": "code",
   "execution_count": 70,
   "metadata": {},
   "outputs": [],
   "source": [
    "# note that here we are only taking the first 1000 training examples"
   ]
  },
  {
   "cell_type": "code",
   "execution_count": 71,
   "metadata": {},
   "outputs": [],
   "source": [
    "# input_token_index = dict([(char, i) for i, char in enumerate(input_characters)])\n",
    "input_token_index = dict([(word, i) for i, word in enumerate(input_words)])\n",
    "# recall that input_characters is a list of all the unique input characters that we have in the 1000 training examples\n",
    "# that we have read so far\n",
    "\n",
    "# what enumerate does is that it assigns a counter to the unique characters, so basically if we get the following list\n",
    "# a = [\"ola\", \"mundo\", \"keras\"], we would get back from enumerate 1, \"ola\"; 2, \"mundo\"; 3, \"keras\"\n",
    "\n",
    "# target_token_index = dict([(char, i) for i, char in enumerate(target_characters)])\n",
    "target_token_index = dict([(word, i) for i, word in enumerate(target_words)])"
   ]
  },
  {
   "cell_type": "code",
   "execution_count": 72,
   "metadata": {},
   "outputs": [],
   "source": [
    "# here is the important part as we are defining what goes into the input data\n",
    "# max_encoder seq length is the maximum number of characters in one training example in the entire corpus\n",
    "encoder_input_data = np.zeros((len(input_texts), max_encoder_seq_length, num_encoder_tokens), dtype='float32')\n",
    "\n",
    "# the number of input_texts and the number of target_texts will be the same\n",
    "decoder_input_data = np.zeros((len(target_texts), max_decoder_seq_length, num_decoder_tokens), dtype='float32')\n",
    "decoder_target_data = np.zeros((len(target_texts), max_decoder_seq_length, num_decoder_tokens), dtype='float32')\n",
    "\n",
    "# here we just created the vectors that we are going to use as inputs for the encoder and inputs and targets for the \n",
    "# decoder"
   ]
  },
  {
   "cell_type": "code",
   "execution_count": 73,
   "metadata": {},
   "outputs": [],
   "source": [
    "for i, (input_text, target_text) in enumerate(zip(input_texts, target_texts)):\n",
    "    input_text_words = input_text.split(\" \") # the following 2 lines to be included for word level enc-dec\n",
    "    target_text_words = target_text.split(\" \")\n",
    "    for t, word in enumerate(input_text_words):\n",
    "        # i is the first index as it is the ith training example \n",
    "        # t is the second index as the t-th character in ith training example\n",
    "        if \".\" in word and word[- 1] != \".\": # patchy method of considering punctuations '.' and ',' as separate words\n",
    "            period_split_words = word.split(\".\")\n",
    "            encoder_input_data[i, t, input_token_index[\".\"]] = 1\n",
    "            encoder_input_data[i, t, input_token_index[period_split_words[1]]] = 1\n",
    "        else:\n",
    "            encoder_input_data[i, t, input_token_index[word]] = 1\n",
    "            \n",
    "    for t, word in enumerate(target_text_words):\n",
    "        # here a tb splitting must be done in order to treat the tab as a separate word\n",
    "        if \"\\t\" in word:\n",
    "            tab_split_words = word.split(\"\\t\")\n",
    "            decoder_input_data[i, t, target_token_index[\"\\t\"]] = 1\n",
    "            decoder_input_data[i, t, target_token_index[tab_split_words[1]]] = 1\n",
    "        else:\n",
    "            decoder_input_data[i, t, target_token_index[word]] = 1\n",
    "        \n",
    "        # Here is an important thing to understand\n",
    "        ###############---------------------------IMPORTANT------------------------#####################\n",
    "        # The decoder_target_data will be ahead of the decoder_input_data by one time step and this is an important factor\n",
    "        # The decoder_target_data will obviously not contain the first character\n",
    "        if t > 0:\n",
    "            if \"\\t\" in word:\n",
    "                tab_split_words = word.split(\"\\t\")\n",
    "                decoder_target_data[i, t-1, target_token_index[\"\\t\"]] = 1\n",
    "                decoder_target_data[i, t-1, target_token_index[tab_split_words[1]]] = 1\n",
    "            else:\n",
    "                decoder_target_data[i, t - 1, target_token_index[word]] = 1\n",
    "        "
   ]
  },
  {
   "cell_type": "code",
   "execution_count": 74,
   "metadata": {},
   "outputs": [],
   "source": [
    "encoder_inputs = Input(shape=(None, num_encoder_tokens)) # num_encoder_tokens is essentially the vocab size"
   ]
  },
  {
   "cell_type": "code",
   "execution_count": 75,
   "metadata": {},
   "outputs": [],
   "source": [
    "encoder = LSTM(latent_dim, return_state=True)\n",
    "# Each unit or cell of LSTM within the layer has an internal cell state referred to as c and a hidden state referred\n",
    "# to as h. \n",
    "# If we need to access the internal state c of the last time step we need to use return_state = True"
   ]
  },
  {
   "cell_type": "code",
   "execution_count": 76,
   "metadata": {},
   "outputs": [],
   "source": [
    "encoder_outputs, state_h, state_c = encoder(encoder_inputs)\n",
    "# here the encoder_outputs would be hidden state at last time step, state_h would be the hidden state of the last time step\n",
    "# again and state_c is the internal state of the last time step"
   ]
  },
  {
   "cell_type": "code",
   "execution_count": 77,
   "metadata": {},
   "outputs": [],
   "source": [
    "encoder_states = [state_h, state_c] # we will only keep the states and discard the output"
   ]
  },
  {
   "cell_type": "code",
   "execution_count": 78,
   "metadata": {},
   "outputs": [],
   "source": [
    "decoder_inputs = Input(shape=(None, num_decoder_tokens))"
   ]
  },
  {
   "cell_type": "code",
   "execution_count": 79,
   "metadata": {},
   "outputs": [],
   "source": [
    "decoder_lstm = LSTM(latent_dim, return_sequences=True, return_state=True)\n",
    "# return sequences will return the hidden states for each and every time step"
   ]
  },
  {
   "cell_type": "code",
   "execution_count": 80,
   "metadata": {},
   "outputs": [],
   "source": [
    "decoder_outputs, _, _ = decoder_lstm(decoder_inputs, initial_state=encoder_states)\n",
    "# note here we are passing the encoder_states as the initial_state of the decoder lstm\n",
    "# decoder_outputs will actially contain the hidden states of all the time steps as an array"
   ]
  },
  {
   "cell_type": "code",
   "execution_count": 81,
   "metadata": {},
   "outputs": [],
   "source": [
    "decoder_dense = Dense(num_decoder_tokens, activation='softmax')\n",
    "# Dense is an ordinary dense neural network. "
   ]
  },
  {
   "cell_type": "code",
   "execution_count": 82,
   "metadata": {},
   "outputs": [],
   "source": [
    "decoder_outputs = decoder_dense(decoder_outputs)"
   ]
  },
  {
   "cell_type": "code",
   "execution_count": 83,
   "metadata": {},
   "outputs": [],
   "source": [
    "model = Model([encoder_inputs, decoder_inputs], decoder_outputs)"
   ]
  },
  {
   "cell_type": "code",
   "execution_count": 84,
   "metadata": {},
   "outputs": [],
   "source": [
    "model.compile(optimizer='rmsprop', loss='categorical_crossentropy')"
   ]
  },
  {
   "cell_type": "code",
   "execution_count": null,
   "metadata": {},
   "outputs": [
    {
     "name": "stdout",
     "output_type": "stream",
     "text": [
      "Train on 3198 samples, validate on 800 samples\n",
      "Epoch 1/100\n",
      "3198/3198 [==============================] - 48s 15ms/step - loss: 1.3698 - val_loss: 1.0196\n",
      "Epoch 2/100\n",
      "3198/3198 [==============================] - 52s 16ms/step - loss: 1.2137 - val_loss: 0.9631\n",
      "Epoch 3/100\n",
      "3198/3198 [==============================] - 45s 14ms/step - loss: 1.1446 - val_loss: 0.9062\n",
      "Epoch 4/100\n",
      "3198/3198 [==============================] - 42s 13ms/step - loss: 1.0699 - val_loss: 0.8699\n",
      "Epoch 5/100\n",
      "3198/3198 [==============================] - 42s 13ms/step - loss: 0.9927 - val_loss: 0.8074\n",
      "Epoch 6/100\n",
      "3198/3198 [==============================] - 42s 13ms/step - loss: 0.9219 - val_loss: 0.7677\n",
      "Epoch 7/100\n",
      "3198/3198 [==============================] - 42s 13ms/step - loss: 0.8602 - val_loss: 0.7289\n",
      "Epoch 8/100\n",
      "3198/3198 [==============================] - 43s 13ms/step - loss: 0.8013 - val_loss: 0.6945\n",
      "Epoch 9/100\n",
      "3198/3198 [==============================] - 48s 15ms/step - loss: 0.7488 - val_loss: 0.6693\n",
      "Epoch 10/100\n",
      "3198/3198 [==============================] - 43s 13ms/step - loss: 0.6976 - val_loss: 0.6363\n",
      "Epoch 11/100\n",
      "3198/3198 [==============================] - 42s 13ms/step - loss: 0.6522 - val_loss: 0.6080\n",
      "Epoch 12/100\n",
      "3198/3198 [==============================] - 42s 13ms/step - loss: 0.6073 - val_loss: 0.5730\n",
      "Epoch 13/100\n",
      "3198/3198 [==============================] - 42s 13ms/step - loss: 0.5665 - val_loss: 0.5431\n",
      "Epoch 14/100\n",
      "3198/3198 [==============================] - 42s 13ms/step - loss: 0.5282 - val_loss: 0.5355\n",
      "Epoch 15/100\n",
      "3198/3198 [==============================] - 42s 13ms/step - loss: 0.4933 - val_loss: 0.4984\n",
      "Epoch 16/100\n",
      "3198/3198 [==============================] - 42s 13ms/step - loss: 0.4602 - val_loss: 0.4712\n",
      "Epoch 17/100\n",
      "3198/3198 [==============================] - 42s 13ms/step - loss: 0.4278 - val_loss: 0.4472\n",
      "Epoch 18/100\n",
      "3198/3198 [==============================] - 42s 13ms/step - loss: 0.3980 - val_loss: 0.4139\n",
      "Epoch 19/100\n",
      "3198/3198 [==============================] - 42s 13ms/step - loss: 0.3702 - val_loss: 0.3915\n",
      "Epoch 20/100\n",
      "3198/3198 [==============================] - 42s 13ms/step - loss: 0.3433 - val_loss: 0.3727\n",
      "Epoch 21/100\n",
      "3198/3198 [==============================] - 42s 13ms/step - loss: 0.3189 - val_loss: 0.3474\n",
      "Epoch 22/100\n",
      "3198/3198 [==============================] - 43s 14ms/step - loss: 0.2976 - val_loss: 0.3478\n",
      "Epoch 23/100\n",
      "3198/3198 [==============================] - 43s 13ms/step - loss: 0.2767 - val_loss: 0.3183\n",
      "Epoch 24/100\n",
      "3198/3198 [==============================] - 43s 13ms/step - loss: 0.2595 - val_loss: 0.2870\n",
      "Epoch 25/100\n",
      "3198/3198 [==============================] - 41s 13ms/step - loss: 0.2412 - val_loss: 0.2768\n",
      "Epoch 26/100\n",
      "3198/3198 [==============================] - 41s 13ms/step - loss: 0.2271 - val_loss: 0.2749\n",
      "Epoch 27/100\n",
      "3198/3198 [==============================] - 41s 13ms/step - loss: 0.2117 - val_loss: 0.2393\n",
      "Epoch 28/100\n",
      "3198/3198 [==============================] - 40s 13ms/step - loss: 0.1993 - val_loss: 0.2266\n",
      "Epoch 29/100\n",
      "3198/3198 [==============================] - 40s 13ms/step - loss: 0.1884 - val_loss: 0.2154\n",
      "Epoch 30/100\n",
      "3198/3198 [==============================] - 40s 13ms/step - loss: 0.1768 - val_loss: 0.2069\n",
      "Epoch 31/100\n",
      "3198/3198 [==============================] - 41s 13ms/step - loss: 0.1668 - val_loss: 0.1941\n",
      "Epoch 32/100\n",
      "3198/3198 [==============================] - 41s 13ms/step - loss: 0.1578 - val_loss: 0.1761\n",
      "Epoch 33/100\n",
      "3198/3198 [==============================] - 41s 13ms/step - loss: 0.1502 - val_loss: 0.1660\n",
      "Epoch 34/100\n",
      "3198/3198 [==============================] - 41s 13ms/step - loss: 0.1420 - val_loss: 0.1600\n",
      "Epoch 35/100\n",
      "3198/3198 [==============================] - 41s 13ms/step - loss: 0.1351 - val_loss: 0.1527\n",
      "Epoch 36/100\n",
      "3198/3198 [==============================] - 41s 13ms/step - loss: 0.1285 - val_loss: 0.1496\n",
      "Epoch 37/100\n",
      "3198/3198 [==============================] - 41s 13ms/step - loss: 0.1239 - val_loss: 0.1340\n",
      "Epoch 38/100\n",
      "3198/3198 [==============================] - 40s 13ms/step - loss: 0.1184 - val_loss: 0.1269\n",
      "Epoch 39/100\n",
      "3198/3198 [==============================] - 41s 13ms/step - loss: 0.1138 - val_loss: 0.1254\n",
      "Epoch 40/100\n",
      "3198/3198 [==============================] - 41s 13ms/step - loss: 0.1100 - val_loss: 0.1144\n",
      "Epoch 41/100\n",
      "3198/3198 [==============================] - 41s 13ms/step - loss: 0.1069 - val_loss: 0.1075\n",
      "Epoch 42/100\n",
      "3198/3198 [==============================] - 41s 13ms/step - loss: 0.1031 - val_loss: 0.1062\n",
      "Epoch 43/100\n",
      "3198/3198 [==============================] - 41s 13ms/step - loss: 0.0998 - val_loss: 0.1054\n",
      "Epoch 44/100\n",
      "3198/3198 [==============================] - 41s 13ms/step - loss: 0.0974 - val_loss: 0.0996\n",
      "Epoch 45/100\n",
      "3198/3198 [==============================] - 41s 13ms/step - loss: 0.0950 - val_loss: 0.1030\n",
      "Epoch 46/100\n",
      "3198/3198 [==============================] - 41s 13ms/step - loss: 0.0928 - val_loss: 0.0962\n",
      "Epoch 47/100\n",
      "3198/3198 [==============================] - 40s 13ms/step - loss: 0.0907 - val_loss: 0.0918\n",
      "Epoch 48/100\n",
      "3198/3198 [==============================] - 41s 13ms/step - loss: 0.0892 - val_loss: 0.0840\n",
      "Epoch 49/100\n",
      "3198/3198 [==============================] - 41s 13ms/step - loss: 0.0867 - val_loss: 0.0817\n",
      "Epoch 50/100\n",
      "3198/3198 [==============================] - 41s 13ms/step - loss: 0.0849 - val_loss: 0.0797\n",
      "Epoch 51/100\n",
      "3198/3198 [==============================] - 41s 13ms/step - loss: 0.0836 - val_loss: 0.0777\n",
      "Epoch 52/100\n",
      "3198/3198 [==============================] - 41s 13ms/step - loss: 0.0820 - val_loss: 0.0753\n",
      "Epoch 53/100\n",
      "3198/3198 [==============================] - 41s 13ms/step - loss: 0.0811 - val_loss: 0.0754\n",
      "Epoch 54/100\n",
      "3198/3198 [==============================] - 41s 13ms/step - loss: 0.0794 - val_loss: 0.0733\n",
      "Epoch 55/100\n",
      "3198/3198 [==============================] - 41s 13ms/step - loss: 0.0783 - val_loss: 0.0723\n",
      "Epoch 56/100\n",
      "3198/3198 [==============================] - 41s 13ms/step - loss: 0.0774 - val_loss: 0.0693\n",
      "Epoch 57/100\n",
      "3198/3198 [==============================] - 40s 13ms/step - loss: 0.0761 - val_loss: 0.0683\n",
      "Epoch 58/100\n",
      "3198/3198 [==============================] - 40s 13ms/step - loss: 0.0754 - val_loss: 0.0695\n",
      "Epoch 59/100\n",
      "3198/3198 [==============================] - 40s 13ms/step - loss: 0.0749 - val_loss: 0.0652\n",
      "Epoch 60/100\n",
      "3198/3198 [==============================] - 42s 13ms/step - loss: 0.0738 - val_loss: 0.0649\n",
      "Epoch 61/100\n",
      "3198/3198 [==============================] - 42s 13ms/step - loss: 0.0732 - val_loss: 0.0653\n",
      "Epoch 62/100\n",
      "3198/3198 [==============================] - 42s 13ms/step - loss: 0.0721 - val_loss: 0.0643\n",
      "Epoch 63/100\n",
      "3198/3198 [==============================] - 42s 13ms/step - loss: 0.0715 - val_loss: 0.0616\n",
      "Epoch 64/100\n",
      "3198/3198 [==============================] - 42s 13ms/step - loss: 0.0713 - val_loss: 0.0616\n",
      "Epoch 65/100\n",
      "3198/3198 [==============================] - 43s 13ms/step - loss: 0.0701 - val_loss: 0.0609\n",
      "Epoch 66/100\n",
      "3198/3198 [==============================] - 42s 13ms/step - loss: 0.0698 - val_loss: 0.0612\n",
      "Epoch 67/100\n",
      "3198/3198 [==============================] - 42s 13ms/step - loss: 0.0693 - val_loss: 0.0581\n",
      "Epoch 68/100\n",
      "3198/3198 [==============================] - 42s 13ms/step - loss: 0.0688 - val_loss: 0.0593\n",
      "Epoch 69/100\n",
      "3198/3198 [==============================] - 43s 13ms/step - loss: 0.0680 - val_loss: 0.0582\n",
      "Epoch 70/100\n",
      "3198/3198 [==============================] - 43s 13ms/step - loss: 0.0678 - val_loss: 0.0591\n",
      "Epoch 71/100\n",
      "3198/3198 [==============================] - 43s 13ms/step - loss: 0.0672 - val_loss: 0.0559\n",
      "Epoch 72/100\n",
      "3198/3198 [==============================] - 47s 15ms/step - loss: 0.0669 - val_loss: 0.0578\n",
      "Epoch 73/100\n",
      "3198/3198 [==============================] - 55s 17ms/step - loss: 0.0666 - val_loss: 0.0567\n",
      "Epoch 74/100\n",
      "3198/3198 [==============================] - 52s 16ms/step - loss: 0.0665 - val_loss: 0.0572\n",
      "Epoch 75/100\n",
      "3198/3198 [==============================] - 53s 16ms/step - loss: 0.0654 - val_loss: 0.0544\n",
      "Epoch 76/100\n",
      "3198/3198 [==============================] - 55s 17ms/step - loss: 0.0659 - val_loss: 0.0548\n",
      "Epoch 77/100\n",
      "3198/3198 [==============================] - 53s 17ms/step - loss: 0.0652 - val_loss: 0.0541\n"
     ]
    },
    {
     "name": "stdout",
     "output_type": "stream",
     "text": [
      "Epoch 78/100\n",
      "3198/3198 [==============================] - 53s 17ms/step - loss: 0.0649 - val_loss: 0.0532\n",
      "Epoch 79/100\n",
      "3198/3198 [==============================] - 54s 17ms/step - loss: 0.0649 - val_loss: 0.0527\n",
      "Epoch 80/100\n",
      "3198/3198 [==============================] - 56s 18ms/step - loss: 0.0644 - val_loss: 0.0525\n",
      "Epoch 81/100\n",
      "3198/3198 [==============================] - 53s 17ms/step - loss: 0.0640 - val_loss: 0.0519\n",
      "Epoch 82/100\n",
      "3198/3198 [==============================] - 53s 16ms/step - loss: 0.0639 - val_loss: 0.0530\n",
      "Epoch 83/100\n",
      "3198/3198 [==============================] - 53s 17ms/step - loss: 0.0637 - val_loss: 0.0519\n",
      "Epoch 84/100\n",
      "3198/3198 [==============================] - 52s 16ms/step - loss: 0.0634 - val_loss: 0.0515\n",
      "Epoch 85/100\n",
      "3198/3198 [==============================] - 51s 16ms/step - loss: 0.0636 - val_loss: 0.0503\n",
      "Epoch 86/100\n",
      "3198/3198 [==============================] - 54s 17ms/step - loss: 0.0625 - val_loss: 0.0507\n",
      "Epoch 87/100\n",
      "3198/3198 [==============================] - 54s 17ms/step - loss: 0.0627 - val_loss: 0.0502\n",
      "Epoch 88/100\n",
      "3198/3198 [==============================] - 51s 16ms/step - loss: 0.0631 - val_loss: 0.0508\n",
      "Epoch 89/100\n",
      "3198/3198 [==============================] - 52s 16ms/step - loss: 0.0619 - val_loss: 0.0494\n",
      "Epoch 90/100\n",
      "3198/3198 [==============================] - 58s 18ms/step - loss: 0.0619 - val_loss: 0.0479\n",
      "Epoch 91/100\n",
      "3198/3198 [==============================] - 54s 17ms/step - loss: 0.0620 - val_loss: 0.0484\n",
      "Epoch 92/100\n",
      "3198/3198 [==============================] - 53s 16ms/step - loss: 0.0615 - val_loss: 0.0488\n",
      "Epoch 93/100\n",
      "3198/3198 [==============================] - 55s 17ms/step - loss: 0.0616 - val_loss: 0.0492\n",
      "Epoch 94/100\n",
      "3198/3198 [==============================] - 51s 16ms/step - loss: 0.0617 - val_loss: 0.0489\n",
      "Epoch 95/100\n",
      "3198/3198 [==============================] - 52s 16ms/step - loss: 0.0615 - val_loss: 0.0476\n",
      "Epoch 96/100\n",
      "3198/3198 [==============================] - 53s 17ms/step - loss: 0.0608 - val_loss: 0.0491\n",
      "Epoch 97/100\n",
      "3198/3198 [==============================] - 54s 17ms/step - loss: 0.0613 - val_loss: 0.0478\n",
      "Epoch 98/100\n",
      "3198/3198 [==============================] - 51s 16ms/step - loss: 0.0608 - val_loss: 0.0480\n",
      "Epoch 99/100\n",
      "3198/3198 [==============================] - 51s 16ms/step - loss: 0.0604 - val_loss: 0.0469\n",
      "Epoch 100/100\n",
      "1984/3198 [=================>............] - ETA: 17s - loss: 0.0585"
     ]
    }
   ],
   "source": [
    "history = model.fit([encoder_input_data, decoder_input_data], decoder_target_data,\n",
    "          batch_size=batch_size,\n",
    "          epochs=epochs,\n",
    "          validation_split=0.2)\n",
    "# passing all the data here"
   ]
  },
  {
   "cell_type": "code",
   "execution_count": 46,
   "metadata": {},
   "outputs": [],
   "source": [
    "import matplotlib.pyplot as plt"
   ]
  },
  {
   "cell_type": "code",
   "execution_count": 49,
   "metadata": {},
   "outputs": [
    {
     "name": "stdout",
     "output_type": "stream",
     "text": [
      "dict_keys(['val_loss', 'loss'])\n"
     ]
    },
    {
     "data": {
      "image/png": "[encoded data removed]",
      "text/plain": [
       "<Figure size 432x288 with 1 Axes>"
      ]
     },
     "metadata": {},
     "output_type": "display_data"
    }
   ],
   "source": [
    "print(history.history.keys())\n",
    "# summarize history for accuracy\n",
    "# plt.plot(history.history['acc'])\n",
    "# plt.plot(history.history['val_acc'])\n",
    "# plt.title('model accuracy')\n",
    "# plt.ylabel('accuracy')\n",
    "# plt.xlabel('epoch')\n",
    "# plt.legend(['train', 'test'], loc='upper left')\n",
    "# plt.show()\n",
    "# summarize history for loss\n",
    "plt.plot(history.history['loss'])\n",
    "plt.plot(history.history['val_loss'])\n",
    "plt.title('model loss')\n",
    "plt.ylabel('loss')\n",
    "plt.xlabel('epoch')\n",
    "plt.legend(['train', 'test'], loc='upper left')\n",
    "plt.show()"
   ]
  },
  {
   "cell_type": "code",
   "execution_count": 47,
   "metadata": {},
   "outputs": [
    {
     "name": "stderr",
     "output_type": "stream",
     "text": [
      "C:\\Users\\Rajdeep\\AppData\\Local\\conda\\conda\\envs\\tfdeeplearning\\lib\\site-packages\\keras\\engine\\topology.py:2379: UserWarning: Layer lstm_3 was passed non-serializable keyword arguments: {'initial_state': [<tf.Tensor 'lstm_2/while/Exit_2:0' shape=(?, 256) dtype=float32>, <tf.Tensor 'lstm_2/while/Exit_3:0' shape=(?, 256) dtype=float32>]}. They will not be included in the serialized model (and thus will be missing at deserialization time).\n",
      "  str(node.arguments) + '. They will not be included '\n"
     ]
    }
   ],
   "source": [
    "model.save('s2s2000SamplesWordLevel-Update30-4-18-11-14am.h5')"
   ]
  },
  {
   "cell_type": "code",
   "execution_count": 157,
   "metadata": {},
   "outputs": [],
   "source": [
    "# Inference Model (Sampling sequences)\n",
    "# For sampling the sequences here is the strategy to be followed\n",
    "\n",
    "# 1. Encode the input and retrieve the initial encoder state\n",
    "# 2. Run one step of the decoder with its initial encoder state and a \"start of sequence\" token as target\n",
    "# 3. Output will be the next target token and current states"
   ]
  },
  {
   "cell_type": "code",
   "execution_count": 158,
   "metadata": {},
   "outputs": [],
   "source": [
    "# In the original keras example, they are using the training examples themselves to predict the french statements\n",
    "# However we would like to use predict new statements\n",
    "# For this we would have to change a few things in order to achieve what we need to achieve"
   ]
  },
  {
   "cell_type": "code",
   "execution_count": 171,
   "metadata": {},
   "outputs": [
    {
     "name": "stdout",
     "output_type": "stream",
     "text": [
      "i now:0\n",
      "i now:1\n"
     ]
    }
   ],
   "source": [
    "# preparing the test data\n",
    "test_data_path = os.path.join(os.path.dirname(os.getcwd()), \"datasets\", \"fra-eng\", \"fra-test.txt\") # path to the test \n",
    "# corpus file\n",
    "test_input_texts = []\n",
    "with open(test_data_path, 'r', encoding='utf-8') as f:\n",
    "    lines = f.read().split(\"\\n\") # spliting training examples\n",
    "\n",
    "# remember we are trying to get only `sample` number of lines and not any more for training \n",
    "for line in lines:\n",
    "    input_text = line\n",
    "    \n",
    "#     target_text = '\\t' + target_text + \"\\n\"\n",
    "    \n",
    "    test_input_texts.append(input_text)\n",
    "#     target_texts.append(target_text)\n",
    "    \n",
    "encoder_test_input_data = np.zeros((len(test_input_texts), max_encoder_seq_length, num_encoder_tokens), dtype='float32')\n",
    "\n",
    "for i, (test_input_text) in enumerate(test_input_texts):\n",
    "    print(\"i now:\" + str(i))\n",
    "    test_input_text = test_input_text.split(\" \")\n",
    "    for t, word in enumerate(test_input_text):\n",
    "        # i is the first index as it is the ith training example \n",
    "        # t is the second index as the t-th character in ith training example\n",
    "#         print(\"t, char now: \" + str(t) + \", \" + str(char))\n",
    "    \n",
    "        if \".\" in word: # patchy method of considering punctuations '.' and ',' as separate words\n",
    "            period_split_words = word.split(\".\")\n",
    "            encoder_test_input_data[i, t, input_token_index[\".\"]] = 1\n",
    "            encoder_test_input_data[i, t, input_token_index[period_split_words[1]]] = 1\n",
    "        else:\n",
    "            encoder_test_input_data[i, t, input_token_index[word]] = 1"
   ]
  },
  {
   "cell_type": "code",
   "execution_count": 172,
   "metadata": {},
   "outputs": [],
   "source": [
    "encoder_model = Model(encoder_inputs, encoder_states)"
   ]
  },
  {
   "cell_type": "code",
   "execution_count": 173,
   "metadata": {},
   "outputs": [],
   "source": [
    "decoder_state_input_h = Input(shape=(latent_dim,))\n",
    "decoder_state_input_c = Input(shape=(latent_dim,))\n",
    "decoder_state_inputs = [decoder_state_input_h, decoder_state_input_c]\n",
    "decoder_outputs, state_h, state_c = decoder_lstm(decoder_inputs, initial_state=decoder_state_inputs)\n",
    "decoder_states = [state_h, state_c]\n",
    "decoder_outputs = decoder_dense(decoder_outputs)\n",
    "decoder_model = Model([decoder_inputs] + decoder_state_inputs, [decoder_outputs] + decoder_states)"
   ]
  },
  {
   "cell_type": "code",
   "execution_count": 174,
   "metadata": {},
   "outputs": [],
   "source": [
    "# reverse_input_char_index = dict(\n",
    "#     (i, char) for char, i in input_token_index.items())\n",
    "# reverse_target_char_index = dict(\n",
    "#     (i, char) for char, i in target_token_index.items())\n",
    "reverse_input_word_index = dict(\n",
    "    (i, word) for word, i in input_token_index.items())\n",
    "reverse_target_word_index = dict(\n",
    "    (i, word) for word, i in target_token_index.items())"
   ]
  },
  {
   "cell_type": "code",
   "execution_count": 175,
   "metadata": {},
   "outputs": [],
   "source": [
    "def decode_sequence(input_seq):\n",
    "    \"\"\"\n",
    "    This function is for decoding a sequence of english letters\n",
    "    \"\"\"\n",
    "    # Encode the input as state vectors.\n",
    "    states_value = encoder_model.predict(input_seq) # this is actually encoder_input data\n",
    "\n",
    "    # Generate empty target sequence of length 1.\n",
    "    target_seq = np.zeros((1, 1, num_decoder_tokens))\n",
    "    # Populate the first character of target sequence with the start character.\n",
    "    target_seq[0, 0, target_token_index['\\t']] = 1.\n",
    "    \n",
    "    # target_sequence is simply a one hot vector of size vocab size\n",
    "\n",
    "    # Sampling loop for a batch of sequences\n",
    "    # (to simplify, here we assume a batch of size 1).\n",
    "    stop_condition = False\n",
    "    decoded_sentence = ''\n",
    "    while not stop_condition:\n",
    "        # predicting one character at a time\n",
    "        output_tokens, h, c = decoder_model.predict([target_seq] + states_value)\n",
    "\n",
    "        # Sample a token\n",
    "        sampled_token_index = np.argmax(output_tokens[0, -1, :])\n",
    "        sampled_word = reverse_target_word_index[sampled_token_index]\n",
    "        decoded_sentence += \" \" + sampled_word\n",
    "\n",
    "        # Exit condition: either hit max length\n",
    "        # or find stop character.\n",
    "        if (sampled_word == '\\n' or len(decoded_sentence) > max_decoder_seq_length):\n",
    "            stop_condition = True\n",
    "\n",
    "        # Update the target sequence (of length 1).\n",
    "        target_seq = np.zeros((1, 1, num_decoder_tokens))\n",
    "        target_seq[0, 0, sampled_token_index] = 1.\n",
    "\n",
    "        # Update states\n",
    "        states_value = [h, c]\n",
    "\n",
    "    return decoded_sentence"
   ]
  },
  {
   "cell_type": "code",
   "execution_count": 176,
   "metadata": {},
   "outputs": [
    {
     "name": "stdout",
     "output_type": "stream",
     "text": [
      "-\n",
      "Input sentence:  No Cheers!\n",
      "Decoded sentence:   n'en !\n",
      "\n",
      "-\n",
      "Input sentence:  Jump. on.\n",
      "Decoded sentence:   à rouler\n"
     ]
    }
   ],
   "source": [
    "for seq_index in range(2):\n",
    "    # this trick below is just for converting input_seq to a list\n",
    "    input_seq = encoder_test_input_data[seq_index: seq_index + 1] # we will need to form a new encoder_input_data\n",
    "    decoded_sentence = decode_sequence(input_seq=input_seq)\n",
    "    print('-')\n",
    "    print(\"Input sentence: \", test_input_texts[seq_index])\n",
    "    print(\"Decoded sentence: \", decoded_sentence)\n",
    "    "
   ]
  },
  {
   "cell_type": "code",
   "execution_count": null,
   "metadata": {},
   "outputs": [],
   "source": []
  }
 ],
 "metadata": {
  "kernelspec": {
   "display_name": "Python 3",
   "language": "python",
   "name": "python3"
  },
  "language_info": {
   "codemirror_mode": {
    "name": "ipython",
    "version": 3
   },
   "file_extension": ".py",
   "mimetype": "text/x-python",
   "name": "python",
   "nbconvert_exporter": "python",
   "pygments_lexer": "ipython3",
   "version": "3.5.5"
  }
 },
 "nbformat": 4,
 "nbformat_minor": 2
}
