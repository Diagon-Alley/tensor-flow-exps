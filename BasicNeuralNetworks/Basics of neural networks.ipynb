{
 "cells": [
  {
   "cell_type": "markdown",
   "metadata": {},
   "source": [
    "### Some common activation functions\n",
    "\n",
    "* signmoid function\n",
    "* hyperbolic tangent function"
   ]
  },
  {
   "cell_type": "markdown",
   "metadata": {},
   "source": [
    "The hyperbolic tangent function `tanh(x)` is actually `sinh(x)` divided by `cosh(x)`. It is represented in graph in the following way"
   ]
  },
  {
   "cell_type": "code",
   "execution_count": 1,
   "metadata": {},
   "outputs": [],
   "source": [
    "import numpy as np"
   ]
  },
  {
   "cell_type": "code",
   "execution_count": 17,
   "metadata": {},
   "outputs": [],
   "source": [
    "x = np.arange(-1000, 1000, 0.001)"
   ]
  },
  {
   "cell_type": "code",
   "execution_count": 3,
   "metadata": {},
   "outputs": [
    {
     "data": {
      "text/plain": [
       "array([-1000,  -999,  -998, ...,   997,   998,   999])"
      ]
     },
     "execution_count": 3,
     "metadata": {},
     "output_type": "execute_result"
    }
   ],
   "source": [
    "x"
   ]
  },
  {
   "cell_type": "code",
   "execution_count": 18,
   "metadata": {},
   "outputs": [],
   "source": [
    "y = np.tanh(x)"
   ]
  },
  {
   "cell_type": "code",
   "execution_count": 6,
   "metadata": {},
   "outputs": [],
   "source": [
    "import matplotlib.pyplot as plt"
   ]
  },
  {
   "cell_type": "code",
   "execution_count": 19,
   "metadata": {},
   "outputs": [
    {
     "data": {
      "text/plain": [
       "Text(0,0.5,'tanh(x)')"
      ]
     },
     "execution_count": 19,
     "metadata": {},
     "output_type": "execute_result"
    },
    {
     "data": {
      "image/png": "[encoded data removed]",
      "text/plain": [
       "<Figure size 432x288 with 1 Axes>"
      ]
     },
     "metadata": {},
     "output_type": "display_data"
    }
   ],
   "source": [
    "plt.plot(x, y)\n",
    "plt.xlim(-10,10)\n",
    "plt.ylim(-1,1)\n",
    "plt.title('tanh function')\n",
    "plt.xlabel('x')\n",
    "plt.ylabel('tanh(x)')"
   ]
  },
  {
   "cell_type": "markdown",
   "metadata": {},
   "source": [
    "* RELU or the Rectified linear unit. This is a common activation function. Given that it is a very common activation function it is not fancy at all. In fact it is really simple. ReLU says: `max(0,z)`, which simply means that it gets rid of all the negative values that can come up"
   ]
  },
  {
   "cell_type": "markdown",
   "metadata": {},
   "source": [
    "Basically ReLU and tanh seems to have the best preformance"
   ]
  },
  {
   "cell_type": "markdown",
   "metadata": {},
   "source": [
    "### Cost functions\n",
    "There are many cost functions to choose from. The cost function actually aligns very well with the idea of penalty which means that we are penalize our model whenever we spot errors in it with respect to the original values."
   ]
  },
  {
   "cell_type": "markdown",
   "metadata": {},
   "source": [
    "* Quadratic cost function. This is essentially the mean sum of squared errors used as the cost function. The interesting thing about this cost function is that it increases the effect of large errors, which means if we are having a big difference in the actual value vs the predicted value then the difference is actually manifested in a bigger way in the cost function as the error is squared.\n",
    " One drawback of this approach in case of a classification problem is that the curve of the mean squared error loss function when we use the sigmoid activation function does not have a single global minima. This means that a minimization algorithm like gradient descent may not give the most optimized results.\n",
    " \n",
    "* So instead we use **cross entropy** as out cost function. This cost function is simply like the cost function used for logistic regression. C = (-1/n) sum(y.ln(a) + (1-y).ln(1-a)). "
   ]
  },
  {
   "cell_type": "markdown",
   "metadata": {},
   "source": [
    "### Gradient Descent\n",
    "\n",
    "gradient descent is simply an optimization algorithm for finding the minimum of a function. Basically to minimize a function at each iteration we take steps proportional to the negative of the gradient at that point in the function. \n",
    "\n",
    "### Backpropagation\n",
    "\n",
    "Backpropagation is used in order to calculate the error contribution of each neuron after a batch of data is processed. It relies heavily on the chain rule. "
   ]
  },
  {
   "cell_type": "code",
   "execution_count": null,
   "metadata": {},
   "outputs": [],
   "source": []
  }
 ],
 "metadata": {
  "kernelspec": {
   "display_name": "Python 3",
   "language": "python",
   "name": "python3"
  },
  "language_info": {
   "codemirror_mode": {
    "name": "ipython",
    "version": 3
   },
   "file_extension": ".py",
   "mimetype": "text/x-python",
   "name": "python",
   "nbconvert_exporter": "python",
   "pygments_lexer": "ipython3",
   "version": "3.5.5"
  }
 },
 "nbformat": 4,
 "nbformat_minor": 2
}
