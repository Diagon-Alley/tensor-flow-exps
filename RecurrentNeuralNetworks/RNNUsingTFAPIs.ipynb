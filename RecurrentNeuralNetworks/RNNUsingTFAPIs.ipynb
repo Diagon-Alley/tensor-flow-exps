{
 "cells": [
  {
   "cell_type": "code",
   "execution_count": 1,
   "metadata": {},
   "outputs": [],
   "source": [
    "# TimeSeries generation of sin(x) function. Basically given the values of sin(x) upto t, the RNN should be able to generate\n",
    "# the sequence upto t+1"
   ]
  },
  {
   "cell_type": "code",
   "execution_count": 1,
   "metadata": {},
   "outputs": [],
   "source": [
    "import numpy as np\n",
    "import tensorflow as tf\n",
    "import matplotlib.pyplot as plt\n",
    "%matplotlib inline"
   ]
  },
  {
   "cell_type": "code",
   "execution_count": 44,
   "metadata": {},
   "outputs": [],
   "source": [
    "class TimeSeriesData():\n",
    "    \"\"\"\n",
    "    TimeSeriesData here is simply a class that can generate data of sin function. \n",
    "    When we create an instance of this class we are going to provide the num_points and the xmin and xmax values\n",
    "    \"\"\"\n",
    "    def __init__(self, num_points, x_min, x_max):\n",
    "        \"\"\"\n",
    "        The initialization step involves creating a few more variables like\n",
    "        \n",
    "        resolution that defines how close the points should be to one another. Since this is going to generate a \n",
    "        TimeSeries resolution defines the literal resolution of the points\n",
    "        \n",
    "        x_data which are the equally spaced points from xmin to xmax \n",
    "        y_true will be the original sin wave corresponding to x_data\n",
    "        \"\"\"\n",
    "        self.x_min = x_min\n",
    "        self.x_max = x_max\n",
    "        self.num_points = num_points\n",
    "        self.resolution = (x_max - x_min)/num_points\n",
    "        self.x_data = np.linspace(x_min, x_max, num_points)\n",
    "        self.y_true = np.sin(self.x_data)\n",
    "        \n",
    "    def ret_true(self, x_series):\n",
    "        return np.sin(x_series)\n",
    "    \n",
    "    def next_batch(self, batch_size, steps, return_batch_ts=False):\n",
    "        \n",
    "        # Grab a random starting point for each batch of the data\n",
    "        rand_start = np.random.rand(batch_size, 1) # this will give a column vector of dim: batch_size X 1\n",
    "        print(rand_start)\n",
    "        \n",
    "        # Convert to be on time series\n",
    "        ts_start = rand_start * (self.x_max - self.x_min - (steps * self.resolution))\n",
    "        print(ts_start)\n",
    "        \n",
    "        # Create batch time series on the X data\n",
    "        batch_ts = ts_start + np.arange(0.0, steps + 1) * self.resolution\n",
    "        print(batch_ts)\n",
    "        \n",
    "        # Create the y data for the time series x axis from the previous step\n",
    "        y_batch = np.sin(batch_ts)\n",
    "        print(y_batch)\n",
    "        \n",
    "        # Formatting for RNN\n",
    "        if return_batch_ts:\n",
    "            # Here note that the first value being returned is the time series itself and\n",
    "            # the second value being returned is the time series shifted by one step\n",
    "            return y_batch[:,:-1].reshape(-1, steps, 1), y_batch[:,1:].reshape(-1, steps, 1), batch_ts\n",
    "        else:\n",
    "            return y_batch[:,:-1].reshape(-1, steps, 1), y_batch[:,1:].reshape(-1, steps, 1)"
   ]
  },
  {
   "cell_type": "code",
   "execution_count": 49,
   "metadata": {},
   "outputs": [],
   "source": [
    "ts_data = TimeSeriesData(250,0,10)"
   ]
  },
  {
   "cell_type": "code",
   "execution_count": 50,
   "metadata": {},
   "outputs": [
    {
     "data": {
      "text/plain": [
       "[<matplotlib.lines.Line2D at 0x1acb5b7a080>]"
      ]
     },
     "execution_count": 50,
     "metadata": {},
     "output_type": "execute_result"
    },
    {
     "data": {
      "image/png": "[encoded data removed]",
      "text/plain": [
       "<Figure size 432x288 with 1 Axes>"
      ]
     },
     "metadata": {},
     "output_type": "display_data"
    }
   ],
   "source": [
    "plt.plot(ts_data.x_data, ts_data.y_true)"
   ]
  },
  {
   "cell_type": "code",
   "execution_count": 51,
   "metadata": {},
   "outputs": [],
   "source": [
    "num_time_steps = 30 # number of time steps in one batch"
   ]
  },
  {
   "cell_type": "code",
   "execution_count": 53,
   "metadata": {},
   "outputs": [
    {
     "name": "stdout",
     "output_type": "stream",
     "text": [
      "[[0.43778924]]\n",
      "[[3.85254528]]\n",
      "[[3.85254528 3.89254528 3.93254528 3.97254528 4.01254528 4.05254528\n",
      "  4.09254528 4.13254528 4.17254528 4.21254528 4.25254528 4.29254528\n",
      "  4.33254528 4.37254528 4.41254528 4.45254528 4.49254528 4.53254528\n",
      "  4.57254528 4.61254528 4.65254528 4.69254528 4.73254528 4.77254528\n",
      "  4.81254528 4.85254528 4.89254528 4.93254528 4.97254528 5.01254528\n",
      "  5.05254528]]\n",
      "[[-0.65255591 -0.68233548 -0.71102345 -0.73857394 -0.76494287 -0.79008805\n",
      "  -0.81396926 -0.8365483  -0.85778903 -0.87765749 -0.89612188 -0.91315266\n",
      "  -0.9287226  -0.94280678 -0.95538267 -0.96643015 -0.97593155 -0.98387166\n",
      "  -0.99023779 -0.99501976 -0.9982099  -0.99980312 -0.99979687 -0.99819116\n",
      "  -0.99498855 -0.99019417 -0.9838157  -0.97586333 -0.96634978 -0.95529029\n",
      "  -0.94270253]]\n"
     ]
    }
   ],
   "source": [
    "y1,y2,ts = ts_data.next_batch(batch_size=1, steps=30, return_batch_ts=True) # basically give me back one batch of 30 samples"
   ]
  },
  {
   "cell_type": "code",
   "execution_count": 54,
   "metadata": {},
   "outputs": [
    {
     "data": {
      "text/plain": [
       "array([3.85254528, 3.89254528, 3.93254528, 3.97254528, 4.01254528,\n",
       "       4.05254528, 4.09254528, 4.13254528, 4.17254528, 4.21254528,\n",
       "       4.25254528, 4.29254528, 4.33254528, 4.37254528, 4.41254528,\n",
       "       4.45254528, 4.49254528, 4.53254528, 4.57254528, 4.61254528,\n",
       "       4.65254528, 4.69254528, 4.73254528, 4.77254528, 4.81254528,\n",
       "       4.85254528, 4.89254528, 4.93254528, 4.97254528, 5.01254528,\n",
       "       5.05254528])"
      ]
     },
     "execution_count": 54,
     "metadata": {},
     "output_type": "execute_result"
    }
   ],
   "source": [
    " ts.flatten()"
   ]
  },
  {
   "cell_type": "code",
   "execution_count": 55,
   "metadata": {},
   "outputs": [
    {
     "data": {
      "text/plain": [
       "[<matplotlib.lines.Line2D at 0x1acb5bb6278>]"
      ]
     },
     "execution_count": 55,
     "metadata": {},
     "output_type": "execute_result"
    },
    {
     "data": {
      "image/png": "[encoded data removed]",
      "text/plain": [
       "<Figure size 432x288 with 1 Axes>"
      ]
     },
     "metadata": {},
     "output_type": "display_data"
    }
   ],
   "source": [
    "plt.plot(ts.flatten()[1:], y2.flatten(), '*') # remember batch_ts or ts here has 31 steps"
   ]
  },
  {
   "cell_type": "code",
   "execution_count": 56,
   "metadata": {},
   "outputs": [
    {
     "data": {
      "text/plain": [
       "[<matplotlib.lines.Line2D at 0x1acb6bc1128>]"
      ]
     },
     "execution_count": 56,
     "metadata": {},
     "output_type": "execute_result"
    },
    {
     "data": {
      "image/png": "[encoded data removed]",
      "text/plain": [
       "<Figure size 432x288 with 1 Axes>"
      ]
     },
     "metadata": {},
     "output_type": "display_data"
    }
   ],
   "source": [
    "plt.plot(ts_data.x_data, ts_data.y_true, label='Sin(t)')\n",
    "plt.plot(ts.flatten()[1:], y1.flatten(), '*', label=\"Single Training instance shifted by one\")\n",
    "plt.plot(ts.flatten()[1:], y2.flatten(), 'r*', label=\"Single Training instance\")"
   ]
  },
  {
   "cell_type": "code",
   "execution_count": 59,
   "metadata": {},
   "outputs": [],
   "source": [
    "train_inst = np.linspace(5, 5 + ts_data.resolution * (num_time_steps + 1), num_time_steps + 1)"
   ]
  },
  {
   "cell_type": "code",
   "execution_count": 60,
   "metadata": {},
   "outputs": [
    {
     "data": {
      "text/plain": [
       "array([5.        , 5.04133333, 5.08266667, 5.124     , 5.16533333,\n",
       "       5.20666667, 5.248     , 5.28933333, 5.33066667, 5.372     ,\n",
       "       5.41333333, 5.45466667, 5.496     , 5.53733333, 5.57866667,\n",
       "       5.62      , 5.66133333, 5.70266667, 5.744     , 5.78533333,\n",
       "       5.82666667, 5.868     , 5.90933333, 5.95066667, 5.992     ,\n",
       "       6.03333333, 6.07466667, 6.116     , 6.15733333, 6.19866667,\n",
       "       6.24      ])"
      ]
     },
     "execution_count": 60,
     "metadata": {},
     "output_type": "execute_result"
    }
   ],
   "source": [
    "train_inst"
   ]
  },
  {
   "cell_type": "code",
   "execution_count": 62,
   "metadata": {},
   "outputs": [
    {
     "data": {
      "text/plain": [
       "[<matplotlib.lines.Line2D at 0x1acb6c31d30>]"
      ]
     },
     "execution_count": 62,
     "metadata": {},
     "output_type": "execute_result"
    },
    {
     "data": {
      "image/png": "[encoded data removed]",
      "text/plain": [
       "<Figure size 432x288 with 1 Axes>"
      ]
     },
     "metadata": {},
     "output_type": "display_data"
    }
   ],
   "source": [
    "plt.title('A TRAINING INSTANCE')\n",
    "plt.plot(train_inst[:-1], ts_data.ret_true(train_inst[:-1]), 'bo', markersize=15, alpha=0.5, label=\"INSTANCE\")\n",
    "plt.plot(train_inst[1:], ts_data.ret_true(train_inst[1:]), 'ko', markersize=7, label='TARGET')"
   ]
  },
  {
   "cell_type": "code",
   "execution_count": null,
   "metadata": {},
   "outputs": [],
   "source": []
  }
 ],
 "metadata": {
  "kernelspec": {
   "display_name": "Python 3",
   "language": "python",
   "name": "python3"
  },
  "language_info": {
   "codemirror_mode": {
    "name": "ipython",
    "version": 3
   },
   "file_extension": ".py",
   "mimetype": "text/x-python",
   "name": "python",
   "nbconvert_exporter": "python",
   "pygments_lexer": "ipython3",
   "version": "3.5.5"
  }
 },
 "nbformat": 4,
 "nbformat_minor": 2
}
