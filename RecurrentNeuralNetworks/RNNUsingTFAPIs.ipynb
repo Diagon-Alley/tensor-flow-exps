{
 "cells": [
  {
   "cell_type": "code",
   "execution_count": 1,
   "metadata": {},
   "outputs": [],
   "source": [
    "# TimeSeries generation of sin(x) function. Basically given the values of sin(x) upto t, the RNN should be able to generate\n",
    "# the sequence upto t+1"
   ]
  },
  {
   "cell_type": "code",
   "execution_count": 33,
   "metadata": {},
   "outputs": [],
   "source": [
    "import numpy as np\n",
    "import tensorflow as tf\n",
    "import matplotlib.pyplot as plt\n",
    "%matplotlib inline"
   ]
  },
  {
   "cell_type": "code",
   "execution_count": 3,
   "metadata": {},
   "outputs": [],
   "source": [
    "class TimeSeriesData():\n",
    "    \"\"\"\n",
    "    TimeSeriesData here is simply a class that can generate data of sin function. \n",
    "    When we create an instance of this class we are going to provide the num_points and the xmin and xmax values\n",
    "    \"\"\"\n",
    "    def __init__(self, num_points, x_min, x_max):\n",
    "        \"\"\"\n",
    "        The initialization step involves creating a few more variables like\n",
    "        \n",
    "        resolution that defines how close the points should be to one another. Since this is going to generate a \n",
    "        TimeSeries resolution defines the literal resolution of the points\n",
    "        \n",
    "        x_data which are the equally spaced points from xmin to xmax \n",
    "        y_true will be the original sin wave corresponding to x_data\n",
    "        \"\"\"\n",
    "        self.x_min = x_min\n",
    "        self.x_max = x_max\n",
    "        self.num_points = num_points\n",
    "        self.resolution = (x_max - x_min)/num_points\n",
    "        self.x_data = np.linspace(x_min, x_max, num_points)\n",
    "        self.y_true = np.sin(self.x_data)\n",
    "        \n",
    "    def ret_true(self, x_series):\n",
    "        return np.sin(x_series)\n",
    "    \n",
    "    def next_batch(self, batch_size, steps, return_batch_ts=False):\n",
    "        \n",
    "        # Grab a random starting point for each batch of the data\n",
    "        rand_start = np.random.rand(batch_size, 1) # this will give a column vector of dim: batch_size X 1\n",
    "#         print(rand_start)\n",
    "        \n",
    "        # Convert to be on time series\n",
    "        ts_start = rand_start * (self.x_max - self.x_min - (steps * self.resolution))\n",
    "#         print(ts_start)\n",
    "        \n",
    "        # Create batch time series on the X data\n",
    "        batch_ts = ts_start + np.arange(0.0, steps + 1) * self.resolution\n",
    "#         print(batch_ts)\n",
    "        \n",
    "        # Create the y data for the time series x axis from the previous step\n",
    "        y_batch = np.sin(batch_ts)\n",
    "#         print(y_batch)\n",
    "        \n",
    "        # Formatting for RNN\n",
    "        if return_batch_ts:\n",
    "            # Here note that the first value being returned is the time series itself and\n",
    "            # the second value being returned is the time series shifted by one step\n",
    "            return y_batch[:,:-1].reshape(-1, steps, 1), y_batch[:,1:].reshape(-1, steps, 1), batch_ts\n",
    "        else:\n",
    "            return y_batch[:,:-1].reshape(-1, steps, 1), y_batch[:,1:].reshape(-1, steps, 1)"
   ]
  },
  {
   "cell_type": "code",
   "execution_count": 4,
   "metadata": {},
   "outputs": [],
   "source": [
    "ts_data = TimeSeriesData(250,0,10)"
   ]
  },
  {
   "cell_type": "code",
   "execution_count": 5,
   "metadata": {},
   "outputs": [
    {
     "data": {
      "text/plain": [
       "[<matplotlib.lines.Line2D at 0x27afdabc6a0>]"
      ]
     },
     "execution_count": 5,
     "metadata": {},
     "output_type": "execute_result"
    },
    {
     "data": {
      "image/png": "[encoded data removed]",
      "text/plain": [
       "<Figure size 432x288 with 1 Axes>"
      ]
     },
     "metadata": {},
     "output_type": "display_data"
    }
   ],
   "source": [
    "plt.plot(ts_data.x_data, ts_data.y_true)"
   ]
  },
  {
   "cell_type": "code",
   "execution_count": 6,
   "metadata": {},
   "outputs": [],
   "source": [
    "num_time_steps = 30 # number of time steps in one batch"
   ]
  },
  {
   "cell_type": "code",
   "execution_count": 7,
   "metadata": {},
   "outputs": [],
   "source": [
    "y1,y2,ts = ts_data.next_batch(batch_size=1, steps=30, return_batch_ts=True) # basically give me back one batch of 30 samples"
   ]
  },
  {
   "cell_type": "code",
   "execution_count": 8,
   "metadata": {},
   "outputs": [
    {
     "data": {
      "text/plain": [
       "array([7.00154241, 7.04154241, 7.08154241, 7.12154241, 7.16154241,\n",
       "       7.20154241, 7.24154241, 7.28154241, 7.32154241, 7.36154241,\n",
       "       7.40154241, 7.44154241, 7.48154241, 7.52154241, 7.56154241,\n",
       "       7.60154241, 7.64154241, 7.68154241, 7.72154241, 7.76154241,\n",
       "       7.80154241, 7.84154241, 7.88154241, 7.92154241, 7.96154241,\n",
       "       8.00154241, 8.04154241, 8.08154241, 8.12154241, 8.16154241,\n",
       "       8.20154241])"
      ]
     },
     "execution_count": 8,
     "metadata": {},
     "output_type": "execute_result"
    }
   ],
   "source": [
    " ts.flatten()"
   ]
  },
  {
   "cell_type": "code",
   "execution_count": 9,
   "metadata": {},
   "outputs": [
    {
     "data": {
      "text/plain": [
       "[<matplotlib.lines.Line2D at 0x27afdb344a8>]"
      ]
     },
     "execution_count": 9,
     "metadata": {},
     "output_type": "execute_result"
    },
    {
     "data": {
      "image/png": "[encoded data removed]",
      "text/plain": [
       "<Figure size 432x288 with 1 Axes>"
      ]
     },
     "metadata": {},
     "output_type": "display_data"
    }
   ],
   "source": [
    "plt.plot(ts.flatten()[1:], y2.flatten(), '*') # remember batch_ts or ts here has 31 steps"
   ]
  },
  {
   "cell_type": "code",
   "execution_count": 10,
   "metadata": {},
   "outputs": [
    {
     "data": {
      "text/plain": [
       "[<matplotlib.lines.Line2D at 0x27afdb745c0>]"
      ]
     },
     "execution_count": 10,
     "metadata": {},
     "output_type": "execute_result"
    },
    {
     "data": {
      "image/png": "[encoded data removed]",
      "text/plain": [
       "<Figure size 432x288 with 1 Axes>"
      ]
     },
     "metadata": {},
     "output_type": "display_data"
    }
   ],
   "source": [
    "plt.plot(ts_data.x_data, ts_data.y_true, label='Sin(t)')\n",
    "plt.plot(ts.flatten()[1:], y1.flatten(), '*', label=\"Single Training instance shifted by one\")\n",
    "plt.plot(ts.flatten()[1:], y2.flatten(), 'r*', label=\"Single Training instance\")"
   ]
  },
  {
   "cell_type": "code",
   "execution_count": 11,
   "metadata": {},
   "outputs": [],
   "source": [
    "train_inst = np.linspace(5, 5 + ts_data.resolution * (num_time_steps + 1), num_time_steps + 1)"
   ]
  },
  {
   "cell_type": "code",
   "execution_count": 12,
   "metadata": {},
   "outputs": [
    {
     "data": {
      "text/plain": [
       "array([5.        , 5.04133333, 5.08266667, 5.124     , 5.16533333,\n",
       "       5.20666667, 5.248     , 5.28933333, 5.33066667, 5.372     ,\n",
       "       5.41333333, 5.45466667, 5.496     , 5.53733333, 5.57866667,\n",
       "       5.62      , 5.66133333, 5.70266667, 5.744     , 5.78533333,\n",
       "       5.82666667, 5.868     , 5.90933333, 5.95066667, 5.992     ,\n",
       "       6.03333333, 6.07466667, 6.116     , 6.15733333, 6.19866667,\n",
       "       6.24      ])"
      ]
     },
     "execution_count": 12,
     "metadata": {},
     "output_type": "execute_result"
    }
   ],
   "source": [
    "train_inst"
   ]
  },
  {
   "cell_type": "code",
   "execution_count": 13,
   "metadata": {},
   "outputs": [
    {
     "data": {
      "text/plain": [
       "[<matplotlib.lines.Line2D at 0x27afdba8a20>]"
      ]
     },
     "execution_count": 13,
     "metadata": {},
     "output_type": "execute_result"
    },
    {
     "data": {
      "image/png": "[encoded data removed]",
      "text/plain": [
       "<Figure size 432x288 with 1 Axes>"
      ]
     },
     "metadata": {},
     "output_type": "display_data"
    }
   ],
   "source": [
    "plt.title('A TRAINING INSTANCE')\n",
    "plt.plot(train_inst[:-1], ts_data.ret_true(train_inst[:-1]), 'bo', markersize=15, alpha=0.5, label=\"INSTANCE\")\n",
    "plt.plot(train_inst[1:], ts_data.ret_true(train_inst[1:]), 'ko', markersize=7, label='TARGET')"
   ]
  },
  {
   "cell_type": "code",
   "execution_count": 14,
   "metadata": {},
   "outputs": [],
   "source": [
    "num_inputs = 1 # obviously we are feeding in only one data at a time"
   ]
  },
  {
   "cell_type": "code",
   "execution_count": 15,
   "metadata": {},
   "outputs": [],
   "source": [
    "num_neurons = 100"
   ]
  },
  {
   "cell_type": "code",
   "execution_count": 16,
   "metadata": {},
   "outputs": [],
   "source": [
    "num_outputs = 1"
   ]
  },
  {
   "cell_type": "code",
   "execution_count": 17,
   "metadata": {},
   "outputs": [],
   "source": [
    "learning_rate = 0.0001"
   ]
  },
  {
   "cell_type": "code",
   "execution_count": 18,
   "metadata": {},
   "outputs": [],
   "source": [
    "num_train_iterations = 2000"
   ]
  },
  {
   "cell_type": "code",
   "execution_count": 19,
   "metadata": {},
   "outputs": [],
   "source": [
    "batch_size = 1"
   ]
  },
  {
   "cell_type": "code",
   "execution_count": 20,
   "metadata": {},
   "outputs": [],
   "source": [
    "# PLACEHOLDERS\n",
    "X = tf.placeholder(tf.float32, [None, num_time_steps, num_inputs])"
   ]
  },
  {
   "cell_type": "code",
   "execution_count": 21,
   "metadata": {},
   "outputs": [],
   "source": [
    "y = tf.placeholder(tf.float32, [None, num_time_steps, num_outputs])"
   ]
  },
  {
   "cell_type": "code",
   "execution_count": 22,
   "metadata": {},
   "outputs": [],
   "source": [
    "# RNN Cell Layer"
   ]
  },
  {
   "cell_type": "code",
   "execution_count": 23,
   "metadata": {},
   "outputs": [
    {
     "name": "stdout",
     "output_type": "stream",
     "text": [
      "WARNING:tensorflow:From C:\\Users\\Rajdeep\\AppData\\Local\\conda\\conda\\envs\\tfdeeplearning\\lib\\site-packages\\tensorflow\\contrib\\learn\\python\\learn\\datasets\\base.py:198: retry (from tensorflow.contrib.learn.python.learn.datasets.base) is deprecated and will be removed in a future version.\n",
      "Instructions for updating:\n",
      "Use the retry module or similar alternatives.\n"
     ]
    }
   ],
   "source": [
    "cell = tf.contrib.rnn.BasicRNNCell(num_units=num_neurons, activation=tf.nn.relu)\n",
    "# here remember that we only require one output however we are using 100 neurons, so in order to have only one output\n",
    "# from these 100 neurons we would use a OutputProjectionWrapper\n",
    "cell = tf.contrib.rnn.OutputProjectionWrapper(cell, output_size=num_outputs)"
   ]
  },
  {
   "cell_type": "code",
   "execution_count": 24,
   "metadata": {},
   "outputs": [],
   "source": [
    "outputs, states = tf.nn.dynamic_rnn(cell, X, dtype=tf.float32)"
   ]
  },
  {
   "cell_type": "code",
   "execution_count": 25,
   "metadata": {},
   "outputs": [],
   "source": [
    "# finally we would need a loss function and an optimizer"
   ]
  },
  {
   "cell_type": "code",
   "execution_count": 26,
   "metadata": {},
   "outputs": [],
   "source": [
    "# MEAN SQUARED ERROR as loss function\n",
    "loss = tf.reduce_mean(tf.square(outputs-y))"
   ]
  },
  {
   "cell_type": "code",
   "execution_count": 27,
   "metadata": {},
   "outputs": [],
   "source": [
    "optimizer = tf.train.AdamOptimizer(learning_rate=learning_rate)"
   ]
  },
  {
   "cell_type": "code",
   "execution_count": 28,
   "metadata": {},
   "outputs": [],
   "source": [
    "train = optimizer.minimize(loss)"
   ]
  },
  {
   "cell_type": "code",
   "execution_count": 29,
   "metadata": {},
   "outputs": [],
   "source": [
    "init = tf.global_variables_initializer()"
   ]
  },
  {
   "cell_type": "code",
   "execution_count": 30,
   "metadata": {},
   "outputs": [],
   "source": [
    "# SESSION"
   ]
  },
  {
   "cell_type": "code",
   "execution_count": 31,
   "metadata": {},
   "outputs": [],
   "source": [
    "saver = tf.train.Saver() # this simply allows me to save my model"
   ]
  },
  {
   "cell_type": "code",
   "execution_count": 32,
   "metadata": {},
   "outputs": [
    {
     "name": "stdout",
     "output_type": "stream",
     "text": [
      "0 \tMSE 0.7018919\n",
      "100 \tMSE 0.26261777\n",
      "200 \tMSE 0.020826455\n",
      "300 \tMSE 0.02161192\n",
      "400 \tMSE 0.023107413\n",
      "500 \tMSE 0.0018820777\n",
      "600 \tMSE 0.011073923\n",
      "700 \tMSE 0.018019726\n",
      "800 \tMSE 0.0013283378\n",
      "900 \tMSE 0.0058432324\n",
      "1000 \tMSE 0.00047826295\n",
      "1100 \tMSE 0.013456751\n",
      "1200 \tMSE 0.01556621\n",
      "1300 \tMSE 0.0010926073\n",
      "1400 \tMSE 0.0012249487\n",
      "1500 \tMSE 0.00781446\n",
      "1600 \tMSE 0.0014339543\n",
      "1700 \tMSE 0.0057246867\n",
      "1800 \tMSE 0.0029333434\n",
      "1900 \tMSE 0.01026277\n"
     ]
    }
   ],
   "source": [
    "with tf.Session() as sess: # this is obviosuly the training phase, as you could see here \n",
    "    sess.run(init)\n",
    "    for iteration in range(num_train_iterations):\n",
    "        X_batch, y_batch = ts_data.next_batch(batch_size=batch_size, steps=num_time_steps)\n",
    "        sess.run(train, feed_dict={X:X_batch, y:y_batch})\n",
    "        if iteration % 100 == 0:\n",
    "            mse = loss.eval(feed_dict={X:X_batch, y:y_batch})\n",
    "            print(iteration, \"\\tMSE\", mse)\n",
    "            \n",
    "        saver.save(sess, \"./rnn_time_series_model_sin_timeseries\")"
   ]
  },
  {
   "cell_type": "code",
   "execution_count": null,
   "metadata": {},
   "outputs": [],
   "source": [
    "# Note that we can actually directly change the rnn cell from basicrnn to gru cells and we do not need to change anything \n",
    "# else. "
   ]
  },
  {
   "cell_type": "code",
   "execution_count": null,
   "metadata": {},
   "outputs": [],
   "source": []
  }
 ],
 "metadata": {
  "kernelspec": {
   "display_name": "Python 3",
   "language": "python",
   "name": "python3"
  },
  "language_info": {
   "codemirror_mode": {
    "name": "ipython",
    "version": 3
   },
   "file_extension": ".py",
   "mimetype": "text/x-python",
   "name": "python",
   "nbconvert_exporter": "python",
   "pygments_lexer": "ipython3",
   "version": "3.5.5"
  }
 },
 "nbformat": 4,
 "nbformat_minor": 2
}
